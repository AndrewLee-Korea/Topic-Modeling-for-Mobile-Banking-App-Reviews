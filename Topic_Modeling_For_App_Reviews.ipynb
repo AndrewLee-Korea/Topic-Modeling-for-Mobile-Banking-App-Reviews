{
  "nbformat": 4,
  "nbformat_minor": 0,
  "metadata": {
    "colab": {
      "provenance": []
    },
    "kernelspec": {
      "name": "python3",
      "display_name": "Python 3"
    },
    "language_info": {
      "name": "python"
    }
  },
  "cells": [
    {
      "cell_type": "markdown",
      "source": [
        "# Topic Modeling for App Reviews\n",
        "### Natural Language Processing (NLP) Project — Korean Financial Mobile Applications\n",
        "*Author: Yongjun (Andrew) Lee, KSFC\n",
        "\n",
        "This notebook demonstrates an end-to-end Korean natural language processing (NLP) pipeline that performs **topic modeling** on mobile app user reviews using **Latent Dirichlet Allocation (LDA)**.  \n",
        "It aims to extract meaningful insights from user feedback to guide **UX improvement** and **service innovation** in digital banking platforms."
      ],
      "metadata": {
        "id": "haRL0DA9LgP4"
      }
    },
    {
      "cell_type": "code",
      "source": [
        "import warnings, logging, sys, os\n",
        "\n",
        "# 1. Suppress all Python-level DeprecationWarnings globally\n",
        "warnings.filterwarnings(\"ignore\", category=DeprecationWarning)\n",
        "\n",
        "# 2. Disable noisy loggers commonly triggered inside Jupyter/Colab\n",
        "logging.getLogger(\"asyncio\").setLevel(logging.ERROR)\n",
        "logging.getLogger(\"tornado\").setLevel(logging.ERROR)\n",
        "logging.getLogger(\"jupyter_client\").setLevel(logging.ERROR)\n",
        "\n",
        "# 3. Redirect stderr to /dev/null to silence residual warnings\n",
        "sys.stderr = open(os.devnull, \"w\")\n",
        "\n",
        "# 4. Explicitly ignore the specific datetime.utcnow() deprecation warning\n",
        "warnings.filterwarnings(\n",
        "    \"ignore\",\n",
        "    message=\"datetime.datetime.utcnow() is deprecated\",\n",
        "    category=DeprecationWarning\n",
        ")\n",
        "\n",
        "print(\"✅ Deprecation warnings (utcnow) completely suppressed.\")"
      ],
      "metadata": {
        "colab": {
          "base_uri": "https://localhost:8080/"
        },
        "id": "03T-3aajOxW6",
        "outputId": "358be004-a72d-4e22-8ffc-fdfb166973d5"
      },
      "execution_count": 1,
      "outputs": [
        {
          "output_type": "stream",
          "name": "stdout",
          "text": [
            "✅ Deprecation warnings (utcnow) completely suppressed.\n"
          ]
        }
      ]
    },
    {
      "cell_type": "code",
      "source": [
        "# Install all required dependencies\n",
        "!pip install --upgrade pip\n",
        "!pip install \"scipy<1.13\"  # rollback to compatible version\n",
        "!pip install pandas numpy matplotlib\n",
        "!pip install konlpy\n",
        "!pip install gensim==4.3.2\n",
        "!pip install pyLDAvis==3.4.1\n",
        "!pip install openpyxl  # for reading Excel files\n",
        "!pip install JPype1  # required for KoNLPy (Java bridge)"
      ],
      "metadata": {
        "colab": {
          "base_uri": "https://localhost:8080/"
        },
        "id": "SnxIFUgGdYZz",
        "outputId": "884ad60d-de89-47fb-9c51-f4e634b0e1c0"
      },
      "execution_count": 2,
      "outputs": [
        {
          "output_type": "stream",
          "name": "stdout",
          "text": [
            "Requirement already satisfied: pip in /usr/local/lib/python3.12/dist-packages (25.2)\n",
            "Requirement already satisfied: scipy<1.13 in /usr/local/lib/python3.12/dist-packages (1.12.0)\n",
            "Requirement already satisfied: numpy<1.29.0,>=1.22.4 in /usr/local/lib/python3.12/dist-packages (from scipy<1.13) (1.26.4)\n",
            "Requirement already satisfied: pandas in /usr/local/lib/python3.12/dist-packages (2.2.2)\n",
            "Requirement already satisfied: numpy in /usr/local/lib/python3.12/dist-packages (1.26.4)\n",
            "Requirement already satisfied: matplotlib in /usr/local/lib/python3.12/dist-packages (3.10.0)\n",
            "Requirement already satisfied: python-dateutil>=2.8.2 in /usr/local/lib/python3.12/dist-packages (from pandas) (2.9.0.post0)\n",
            "Requirement already satisfied: pytz>=2020.1 in /usr/local/lib/python3.12/dist-packages (from pandas) (2025.2)\n",
            "Requirement already satisfied: tzdata>=2022.7 in /usr/local/lib/python3.12/dist-packages (from pandas) (2025.2)\n",
            "Requirement already satisfied: contourpy>=1.0.1 in /usr/local/lib/python3.12/dist-packages (from matplotlib) (1.3.3)\n",
            "Requirement already satisfied: cycler>=0.10 in /usr/local/lib/python3.12/dist-packages (from matplotlib) (0.12.1)\n",
            "Requirement already satisfied: fonttools>=4.22.0 in /usr/local/lib/python3.12/dist-packages (from matplotlib) (4.60.1)\n",
            "Requirement already satisfied: kiwisolver>=1.3.1 in /usr/local/lib/python3.12/dist-packages (from matplotlib) (1.4.9)\n",
            "Requirement already satisfied: packaging>=20.0 in /usr/local/lib/python3.12/dist-packages (from matplotlib) (25.0)\n",
            "Requirement already satisfied: pillow>=8 in /usr/local/lib/python3.12/dist-packages (from matplotlib) (11.3.0)\n",
            "Requirement already satisfied: pyparsing>=2.3.1 in /usr/local/lib/python3.12/dist-packages (from matplotlib) (3.2.5)\n",
            "Requirement already satisfied: six>=1.5 in /usr/local/lib/python3.12/dist-packages (from python-dateutil>=2.8.2->pandas) (1.17.0)\n",
            "Requirement already satisfied: konlpy in /usr/local/lib/python3.12/dist-packages (0.6.0)\n",
            "Requirement already satisfied: JPype1>=0.7.0 in /usr/local/lib/python3.12/dist-packages (from konlpy) (1.6.0)\n",
            "Requirement already satisfied: lxml>=4.1.0 in /usr/local/lib/python3.12/dist-packages (from konlpy) (5.4.0)\n",
            "Requirement already satisfied: numpy>=1.6 in /usr/local/lib/python3.12/dist-packages (from konlpy) (1.26.4)\n",
            "Requirement already satisfied: packaging in /usr/local/lib/python3.12/dist-packages (from JPype1>=0.7.0->konlpy) (25.0)\n",
            "Requirement already satisfied: gensim==4.3.2 in /usr/local/lib/python3.12/dist-packages (4.3.2)\n",
            "Requirement already satisfied: numpy>=1.18.5 in /usr/local/lib/python3.12/dist-packages (from gensim==4.3.2) (1.26.4)\n",
            "Requirement already satisfied: scipy>=1.7.0 in /usr/local/lib/python3.12/dist-packages (from gensim==4.3.2) (1.12.0)\n",
            "Requirement already satisfied: smart_open>=1.8.1 in /usr/local/lib/python3.12/dist-packages (from gensim==4.3.2) (7.3.1)\n",
            "Requirement already satisfied: wrapt in /usr/local/lib/python3.12/dist-packages (from smart_open>=1.8.1->gensim==4.3.2) (1.17.3)\n",
            "Requirement already satisfied: pyLDAvis==3.4.1 in /usr/local/lib/python3.12/dist-packages (3.4.1)\n",
            "Requirement already satisfied: numpy>=1.24.2 in /usr/local/lib/python3.12/dist-packages (from pyLDAvis==3.4.1) (1.26.4)\n",
            "Requirement already satisfied: scipy in /usr/local/lib/python3.12/dist-packages (from pyLDAvis==3.4.1) (1.12.0)\n",
            "Requirement already satisfied: pandas>=2.0.0 in /usr/local/lib/python3.12/dist-packages (from pyLDAvis==3.4.1) (2.2.2)\n",
            "Requirement already satisfied: joblib>=1.2.0 in /usr/local/lib/python3.12/dist-packages (from pyLDAvis==3.4.1) (1.5.2)\n",
            "Requirement already satisfied: jinja2 in /usr/local/lib/python3.12/dist-packages (from pyLDAvis==3.4.1) (3.1.6)\n",
            "Requirement already satisfied: numexpr in /usr/local/lib/python3.12/dist-packages (from pyLDAvis==3.4.1) (2.14.1)\n",
            "Requirement already satisfied: funcy in /usr/local/lib/python3.12/dist-packages (from pyLDAvis==3.4.1) (2.0)\n",
            "Requirement already satisfied: scikit-learn>=1.0.0 in /usr/local/lib/python3.12/dist-packages (from pyLDAvis==3.4.1) (1.6.1)\n",
            "Requirement already satisfied: gensim in /usr/local/lib/python3.12/dist-packages (from pyLDAvis==3.4.1) (4.3.2)\n",
            "Requirement already satisfied: setuptools in /usr/local/lib/python3.12/dist-packages (from pyLDAvis==3.4.1) (75.2.0)\n",
            "Requirement already satisfied: python-dateutil>=2.8.2 in /usr/local/lib/python3.12/dist-packages (from pandas>=2.0.0->pyLDAvis==3.4.1) (2.9.0.post0)\n",
            "Requirement already satisfied: pytz>=2020.1 in /usr/local/lib/python3.12/dist-packages (from pandas>=2.0.0->pyLDAvis==3.4.1) (2025.2)\n",
            "Requirement already satisfied: tzdata>=2022.7 in /usr/local/lib/python3.12/dist-packages (from pandas>=2.0.0->pyLDAvis==3.4.1) (2025.2)\n",
            "Requirement already satisfied: six>=1.5 in /usr/local/lib/python3.12/dist-packages (from python-dateutil>=2.8.2->pandas>=2.0.0->pyLDAvis==3.4.1) (1.17.0)\n",
            "Requirement already satisfied: threadpoolctl>=3.1.0 in /usr/local/lib/python3.12/dist-packages (from scikit-learn>=1.0.0->pyLDAvis==3.4.1) (3.6.0)\n",
            "Requirement already satisfied: smart_open>=1.8.1 in /usr/local/lib/python3.12/dist-packages (from gensim->pyLDAvis==3.4.1) (7.3.1)\n",
            "Requirement already satisfied: wrapt in /usr/local/lib/python3.12/dist-packages (from smart_open>=1.8.1->gensim->pyLDAvis==3.4.1) (1.17.3)\n",
            "Requirement already satisfied: MarkupSafe>=2.0 in /usr/local/lib/python3.12/dist-packages (from jinja2->pyLDAvis==3.4.1) (3.0.3)\n",
            "Requirement already satisfied: openpyxl in /usr/local/lib/python3.12/dist-packages (3.1.5)\n",
            "Requirement already satisfied: et-xmlfile in /usr/local/lib/python3.12/dist-packages (from openpyxl) (2.0.0)\n",
            "Requirement already satisfied: JPype1 in /usr/local/lib/python3.12/dist-packages (1.6.0)\n",
            "Requirement already satisfied: packaging in /usr/local/lib/python3.12/dist-packages (from JPype1) (25.0)\n"
          ]
        }
      ]
    },
    {
      "cell_type": "code",
      "source": [
        "import pandas as pd\n",
        "import numpy as np\n",
        "import html\n",
        "\n",
        "import re\n",
        "os.environ[\"JAVA_HOME\"] = \"/usr/lib/jvm/java-17-openjdk-amd64\"\n",
        "\n",
        "from datetime import datetime\n",
        "from pprint import pprint\n",
        "\n",
        "from konlpy.tag import Komoran\n",
        "import gensim, pyLDAvis\n",
        "print(\"OK:\", gensim.__version__, pyLDAvis.__version__)\n",
        "\n",
        "from gensim.models import Word2Vec, LdaModel, TfidfModel,CoherenceModel\n",
        "from gensim.corpora import Dictionary\n",
        "\n",
        "import pyLDAvis.gensim_models as gensimvis  # correct import for pyLDAvis 3.x\n",
        "\n",
        "import matplotlib.pyplot as plt"
      ],
      "metadata": {
        "colab": {
          "base_uri": "https://localhost:8080/"
        },
        "id": "y4LIZYwCdx48",
        "outputId": "37a5afbb-a840-48c8-d255-a3c7f7b7483c"
      },
      "execution_count": 3,
      "outputs": [
        {
          "output_type": "stream",
          "name": "stdout",
          "text": [
            "OK: 4.3.2 3.4.0\n"
          ]
        }
      ]
    },
    {
      "cell_type": "markdown",
      "source": [
        "## 1. Data Cleaning and Normalization\n",
        "This section cleans raw text from mobile app user reviews by:\n",
        "- Removing HTML entities and URLs  \n",
        "- Normalizing spacing, casing, and symbols  \n",
        "- Standardizing domain-specific terminology (e.g., “공동인증서” → “Digital Certificate”)  "
      ],
      "metadata": {
        "id": "W9MgRUXNidso"
      }
    },
    {
      "cell_type": "code",
      "source": [
        "def display_features(features, feature_names):\n",
        "    df = pd.DataFrame(data=features, columns=feature_names)\n",
        "    print(df)\n",
        "\n",
        "def get_sentences( text ) :\n",
        "    # 0. Restore HTML entities\n",
        "    text = html.unescape(text)\n",
        "\n",
        "    # 1. Remove URLs\n",
        "    sentences = re.sub(r\"https?://\\S+|www\\.\\S+\", \" \", text)\n",
        "\n",
        "    # 2. Replace remaining control characters after HTML unescape\n",
        "    sentences = re.sub(r'[\\t\\r\\f\\n]+', ' ', sentences)\n",
        "\n",
        "    # 3. Keep only English, Korean, digits, and spaces\n",
        "    sentences = re.sub(r'[^A-Za-z0-9가-힣 ]', ' ', sentences)\n",
        "\n",
        "    # 4. Normalize whitespace\n",
        "    sentences = re.sub(r'\\s+', ' ', sentences).strip()\n",
        "\n",
        "    # 5. Convert to uppercase\n",
        "    sentences = sentences.upper()\n",
        "\n",
        "    # 6. Apply domain-specific replacements (using negative lookahead to avoid over-replacement)\n",
        "    replace_patterns = [\n",
        "        # Digital certificate PKI\n",
        "        (r'공인\\s*인증\\s*서',  '공동인증서'),\n",
        "        (r'공동\\s*인증\\s*서',  '공동인증서'),\n",
        "        (r'금융\\s*인증\\s*서',  '금융인증서'),\n",
        "\n",
        "        # Replace \"... 인증\" → standard form (exclude if followed by \"서\")\n",
        "        (r'공인\\s*인증(?!서)',  '공동인증서'),\n",
        "        (r'공동\\s*인증(?!서)',  '공동인증서'),\n",
        "        (r'금융\\s*인증(?!서)',  '금융인증서'),\n",
        "\n",
        "        (r'간편\\s*비밀번호',   '간편인증'),\n",
        "        (r'패턴\\s*인증',       '간편인증'),\n",
        "        (r'바이오\\s*인증',     '바이오인증'),\n",
        "        (r'지문\\s*인증',       '바이오인증'),\n",
        "        (r'얼굴\\s*인증',       '바이오인증'),\n",
        "        (r'본인\\s*인증',       '본인인증'),\n",
        "        (r'본인\\s*확인',       '본인인증'),\n",
        "        (r'계좌\\s*인증',       '계좌인증'),\n",
        "        (r'1원\\s*인증',       '계좌인증'),\n",
        "\n",
        "        #(r'주민\\s*등록증',     '신분증'),\n",
        "        #(r'운전\\s*면허증',     '신분증'),\n",
        "\n",
        "        (r'비번',              '비밀번호'),\n",
        "\n",
        "        # Case-insensitive English normalization\n",
        "        (r'(?i:\\bID\\b)',       'ID'),\n",
        "        (r'(?i:\\bPW\\b)',       '비밀번호'),\n",
        "        (r'(?i:\\bUI\\b)',       'UI'),\n",
        "        (r'(?i:\\bUX\\b)',       'UX'),\n",
        "        (r'어플|애플리케이션|에플리케이션|(?i:\\bAPP\\b)', '앱'),\n",
        "\n",
        "        (r'한국\\s*증권\\s*금융|한국\\s*금융\\s*증권|증권\\s*금융|증금', '한국증권금융'),\n",
        "        (r'튕기', '튕김'),\n",
        "        (r'공공\\s*기관',  '공공기관'),\n",
        "        (r'타\\s*기관',  '타기관'),\n",
        "        (r'고객\\s*정보',  '고객정보'),\n",
        "\n",
        "        # Word-boundary protection using lookaround\n",
        "        (r'(?<![가-힣A-Za-z0-9])우리\\s*사주(?![가-힣A-Za-z0-9])', '우리사주'),\n",
        "        (r'(?<![가-힣A-Za-z0-9])비대면\\s*가입(?![가-힣A-Za-z0-9])', '가입'),\n",
        "        (r'(?<![가-힣A-Za-z0-9])회원\\s*가입(?![가-힣A-Za-z0-9])',   '가입'),\n",
        "        (r'(?<![가-힣A-Za-z0-9])상품\\s*가입(?![가-힣A-Za-z0-9])',   '가입'),\n",
        "        (r'(?<![가-힣A-Za-z0-9])주민\\s*등록증(?![가-힣A-Za-z0-9])', '신분증'),\n",
        "        (r'(?<![가-힣A-Za-z0-9])운전\\s*면허증(?![가-힣A-Za-z0-9])', '신분증'),\n",
        "\n",
        "        (r'우리사주\\s*뱅킹', '우리사주뱅킹'),\n",
        "        (r'사주\\s*뱅킹',    '우리사주뱅킹'),\n",
        "        (r'인터넷\\s*뱅킹',  '인터넷뱅킹'),\n",
        "        (r'모바일\\s*뱅킹',  '모바일뱅킹'),\n",
        "\n",
        "        (r'슈레기|쉬레기임|쉬레기|RUBBISH|쓰래기', '쓰레기'),\n",
        "        (r'에러', '오류'),\n",
        "    ]\n",
        "\n",
        "    # Apply compiled replacement patterns sequentially\n",
        "    for patt, repl in replace_patterns:\n",
        "        sentences = re.sub(patt, repl, sentences)\n",
        "\n",
        "    return sentences\n",
        "\n",
        "# Extract POS tags from Komoran\n",
        "def get_pos_tags(komoran, docs):\n",
        "    morph_list = []\n",
        "    for sentence in docs:\n",
        "        s = sentence.strip()\n",
        "        if not s:\n",
        "            continue\n",
        "        try:\n",
        "            morph_list.append(komoran.pos(s))\n",
        "        except Exception as e:\n",
        "            print('error : ', s)\n",
        "    return morph_list\n",
        "\n",
        "\n",
        "# Extract Korean common and proper nouns (NNG, NNP)\n",
        "def get_NNG_NNP_words(morphs_list, stop_words_list=None):\n",
        "    if stop_words_list is None:\n",
        "        stop_words_list = set()\n",
        "    NNG_NNP_words = []\n",
        "    for morphs in morphs_list:\n",
        "        item = []\n",
        "        for word, tag in morphs:\n",
        "            if tag in ('NNG', 'NNP'):\n",
        "                if len(word) <= 1 or word.isnumeric():   # 항상 길이 필터 적용\n",
        "                    continue\n",
        "                if word in stop_words_list:\n",
        "                    continue\n",
        "                item.append(word)\n",
        "        NNG_NNP_words.append(item)\n",
        "    return NNG_NNP_words\n",
        "\n",
        "\n",
        "# 1) Domain-specific compound noun dictionary (final forms only)\n",
        "TERM_TO_TAG = {\n",
        "    \"인증서\": \"NNG\",\n",
        "    \"인증센터\": \"NNG\",\n",
        "    \"공동인증서\": \"NNP\",\n",
        "    \"금융인증서\": \"NNG\",\n",
        "    \"간편인증\": \"NNG\",\n",
        "    \"바이오인증\": \"NNG\",\n",
        "    \"본인인증\": \"NNG\",\n",
        "    \"신분증\": \"NNG\",\n",
        "    \"운전면허증\": \"NNP\",\n",
        "    \"주민등록증\": \"NNP\",\n",
        "    \"한국증권금융\": \"NNP\",\n",
        "    \"우리사주\": \"NNG\",\n",
        "    \"계좌인증\": \"NNG\",\n",
        "    \"1원인증\": \"NNG\",\n",
        "    \"인터넷뱅킹\": \"NNG\",\n",
        "    \"우리사주뱅킹\": \"NNG\",\n",
        "    \"모바일뱅킹\": \"NNG\",\n",
        "    \"파킹통장\": \"NNG\",\n",
        "    \"무결성\": \"NNG\",\n",
        "    \"리뉴얼\": \"NNG\",\n",
        "    \"로그인\": \"NNG\",\n",
        "    \"비밀번호\":\"NNG\",\n",
        "    \"버퍼링\":\"NNG\",\n",
        "    \"비대면\":\"NNG\",\n",
        "    #\"회원가입\":\"NNG\",\n",
        "    #\"상품가입\":\"NNG\",\n",
        "    \"가입\":\"NNG\",\n",
        "    \"공공기관\":\"NNG\",\n",
        "    \"금융기관\":\"NNG\",\n",
        "    \"타기관\":\"NNG\",\n",
        "    \"고객정보\":\"NNG\",\n",
        "\n",
        "    \"재설치\":\"NNG\",\n",
        "    \"재시도\": \"NNG\",\n",
        "\n",
        "    \"UI\":\"NNG\",\n",
        "    \"UX\":\"NNG\",\n",
        "    \"ID\": \"NNG\"\n",
        "}\n",
        "\n",
        "# Normalize candidate tokens (fix spacing or Jamo issues)\n",
        "def _normalize_candidate(cand: str) -> str:\n",
        "\n",
        "    cand = cand.replace(\" \", \"\")\n",
        "    cand = cand.replace(\"이ㄴ\", \"인\")\n",
        "    cand = cand.replace(\"비대이면\", \"비대면\")\n",
        "    cand = cand.replace(\"로그인창\", \"로그인창\")\n",
        "    cand = cand.replace(\"로그인\", \"로그인\")\n",
        "    cand = cand.replace(\"버퍼링\", \"버퍼링\")\n",
        "    cand = cand.replace(\"비밀번호\", \"비밀번호\")\n",
        "    cand = cand.replace(\"아이디\", \"ID\")\n",
        "    return cand\n",
        "\n",
        "# Combine tokens into a surface form without spaces\n",
        "def _join_surface(tokens):\n",
        "    return ''.join(w.replace(' ', '') for w, _ in tokens)\n",
        "\n",
        "# List of Korean postpositions (from longest to shortest)\n",
        "JOSA = [\"으로써\",\"으로서\",\"으로\",\"으로는\",\"에게서\",\"에게\",\"에서\",\"에는\",\"에는\",\n",
        "        \"까지\",\"부터\",\"라도\",\"라도\",\"라도\",\"라고\",\"처럼\",\"만큼\",\n",
        "        \"에게\",\"에게는\",\"에게도\",\"보다\",\"보다도\",\n",
        "        \"이라고\",\"이라고는\",\"이란\",\"이랑\",\"으로도\",\n",
        "        \"이가\",\"이는\",\"이도\",\"이를\",\"으로서\",\"으로써\",\n",
        "        \"이가\",\"은\",\"는\",\"이\",\"가\",\"을\",\"를\",\"과\",\"와\",\"도\",\"만\",\"에\",\"의\"]\n",
        "\n",
        "def split_na_with_josa(token):\n",
        "    \"\"\" Split tokens ending with postpositions, e.g., ('앱이','NA') → [('앱','NNG'), ('이','JKS')] \"\"\"\n",
        "    w, t = token\n",
        "    if t != \"NA\":\n",
        "        return [token]\n",
        "\n",
        "    # Match longest postpositions first\n",
        "    for js in sorted(JOSA, key=len, reverse=True):\n",
        "        if w.endswith(js) and len(w) > len(js):\n",
        "            stem = w[:-len(js)]\n",
        "            # '앱'같은 도메인 stem 리태깅\n",
        "            if stem == \"앱\":\n",
        "                stem_tag = \"NNG\"\n",
        "            else:\n",
        "                stem_tag = \"NNG\"  # 기본값\n",
        "            # 조사 품사 대략 매핑\n",
        "            josa_tag = \"JKS\" if js in [\"이\",\"가\"] else \\\n",
        "                       \"JKO\" if js in [\"을\",\"를\"] else \\\n",
        "                       \"JX\"  if js in [\"은\",\"는\",\"도\",\"만\"] else \\\n",
        "                       \"JKB\" if js in [\"에\",\"에서\",\"에게\",\"으로\",\"로\",\"까지\",\"부터\",\"처럼\",\"만큼\",\"보다\"] else \\\n",
        "                       \"JC\"  if js in [\"과\",\"와\"] else \"JX\"\n",
        "            return [(stem, stem_tag), (js, josa_tag)]\n",
        "    return [token]\n",
        "\n",
        "# -------- Global configuration (to avoid re-creation on every call) --------\n",
        "SMALL_GLUE = {\n",
        "    (\"로\",\"그\",\"인\"): \"로그인\",\n",
        "    (\"버\",\"퍼\",\"링\"): \"버퍼링\",\n",
        "    (\"비\",\"밀\",\"번\",\"호\"): \"비밀번호\",\n",
        "    (\"아\",\"이\",\"디\"): \"아이디\",\n",
        "    (\"로그\",\"인\"): \"로그인\",\n",
        "    (\"버퍼\",\"링\"): \"버퍼링\",\n",
        "    (\"비\",\"밀\",\"번호\"): \"비밀번호\",\n",
        "\n",
        "    (\"공공\",\"기관\"): \"공공기관\",\n",
        "    (\"금융\",\"기관\"): \"금융기관\",\n",
        "    (\"타\",\"기관\"): \"타기관\",\n",
        "\n",
        "    (\"재\",\"설치\"): \"재설치\",\n",
        "    (\"재\",\"시도\"): \"재시도\",\n",
        "\n",
        "    # Extend as needed\n",
        "    (\"로그\",\"인창\"): \"로그인창\",\n",
        "    (\"로그\",\"인후\"): \"로그인후\",\n",
        "}\n",
        "\n",
        "def merge_compound_terms(pos_seq, term_to_tag=TERM_TO_TAG, max_len=5):\n",
        "    \"\"\"\n",
        "    Merge or correct compound terms within POS-tagged sequences.\n",
        "    e.g., [('공동','NNG'), ('이','VCP'), ('ㄴ','ETM'), ('증서','NNP')] → [('공동인증서','NNP')]\n",
        "    \"\"\"\n",
        "    merged = []\n",
        "    i, n = 0, len(pos_seq)\n",
        "\n",
        "    while i < n:\n",
        "        found = False\n",
        "\n",
        "        # 1) 1) Apply small glue rules first (up to 4 tokens)\n",
        "        for L in range(min(4, n - i), 2, -1):\n",
        "            chunk = tuple(w for w, _ in pos_seq[i:i+L])\n",
        "            if chunk in SMALL_GLUE:\n",
        "                glued = SMALL_GLUE[chunk]\n",
        "                glued_norm = _normalize_candidate(glued)\n",
        "                tag = term_to_tag.get(glued_norm, \"NNG\")\n",
        "                merged.append((glued_norm, tag))\n",
        "                i += L\n",
        "                found = True\n",
        "                break\n",
        "        if found:\n",
        "            continue\n",
        "\n",
        "        # 2) Domain-specific compound word dictionary (up to max_len tokens)\n",
        "        for L in range(min(max_len, n - i), 1, -1):\n",
        "            window = pos_seq[i:i+L]\n",
        "            cand = _join_surface(window)\n",
        "            cand = _normalize_candidate(cand)\n",
        "            if cand in term_to_tag:\n",
        "                merged.append((cand, term_to_tag[cand]))\n",
        "                i += L\n",
        "                found = True\n",
        "                break\n",
        "        if found:\n",
        "            continue\n",
        "\n",
        "        # 3) Default: keep current token (handle NA + postposition splitting)\n",
        "        w, t = pos_seq[i]\n",
        "        w_norm = w.replace(' ', '')\n",
        "\n",
        "        # If token type is \"NA\", split it by postposition (e.g., '앱이' → [('앱','NNG'),('이','JKS')])\n",
        "        parts = split_na_with_josa((w_norm, t)) if t == \"NA\" else [(w_norm, t)]\n",
        "\n",
        "        for pw, pt in parts:\n",
        "            # Force consistent tagging for domain-specific terms like '앱'\n",
        "            if pw == \"앱\" and pt in (\"NA\", \"NNP\", \"NNG\"):\n",
        "                merged.append((\"앱\", \"NNG\"))\n",
        "            else:\n",
        "                merged.append((pw, pt))\n",
        "\n",
        "        i += 1\n",
        "\n",
        "    return merged"
      ],
      "metadata": {
        "id": "7nBAVxUiMA71"
      },
      "execution_count": 4,
      "outputs": []
    },
    {
      "cell_type": "code",
      "source": [
        "# ----------------------------------------------------\n",
        "# [1] Configuration (Reusable by only modifying file paths & key parameters)\n",
        "# ----------------------------------------------------\n",
        "EXCEL_PATH      = '/content/drive/MyDrive/Data_Colab/all_reviews.xlsx'\n",
        "STOP_WORDS_PATH = '/content/drive/MyDrive/Data_Colab/stop_words_list.txt'\n",
        "DICTIONARY_PATH = '/content/drive/MyDrive/Data_Colab/dictionary.txt'\n",
        "DATA_PATH       = '/content/drive/MyDrive/Data_Colab/'\n",
        "RESULT_PATH       = '/content/drive/MyDrive/Result_Colab/'\n",
        "SHEET_NAME   = 'Sheet1'\n",
        "TEXT_COL     = 'content'            # Column name containing review text\n",
        "NUM_TOPICS   = 3                    # Number of topics (recommended: 3 or 4)\n",
        "NO_BELOW     = 5                    # Minimum term frequency threshold\n",
        "NUM_WORDS    = 10                   # Number of representative words per topic\n",
        "PASSES       = 10                   # Number of LDA training iterations\n",
        "RANDOM_STATE = 42                   # Random seed for reproducibility\n",
        "USE_MULTICORE = False               # Set True for large datasets to enable multi-core processing\n",
        "\n",
        "\n",
        "# ----------------------------------------------------\n",
        "# [2] Data Loading\n",
        "# ----------------------------------------------------\n",
        "from google.colab import drive\n",
        "drive.mount('/content/drive')  # Click “Allow” when prompted\n",
        "\n",
        "df = pd.read_excel(EXCEL_PATH, sheet_name=SHEET_NAME)\n",
        "print(df.head())"
      ],
      "metadata": {
        "colab": {
          "base_uri": "https://localhost:8080/"
        },
        "id": "4tRnS2b9TrsR",
        "outputId": "ac469109-98d1-4815-90e4-7ba3732a09b6"
      },
      "execution_count": 5,
      "outputs": [
        {
          "output_type": "stream",
          "name": "stdout",
          "text": [
            "Drive already mounted at /content/drive; to attempt to forcibly remount, call drive.mount(\"/content/drive\", force_remount=True).\n",
            "         date          author  \\\n",
            "0  2025-08-27             훈승채   \n",
            "1  2025-08-25  CHANG YOUP LEE   \n",
            "2  2025-08-25             정연균   \n",
            "3  2025-08-25    Chunghui Lee   \n",
            "4  2025-07-31             이영송   \n",
            "\n",
            "                                             content  rating        store  \n",
            "0                                 너무 편리하고 좋은 것 같습니다.       5  Google Play  \n",
            "1                                                좋아요       5  Google Play  \n",
            "2                                                좋아요       5  Google Play  \n",
            "3                                         잘 쓰고 있습니다.       5  Google Play  \n",
            "4  개정되고 편의성이 높아졌습니다! 상품 주요 정보도 한 눈에 보이고, 주사용 메뉴도 ...       5  Google Play  \n"
          ]
        }
      ]
    },
    {
      "cell_type": "code",
      "source": [
        "# =====================\n",
        "# [3] Load Stopword List\n",
        "# =====================\n",
        "with open(STOP_WORDS_PATH, 'r', encoding='utf-8') as f:\n",
        "    stop_words_set = { line.strip() for line in f if line.strip() }\n",
        "\n",
        "# Preview (show 10 sorted examples)\n",
        "print(sorted(list(stop_words_set))[:10])\n",
        "print(\"총 불용어 수:\", len(stop_words_set))"
      ],
      "metadata": {
        "colab": {
          "base_uri": "https://localhost:8080/"
        },
        "id": "zyWSvAXDcXXg",
        "outputId": "79d7cee1-7f35-4134-af64-d38d2158b827"
      },
      "execution_count": 6,
      "outputs": [
        {
          "output_type": "stream",
          "name": "stdout",
          "text": [
            "['가요', '간만', '개도', '건지', '사람', '사용', '시간', '실행', '아무', '업데이트']\n",
            "총 불용어 수: 23\n"
          ]
        }
      ]
    },
    {
      "cell_type": "code",
      "source": [
        "# =====================\n",
        "# [4] Cleasing words\n",
        "# =====================\n",
        "my_data_list=list()\n",
        "\n",
        "for sentence in df[TEXT_COL].fillna('') :\n",
        "    # Clean each review sentence using the get_sentences() function\n",
        "    my_data_list.append(get_sentences(sentence))\n",
        "my_data_list[:100]"
      ],
      "metadata": {
        "colab": {
          "base_uri": "https://localhost:8080/"
        },
        "id": "ciCuizP3FfYx",
        "outputId": "f71c63b7-2621-44af-c8fa-c09d7eed243d"
      },
      "execution_count": 7,
      "outputs": [
        {
          "output_type": "execute_result",
          "data": {
            "text/plain": [
              "['너무 편리하고 좋은 것 같습니다',\n",
              " '좋아요',\n",
              " '좋아요',\n",
              " '잘 쓰고 있습니다',\n",
              " '개정되고 편의성이 높아졌습니다 상품 주요 정보도 한 눈에 보이고 주사용 메뉴도 첫화면에 노출되니 쓰기 편하고 좋습니다',\n",
              " '원활하게 비대면 가입을 할 수 있어서 감사합니다',\n",
              " '별점 한개도 아깝습니다 앱 다시 만드세요 신분증 인증 40회만에 인증 성공 매번 이동 시 로그인 필수고 계좌인증 시 계좌 앱 인증번호 확인 후 증권사 앱 들어가면 무한 버퍼링 결국 앱 종료 밑에 글도 버퍼링이 심하다는 내용이 있는데 개선좀 해주세요',\n",
              " '무결성 검증실패',\n",
              " '과거에 비해서 많이 좋아졌내요 시중 금융권 앱과 비교되는 부분이 많았는데 디자인적으로나 기능적으로나 편하게 사용할 수 있어서 좋습니다 수고하세요',\n",
              " '도대체 신분증 어케등록함 30분내내 찍어올려도인증이안되네',\n",
              " '보기가 편하고 편리합니다',\n",
              " '파킹통장 금리가 좋네요',\n",
              " '생각보다 좋은거 같네요 잘 사용해보겠습니다',\n",
              " '리뉴얼되고 나서 더 편하고 나아졌어요',\n",
              " '최고네요',\n",
              " '대출 신상품 좋네요 앱도 좋아졌고',\n",
              " '시스템 개편이후 서비스가 넘 좋아졌습니다 굿 입니다요',\n",
              " '개편후 사용자 편의성이 너무 좋습니다 VERY VERY GOOD입니다',\n",
              " '훨씬 좋아졌어요 앱 계속 쓰고 있는데 아주 만족해요',\n",
              " '한국증권금융앱이 달라졌네요 전보다 훨씬 직관적인거 같아 좋습니다',\n",
              " '비밀번호를 몰라서 임시비밀번호로 로그인했는데 이전비밀번호를 넣어야한다는데 어떻게 해야하나요',\n",
              " '쓸 때마다 업데이트하라고 나오니깐 너무 짜증납니다 너무 자주 업데이트하지 마세요 꼭 필요한 것만 모아서 한 번에 해주셨으면 좋겠습니다',\n",
              " '여러 메뉴들이 잘 정리되어 있어서 편리한듯',\n",
              " '잘쓰고 있씁뉘다',\n",
              " '금리가 좋아서 자주 이용하고 있는데 최근 화면이나 편의성이 많이 개선되어서 사용하기 좋네요',\n",
              " 'UI가 보기 편하고 도움이 됩니다',\n",
              " '사용하기 좋은 앱입니다',\n",
              " '앱 관리좀 합시다',\n",
              " '가끔 들어가는데 디자인이 깔끔해졌네요',\n",
              " '앱이 훨씬 세련되고 안정적으로 개선되었습니다 전반적으로 인터페이스도 직관적이고 깔끔하게 변했습니다 앞으로도 자주 사용할 예정입니다',\n",
              " '평상시에 자주 키는데 편의성도 좋고 인터페이스도 좋아졌어요 은행앱과 비교해도 손색이 없네요 금리도 좋고 사용도 편리하니 앞으로 더 늘릴 예정입니다',\n",
              " '리뉴얼 하고나서 편의성이 많이 좋아진 것 같습니다',\n",
              " '사용한 지 꽤 오래된 모바일뱅킹 앱인데 최근 업데이트 이후 정말 많은 게 바뀌었네요 이전에는 깜박거림 현상이나 화면 디자인이 너무 오래되어 사용하면서 불편한 점이 많았었는데요 이제는 그런 문제가 모두 해결된 것 같아요 화면도 훨씬 깔끔하고 세련된 이미지를 가지게 되었고 전반적으로 현대적인 느낌이 드네요 특히 이전에는 인증 등록 중 오류가 자주 발생해서 스트레스 받았는데 지금은 이 부분도 개선되었어요 이번 업데이트를 통해 사용자 입장에서 더 편리하고 안정적인 환경이 조성된 것 같습니다',\n",
              " 'UI도 깔끔하고 직관적이어서 이용이 매우 용이합니다 대출 상품도 좋구요',\n",
              " '리뉴얼 후 사용성이 좋아졌네요',\n",
              " '새로운 업데이트 이후 앱이 더 안정적이고 빨라졌네요 공공기관스럽던 디자인도 개선되었어요 와이드예수금 금리가 괜찮아서 이용중인데 전체적으로 만족도가 높아졌습니다',\n",
              " '사용하기 편리해진 것 같아요 거래가 수월해서 좋네요',\n",
              " '원격조정앱이 감지된다며 안켜지는데 적어도 그게 먼 앱인지는 알려줘야 처리하지',\n",
              " '쓰레기',\n",
              " '앱쓰다 간만에 속 뒤집어 지는경험함 관리를 안하나봄 무한로그인 하다가 환장하는쥴',\n",
              " '굿',\n",
              " '개설에서 신분증에서 넘어가지도 않고 신청 이어할 거냐고 본인인증하라고 해서 했는데도 무한 반복이고 기본적인 버그조차 해결 못해서 정상적인 사용이 안 될 정도니 앱을 이렇게 밖에 못 만드나요',\n",
              " '최악이네 로그인에 인증서 등록하라는거 해도 계속 없다고 나오고 어휴 만든 사람 대머리 되라',\n",
              " '거지같은 앱 인증이 이렇게 복잡해서야 더럽네요 진짜 리뷰 쓰는건 처음이네',\n",
              " 'I 1 1',\n",
              " '이거되긴하나요 보이스피싱앱인줄알았네 계속렉걸리고 화면은넘어갔다 이전으로갔다',\n",
              " '오늘 가입하려고 했는데 못함 페이지마다 가입하지 말라고 버튼 조작이 안되네 지금깢 수많은 앱중에 가입을 못하게 하는 앱은 처음봄',\n",
              " '가입 할때 동의 비동의가 안눌러져요',\n",
              " '최악',\n",
              " '공무원이 만든건가 이따구지',\n",
              " '그놈의 인증 인증 별점 1점도 아까움',\n",
              " '지문등록 등 다른 방법으로 로그인 하는더 등록할때 오류가 너무 많이 많아서 10번 이상 시도 하고 재설치도 해봤으나 아직 안됨',\n",
              " '앱이 너무 무겁고 도대체 금융인증서 등록 로딩창에서 안넘어가는건 왜그런건지',\n",
              " '사용자입장에서 엄청불편합니다',\n",
              " '공동인증서가 타기관가 공유 되지가 않음 매번 받아야하니 불편함 사이트 자체가 너무 허접함',\n",
              " '매매 가능 시간에 매도가 안되는 증상에 빠르게 복구도 안되어서 손해보기 쉽습니다 거래 가능시간에 16350 정도하는 주식이 74000으로 이상하게 찍히며 매도 대상 주식으로 선택 되지도 않으니 이틀전까진 되던건데 20분째 안되네요',\n",
              " '편리함',\n",
              " '도대체 인터넷뱅킹 ID는 타금융을 말하는건지 정보찾기도없고 앱구동 너무 허접해요',\n",
              " '이거 별 2개이상 준 사람은 개발자 당사자지 무슨 메뉴만 선택하면 계속 로그인하래 10번도 넘게 로그인한듯',\n",
              " '로그인 지옥경험 쓰레기중에 쓰레기앱 이따구로 만들고 관리안하는거보면 안봐도 뻔하지뭐',\n",
              " '되돌이표 로그인 해서 거래하는 것도 아닌 조회를 하는것도 인정서 필요하다 하여 만들어서 진행하면 마지막인가 하면 다시 원위치 계속 뺑뺑이 무슨 인내력 시험하는 앱으로 평가하고 싶네요 하다가 성질나서 휴대폰 던질수도',\n",
              " '이렇게 만들기도 참 힘들듯 합니다',\n",
              " '로그인이 계속 풀립니다 이동할때마다 로그인 창이 뜹니다 매뉴 접근이 안됩니다 빠른 조치바랍니다',\n",
              " '땅짚고 헤엄치는 회사는 망해야됨 스팸앱도 이거보다 성의있게 만듦',\n",
              " '업데이트후 자동 로그아웃 공동인증서 사라짐 PC에서 보내기해도 앱에서는 받앟다고 뜨는데 로그인하면 오류 뜸 사람 인성테스트앱인가봄 어쩔 수없이 쓰긴쓰는데 확 마',\n",
              " '편하고 좋아요',\n",
              " '8EH',\n",
              " '와 답이 없는 앱',\n",
              " '바이오인증 계속 오류 뜸 미치고 환장할 앱',\n",
              " '지금 앱 접속이 안되는것 같은데 맞나요',\n",
              " '최악입니다 정말 쓰레기 앱 홈 페이지도 비슷한 수준',\n",
              " '진짜 답답하다 사주 단독 독점 아니었음 쓰지도 않을 앱',\n",
              " '최악의 앱',\n",
              " '피드백도 관리도 없고 사용자 편의성을 보장하지 않는 앱',\n",
              " '그냥 쓰레기입니다',\n",
              " '업데이트 후에 갑자기 원격조종앱이 발견되었다고 실행이 안되는데 무슨 앱인지는 알려줘야 지우던지 할거 아니오 뭐 이리 불친절해 낸장',\n",
              " '개발자는 테스트도 안하고 출시하나요 로그인 정상적으로 했고 기타 조회 할때마다 로그인 계속 하라고 하질 않나 뭐 되는게 하나도 없네',\n",
              " '정말 형편없는 앱이다 이따위 것을 만드는 비용이 아깝다',\n",
              " '웬만하면 나쁜 평가를 안할려고 하는데 이 앱은 좀 심각하다 다른 분들 평가처럼 느린건 둘째 치고 로그인하면 주기적으로 고객정보를 갱신해야 한다는 화면과 함께 정보갱신 화면으로 넘어가는데 다 입력하고 나면 다른방법으로 인증해야 한다는 메세지와 함께 등록이 안되고 인증센터를 가서 인증서를 등록하려고 하면 고객정보를 갱신해야 한다고 화면이 다시 정보갱신화면으로 돌아간다 아니 로그인 자체를 못하는데 어떻게 이용하라는 말인지 고객의 자금을 운영하는 앱이 이따위인데 회사의 운영을 믿을만한건지 모르겠다',\n",
              " '10점이 없네요 정말 최악입니다',\n",
              " '너무 불편하네요 예외처리가 왜이렇게 안되어있는건지 로그인 실패하면 온갖 팝업이 다뜨네요',\n",
              " '진짜 못만듬',\n",
              " '이렇게 접속이 안되는 앱은 처음봄',\n",
              " '앱 뿐만 아니라 한국증권금융 홈페이지도 심각한 수준입니다 서버 문제인지 메뉴 클릭하고 다음으로 이동이 수분이 걸릴 정도로 느리고 사용이 어려울 정도 입니다',\n",
              " '끔찍합니다 금융인증서 로그인에 아무리 클릭해도 진입이 안됩니다',\n",
              " '상당히 불편',\n",
              " '인간적으로 너무 하네 담당자 짤라야 할듯 담당자 개발테스트안함 이게 쓰라고 만든거 계속 반복 되잖아요',\n",
              " '회원가입후 아이디로 로그인후 인증센터 간편인증 비밀번호 설정시 신분증 촬영후 다음화면에서 계속 다운되네요 몇수십번 어찌해야 될지 난감하네요 앱을 만들고 테스트를 한건지 정말 짜증나네요',\n",
              " '와 진짜 개 쓰레기같이 만들었네요 진짜 허접합니다 투자좀 더하시죠',\n",
              " '이런앱은 전에도 없었고 앞으로도 없을 최악의 앱이다',\n",
              " '로그인 인증 무한반복이네요 짜증지대로 나네요',\n",
              " '뭘 할라하면 로그인을 하라하고 로그인할려하면 인증서센터를 하라그러고 인증센터에서 인증할려하면 로그인 하라그러고 무한 루프 반복 이게맞음 앱만든사람 직접 써보고 이따구로 만든건가 싶은디 불편한 정도가 아니라 그냥 못쓸정도입니다',\n",
              " '간단해서 좋았음',\n",
              " '공동인증서 등록해서 계속해서 로그인하고햇엇는데 갑자기 공동인증서가 없어졋다고나오네요 뭔일이죠',\n",
              " '로그인으로 조회 안될꺼면 회원가입이랑 본인인증은 왜 시키는거냐',\n",
              " '이딴 앱을 쓰라고 만든건가요 0점이 없어서 1점답니다 진짜 인간적으로 너무 불편합니다 터치횟수 화면수 로딩시간 최소한 타 금융 앱 비교 한번이라도 보고 개선좀 하세요 중복 프로세스는 왜그리 많은지 인증서 하나 발급하는 입력값 버튼 약관확인 진짜 환장 하네요',\n",
              " '정말 최악의 앱이다 정말로 전세계 최악순위 1위 등극 수준의 앱이다 부끄러움을 모르는 앱이다',\n",
              " '분명히 한달전쯤에저 인증서 새로 발급받고 업무처리 했는데 오늘 들어가니 인증서 없다고 나오네요 정말 문제가 많은 앱입니다',\n",
              " '앱도 뭣같이 만들어놨네 돌대가리들이 만들었나',\n",
              " '업데이트가 안되는데 어떻게하란거죠']"
            ]
          },
          "metadata": {},
          "execution_count": 7
        }
      ]
    },
    {
      "cell_type": "code",
      "source": [
        "try:\n",
        "    from kornounextractor.noun_extractor import extract\n",
        "    korean_noun_set = set()\n",
        "    for content in my_data_list:\n",
        "        # Use the preprocessed version for cleaner input\n",
        "        clean = get_sentences(content)\n",
        "        # The extract() function can take raw text,\n",
        "        # but using the cleaned version helps reduce noise.\n",
        "        nouns = extract(clean, freq=2)\n",
        "        if nouns:\n",
        "            korean_noun_set.update(nouns)\n",
        "\n",
        "    # Remove irrelevant or noisy tokens\n",
        "    for junk in (\"CO\", \"HTTPS\", \"HTTP\"):\n",
        "        if junk in korean_noun_set:\n",
        "            korean_noun_set.discard(junk)\n",
        "except Exception:\n",
        "    korean_noun_set = set()\n",
        "\n",
        "print(korean_noun_set)"
      ],
      "metadata": {
        "colab": {
          "base_uri": "https://localhost:8080/"
        },
        "id": "Y2JXzb8syfbO",
        "outputId": "4d72d3a6-d938-4c51-cf8d-3dcea987cf6a"
      },
      "execution_count": 8,
      "outputs": [
        {
          "output_type": "stream",
          "name": "stdout",
          "text": [
            "set()\n"
          ]
        }
      ]
    },
    {
      "cell_type": "code",
      "source": [
        "# NNG: General noun (common noun)\n",
        "# NNP: Proper noun (named entity)\n",
        "\n",
        "os.makedirs(os.path.dirname(DICTIONARY_PATH), exist_ok=True)\n",
        "\n",
        "with open(DICTIONARY_PATH, 'w', encoding='utf8') as f:\n",
        "    for word in sorted(korean_noun_set):\n",
        "        f.write(f\"{word}\\tNNG\\n\")\n",
        "\n",
        "    # Add domain-specific financial terms and standard forms\n",
        "    # Note: Only standardized terms are included.\n",
        "    # For example, “공인인증서” is unified as “공동인증서” during preprocessing,\n",
        "    # so both are not required in the dictionary.\n",
        "    add_dic = [\n",
        "        (\"고객정보\",\"NNG\"), (\"공동인증서\",\"NNP\"), (\"금융인증서\",\"NNG\"),\n",
        "        (\"간편인증\",\"NNG\"), (\"바이오인증\",\"NNG\"), (\"본인인증\",\"NNG\"),\n",
        "        (\"운전면허증\",\"NNP\"), (\"주민등록증\",\"NNP\"), (\"한국증권금융\",\"NNP\"),\n",
        "        (\"우리사주\",\"NNG\"), (\"계좌인증\",\"NNG\"), (\"1원인증\",\"NNG\"),\n",
        "        (\"계좌번호\",\"NNG\"), (\"버퍼링\",\"NNG\"), (\"인터넷뱅킹\",\"NNG\"),\n",
        "        (\"우리사주뱅킹\",\"NNG\"), (\"모바일뱅킹\",\"NNG\"), (\"파킹통장\",\"NNG\"),\n",
        "        (\"편의성\",\"NNG\"), (\"비대면\",\"NNG\"), (\"리뉴얼\",\"NNG\"),\n",
        "        (\"무결성\",\"NNG\"), (\"로그인\",\"NNG\"), (\"인증서\",\"NNG\"),\n",
        "        (\"인증센터\",\"NNG\"),\n",
        "        (\"가입\",\"NNG\"), #(\"회원가입\",\"NNG\"), (\"상품가입\",\"NNG\"),\n",
        "        (\"공공기관\",\"NNG\"), (\"금융기관\",\"NNG\"), (\"타기관\",\"NNG\"),\n",
        "        (\"재설치\",\"NNG\"), (\"재시도\",\"NNG\"),\n",
        "        (\"UI\",\"NNG\"), (\"UX\",\"NNG\")\n",
        "    ]\n",
        "\n",
        "    # Write additional dictionary entries\n",
        "    for w, t in add_dic:\n",
        "        f.write(f\"{w}\\t{t}\\n\")"
      ],
      "metadata": {
        "id": "6_7_jnReu5y4"
      },
      "execution_count": 9,
      "outputs": []
    },
    {
      "cell_type": "code",
      "source": [
        "komoran = Komoran(userdic=DICTIONARY_PATH)\n",
        "\n",
        "# Clean sentences using custom regex-based normalization\n",
        "# Converts HTML entities, removes URLs/symbols, and unifies domain terminology\n",
        "cleaned_docs = [get_sentences(x) for x in my_data_list]\n",
        "print(cleaned_docs[:100])"
      ],
      "metadata": {
        "colab": {
          "base_uri": "https://localhost:8080/"
        },
        "id": "RcjG88H9QpQg",
        "outputId": "5c1f55d6-72f6-4f7b-b7bb-5c713bdd699e"
      },
      "execution_count": 10,
      "outputs": [
        {
          "output_type": "stream",
          "name": "stdout",
          "text": [
            "['너무 편리하고 좋은 것 같습니다', '좋아요', '좋아요', '잘 쓰고 있습니다', '개정되고 편의성이 높아졌습니다 상품 주요 정보도 한 눈에 보이고 주사용 메뉴도 첫화면에 노출되니 쓰기 편하고 좋습니다', '원활하게 비대면 가입을 할 수 있어서 감사합니다', '별점 한개도 아깝습니다 앱 다시 만드세요 신분증 인증 40회만에 인증 성공 매번 이동 시 로그인 필수고 계좌인증 시 계좌 앱 인증번호 확인 후 증권사 앱 들어가면 무한 버퍼링 결국 앱 종료 밑에 글도 버퍼링이 심하다는 내용이 있는데 개선좀 해주세요', '무결성 검증실패', '과거에 비해서 많이 좋아졌내요 시중 금융권 앱과 비교되는 부분이 많았는데 디자인적으로나 기능적으로나 편하게 사용할 수 있어서 좋습니다 수고하세요', '도대체 신분증 어케등록함 30분내내 찍어올려도인증이안되네', '보기가 편하고 편리합니다', '파킹통장 금리가 좋네요', '생각보다 좋은거 같네요 잘 사용해보겠습니다', '리뉴얼되고 나서 더 편하고 나아졌어요', '최고네요', '대출 신상품 좋네요 앱도 좋아졌고', '시스템 개편이후 서비스가 넘 좋아졌습니다 굿 입니다요', '개편후 사용자 편의성이 너무 좋습니다 VERY VERY GOOD입니다', '훨씬 좋아졌어요 앱 계속 쓰고 있는데 아주 만족해요', '한국증권금융앱이 달라졌네요 전보다 훨씬 직관적인거 같아 좋습니다', '비밀번호를 몰라서 임시비밀번호로 로그인했는데 이전비밀번호를 넣어야한다는데 어떻게 해야하나요', '쓸 때마다 업데이트하라고 나오니깐 너무 짜증납니다 너무 자주 업데이트하지 마세요 꼭 필요한 것만 모아서 한 번에 해주셨으면 좋겠습니다', '여러 메뉴들이 잘 정리되어 있어서 편리한듯', '잘쓰고 있씁뉘다', '금리가 좋아서 자주 이용하고 있는데 최근 화면이나 편의성이 많이 개선되어서 사용하기 좋네요', 'UI가 보기 편하고 도움이 됩니다', '사용하기 좋은 앱입니다', '앱 관리좀 합시다', '가끔 들어가는데 디자인이 깔끔해졌네요', '앱이 훨씬 세련되고 안정적으로 개선되었습니다 전반적으로 인터페이스도 직관적이고 깔끔하게 변했습니다 앞으로도 자주 사용할 예정입니다', '평상시에 자주 키는데 편의성도 좋고 인터페이스도 좋아졌어요 은행앱과 비교해도 손색이 없네요 금리도 좋고 사용도 편리하니 앞으로 더 늘릴 예정입니다', '리뉴얼 하고나서 편의성이 많이 좋아진 것 같습니다', '사용한 지 꽤 오래된 모바일뱅킹 앱인데 최근 업데이트 이후 정말 많은 게 바뀌었네요 이전에는 깜박거림 현상이나 화면 디자인이 너무 오래되어 사용하면서 불편한 점이 많았었는데요 이제는 그런 문제가 모두 해결된 것 같아요 화면도 훨씬 깔끔하고 세련된 이미지를 가지게 되었고 전반적으로 현대적인 느낌이 드네요 특히 이전에는 인증 등록 중 오류가 자주 발생해서 스트레스 받았는데 지금은 이 부분도 개선되었어요 이번 업데이트를 통해 사용자 입장에서 더 편리하고 안정적인 환경이 조성된 것 같습니다', 'UI도 깔끔하고 직관적이어서 이용이 매우 용이합니다 대출 상품도 좋구요', '리뉴얼 후 사용성이 좋아졌네요', '새로운 업데이트 이후 앱이 더 안정적이고 빨라졌네요 공공기관스럽던 디자인도 개선되었어요 와이드예수금 금리가 괜찮아서 이용중인데 전체적으로 만족도가 높아졌습니다', '사용하기 편리해진 것 같아요 거래가 수월해서 좋네요', '원격조정앱이 감지된다며 안켜지는데 적어도 그게 먼 앱인지는 알려줘야 처리하지', '쓰레기', '앱쓰다 간만에 속 뒤집어 지는경험함 관리를 안하나봄 무한로그인 하다가 환장하는쥴', '굿', '개설에서 신분증에서 넘어가지도 않고 신청 이어할 거냐고 본인인증하라고 해서 했는데도 무한 반복이고 기본적인 버그조차 해결 못해서 정상적인 사용이 안 될 정도니 앱을 이렇게 밖에 못 만드나요', '최악이네 로그인에 인증서 등록하라는거 해도 계속 없다고 나오고 어휴 만든 사람 대머리 되라', '거지같은 앱 인증이 이렇게 복잡해서야 더럽네요 진짜 리뷰 쓰는건 처음이네', 'I 1 1', '이거되긴하나요 보이스피싱앱인줄알았네 계속렉걸리고 화면은넘어갔다 이전으로갔다', '오늘 가입하려고 했는데 못함 페이지마다 가입하지 말라고 버튼 조작이 안되네 지금깢 수많은 앱중에 가입을 못하게 하는 앱은 처음봄', '가입 할때 동의 비동의가 안눌러져요', '최악', '공무원이 만든건가 이따구지', '그놈의 인증 인증 별점 1점도 아까움', '지문등록 등 다른 방법으로 로그인 하는더 등록할때 오류가 너무 많이 많아서 10번 이상 시도 하고 재설치도 해봤으나 아직 안됨', '앱이 너무 무겁고 도대체 금융인증서 등록 로딩창에서 안넘어가는건 왜그런건지', '사용자입장에서 엄청불편합니다', '공동인증서가 타기관가 공유 되지가 않음 매번 받아야하니 불편함 사이트 자체가 너무 허접함', '매매 가능 시간에 매도가 안되는 증상에 빠르게 복구도 안되어서 손해보기 쉽습니다 거래 가능시간에 16350 정도하는 주식이 74000으로 이상하게 찍히며 매도 대상 주식으로 선택 되지도 않으니 이틀전까진 되던건데 20분째 안되네요', '편리함', '도대체 인터넷뱅킹 ID는 타금융을 말하는건지 정보찾기도없고 앱구동 너무 허접해요', '이거 별 2개이상 준 사람은 개발자 당사자지 무슨 메뉴만 선택하면 계속 로그인하래 10번도 넘게 로그인한듯', '로그인 지옥경험 쓰레기중에 쓰레기앱 이따구로 만들고 관리안하는거보면 안봐도 뻔하지뭐', '되돌이표 로그인 해서 거래하는 것도 아닌 조회를 하는것도 인정서 필요하다 하여 만들어서 진행하면 마지막인가 하면 다시 원위치 계속 뺑뺑이 무슨 인내력 시험하는 앱으로 평가하고 싶네요 하다가 성질나서 휴대폰 던질수도', '이렇게 만들기도 참 힘들듯 합니다', '로그인이 계속 풀립니다 이동할때마다 로그인 창이 뜹니다 매뉴 접근이 안됩니다 빠른 조치바랍니다', '땅짚고 헤엄치는 회사는 망해야됨 스팸앱도 이거보다 성의있게 만듦', '업데이트후 자동 로그아웃 공동인증서 사라짐 PC에서 보내기해도 앱에서는 받앟다고 뜨는데 로그인하면 오류 뜸 사람 인성테스트앱인가봄 어쩔 수없이 쓰긴쓰는데 확 마', '편하고 좋아요', '8EH', '와 답이 없는 앱', '바이오인증 계속 오류 뜸 미치고 환장할 앱', '지금 앱 접속이 안되는것 같은데 맞나요', '최악입니다 정말 쓰레기 앱 홈 페이지도 비슷한 수준', '진짜 답답하다 사주 단독 독점 아니었음 쓰지도 않을 앱', '최악의 앱', '피드백도 관리도 없고 사용자 편의성을 보장하지 않는 앱', '그냥 쓰레기입니다', '업데이트 후에 갑자기 원격조종앱이 발견되었다고 실행이 안되는데 무슨 앱인지는 알려줘야 지우던지 할거 아니오 뭐 이리 불친절해 낸장', '개발자는 테스트도 안하고 출시하나요 로그인 정상적으로 했고 기타 조회 할때마다 로그인 계속 하라고 하질 않나 뭐 되는게 하나도 없네', '정말 형편없는 앱이다 이따위 것을 만드는 비용이 아깝다', '웬만하면 나쁜 평가를 안할려고 하는데 이 앱은 좀 심각하다 다른 분들 평가처럼 느린건 둘째 치고 로그인하면 주기적으로 고객정보를 갱신해야 한다는 화면과 함께 정보갱신 화면으로 넘어가는데 다 입력하고 나면 다른방법으로 인증해야 한다는 메세지와 함께 등록이 안되고 인증센터를 가서 인증서를 등록하려고 하면 고객정보를 갱신해야 한다고 화면이 다시 정보갱신화면으로 돌아간다 아니 로그인 자체를 못하는데 어떻게 이용하라는 말인지 고객의 자금을 운영하는 앱이 이따위인데 회사의 운영을 믿을만한건지 모르겠다', '10점이 없네요 정말 최악입니다', '너무 불편하네요 예외처리가 왜이렇게 안되어있는건지 로그인 실패하면 온갖 팝업이 다뜨네요', '진짜 못만듬', '이렇게 접속이 안되는 앱은 처음봄', '앱 뿐만 아니라 한국증권금융 홈페이지도 심각한 수준입니다 서버 문제인지 메뉴 클릭하고 다음으로 이동이 수분이 걸릴 정도로 느리고 사용이 어려울 정도 입니다', '끔찍합니다 금융인증서 로그인에 아무리 클릭해도 진입이 안됩니다', '상당히 불편', '인간적으로 너무 하네 담당자 짤라야 할듯 담당자 개발테스트안함 이게 쓰라고 만든거 계속 반복 되잖아요', '회원가입후 아이디로 로그인후 인증센터 간편인증 비밀번호 설정시 신분증 촬영후 다음화면에서 계속 다운되네요 몇수십번 어찌해야 될지 난감하네요 앱을 만들고 테스트를 한건지 정말 짜증나네요', '와 진짜 개 쓰레기같이 만들었네요 진짜 허접합니다 투자좀 더하시죠', '이런앱은 전에도 없었고 앞으로도 없을 최악의 앱이다', '로그인 인증 무한반복이네요 짜증지대로 나네요', '뭘 할라하면 로그인을 하라하고 로그인할려하면 인증서센터를 하라그러고 인증센터에서 인증할려하면 로그인 하라그러고 무한 루프 반복 이게맞음 앱만든사람 직접 써보고 이따구로 만든건가 싶은디 불편한 정도가 아니라 그냥 못쓸정도입니다', '간단해서 좋았음', '공동인증서 등록해서 계속해서 로그인하고햇엇는데 갑자기 공동인증서가 없어졋다고나오네요 뭔일이죠', '로그인으로 조회 안될꺼면 회원가입이랑 본인인증은 왜 시키는거냐', '이딴 앱을 쓰라고 만든건가요 0점이 없어서 1점답니다 진짜 인간적으로 너무 불편합니다 터치횟수 화면수 로딩시간 최소한 타 금융 앱 비교 한번이라도 보고 개선좀 하세요 중복 프로세스는 왜그리 많은지 인증서 하나 발급하는 입력값 버튼 약관확인 진짜 환장 하네요', '정말 최악의 앱이다 정말로 전세계 최악순위 1위 등극 수준의 앱이다 부끄러움을 모르는 앱이다', '분명히 한달전쯤에저 인증서 새로 발급받고 업무처리 했는데 오늘 들어가니 인증서 없다고 나오네요 정말 문제가 많은 앱입니다', '앱도 뭣같이 만들어놨네 돌대가리들이 만들었나', '업데이트가 안되는데 어떻게하란거죠']\n"
          ]
        }
      ]
    },
    {
      "cell_type": "markdown",
      "source": [
        "## 2. Morphological Analysis and Compound Term Merging\n",
        "Korean text requires morphological analysis to identify meaningful tokens.\n",
        "We use **Komoran**, a Korean POS tagger, to extract nouns (NNG/NNP).  \n",
        "Domain-specific compound terms such as \"모바일뱅킹\" or \"본인인증\" are manually merged to preserve semantics."
      ],
      "metadata": {
        "id": "yaie8hN4iyth"
      }
    },
    {
      "cell_type": "code",
      "source": [
        "# Apply Komoran POS tagging to extract part-of-speech information\n",
        "morphs_list = get_pos_tags(komoran, cleaned_docs)\n",
        "\n",
        "# Merge domain-specific compound terms for better topic coherence\n",
        "morphs_list = [merge_compound_terms(seq) for seq in morphs_list]\n",
        "\n",
        "print(morphs_list[:100])"
      ],
      "metadata": {
        "colab": {
          "base_uri": "https://localhost:8080/"
        },
        "id": "fJT_ZDgYi0Eu",
        "outputId": "e58d4f63-0483-4007-f01f-d5b82d5051de"
      },
      "execution_count": 11,
      "outputs": [
        {
          "output_type": "stream",
          "name": "stdout",
          "text": [
            "[[('너무', 'MAG'), ('편리', 'NNG'), ('하', 'XSV'), ('고', 'EC'), ('좋', 'VA'), ('은', 'ETM'), ('것', 'NNB'), ('같', 'VA'), ('습니다', 'EC')], [('좋', 'VA'), ('아요', 'EC')], [('좋', 'VA'), ('아요', 'EC')], [('잘', 'MAG'), ('쓰', 'VV'), ('고', 'EC'), ('있', 'VV'), ('습니다', 'EC')], [('개정', 'NNG'), ('되', 'XSV'), ('고', 'EC'), ('편의성', 'NNG'), ('이', 'JKS'), ('높', 'VA'), ('아', 'EC'), ('지', 'VX'), ('었', 'EP'), ('습니다', 'EC'), ('상품', 'NNG'), ('주요', 'XR'), ('정보', 'NNG'), ('도', 'JX'), ('한', 'MM'), ('눈', 'NNG'), ('에', 'JKB'), ('보이', 'VV'), ('고', 'EC'), ('주사', 'NNG'), ('용', 'XSN'), ('메뉴', 'NNP'), ('도', 'JX'), ('첫', 'MM'), ('화면', 'NNG'), ('에', 'JKB'), ('노출', 'NNG'), ('되', 'XSV'), ('니', 'EC'), ('쓰기', 'NNP'), ('편하', 'VA'), ('고', 'EC'), ('좋', 'VA'), ('습니다', 'EC')], [('원활', 'NNG'), ('하', 'XSV'), ('게', 'EC'), ('비대면', 'NNG'), ('가입', 'NNG'), ('을', 'JKO'), ('하', 'VV'), ('ㄹ', 'ETM'), ('수', 'NNB'), ('있', 'VV'), ('어서', 'EC'), ('감사', 'NNG'), ('하', 'XSV'), ('ㅂ니다', 'EC')], [('별점', 'NNG'), ('한', 'MM'), ('개도', 'NNP'), ('아깝', 'VA'), ('습니다', 'EC'), ('앱', 'NNG'), ('다시', 'MAG'), ('만들', 'VV'), ('시', 'EP'), ('어요', 'EC'), ('신분증', 'NNP'), ('인증', 'NNP'), ('40', 'SN'), ('회', 'NNB'), ('만', 'JX'), ('에', 'JKB'), ('인증', 'NNP'), ('성공', 'NNG'), ('매번', 'MAG'), ('이동', 'NNP'), ('시', 'NNB'), ('로그인', 'NNG'), ('필수', 'NNG'), ('이', 'VCP'), ('고', 'EC'), ('계좌인증', 'NNG'), ('시', 'NNB'), ('계좌', 'NNP'), ('앱', 'NNG'), ('인증', 'NNP'), ('번호', 'NNG'), ('확인', 'NNG'), ('후', 'NNG'), ('증권사', 'NNG'), ('앱', 'NNG'), ('들어가', 'VV'), ('면', 'EC'), ('무한', 'NNP'), ('버퍼링', 'NNG'), ('결국', 'MAG'), ('앱', 'NNG'), ('종료', 'NNG'), ('밑', 'NNG'), ('에', 'JKB'), ('글', 'NNG'), ('도', 'JX'), ('버퍼링', 'NNG'), ('이', 'JKS'), ('심하', 'VA'), ('다는', 'ETM'), ('내용', 'NNG'), ('이', 'JKS'), ('있', 'VV'), ('는데', 'EC'), ('개선', 'NNG'), ('좀', 'MAG'), ('하', 'VV'), ('아', 'EC'), ('주', 'VX'), ('시', 'EP'), ('어요', 'EC')], [('무결성', 'NNG'), ('검증', 'NNP'), ('실패', 'NNG')], [('과거', 'NNG'), ('에', 'JKB'), ('비하', 'VV'), ('아서', 'EC'), ('많이', 'MAG'), ('좋', 'VA'), ('아', 'EC'), ('지', 'VX'), ('었', 'EP'), ('내', 'VX'), ('요', 'EC'), ('시중', 'NNP'), ('금융', 'NNG'), ('권', 'XSN'), ('앱', 'NNG'), ('과', 'JC'), ('비교', 'NNG'), ('되', 'XSV'), ('는', 'ETM'), ('부분', 'NNG'), ('이', 'JKS'), ('많', 'VA'), ('았', 'EP'), ('는데', 'EC'), ('디자인', 'NNG'), ('적', 'XSN'), ('으로', 'JKB'), ('나', 'JX'), ('기능', 'NNG'), ('적', 'XSN'), ('으로', 'JKB'), ('나', 'JX'), ('편하', 'VA'), ('게', 'EC'), ('사용', 'NNG'), ('하', 'XSV'), ('ㄹ', 'ETM'), ('수', 'NNB'), ('있', 'VV'), ('어서', 'EC'), ('좋', 'VA'), ('습니다', 'EC'), ('수고', 'NNG'), ('하', 'XSV'), ('시', 'EP'), ('어요', 'EC')], [('도대체', 'MAG'), ('신분증', 'NNP'), ('어', 'NNG'), ('하', 'XSV'), ('게', 'EC'), ('등록', 'NNG'), ('하', 'XSV'), ('ㅁ', 'ETN'), ('30', 'SN'), ('분', 'NNB'), ('내내', 'MAG'), ('찍', 'VV'), ('어', 'EC'), ('올리', 'VV'), ('어', 'EC'), ('도', 'NNB'), ('인증', 'NNP'), ('이안', 'NNP'), ('되', 'XSV'), ('네', 'EC')], [('보', 'VV'), ('기', 'ETN'), ('가', 'JKS'), ('편하', 'VA'), ('고', 'EC'), ('편리', 'NNG'), ('하', 'XSV'), ('ㅂ니다', 'EC')], [('파킹통장', 'NNG'), ('금리', 'NNG'), ('가', 'JKS'), ('좋', 'VA'), ('네요', 'EC')], [('생각', 'NNG'), ('보다', 'JKB'), ('좋', 'VA'), ('은', 'ETM'), ('거', 'NNB'), ('같', 'VA'), ('네요', 'EC'), ('잘', 'MAG'), ('사용', 'NNG'), ('하', 'XSV'), ('아', 'EC'), ('보', 'VX'), ('겠', 'EP'), ('습니다', 'EC')], [('리뉴얼', 'NNG'), ('되', 'XSV'), ('고', 'EC'), ('나서', 'VV'), ('어', 'EC'), ('더', 'MAG'), ('편하', 'VA'), ('고', 'EC'), ('나아지', 'VV'), ('었', 'EP'), ('어요', 'EC')], [('최고', 'NNG'), ('네', 'XSN'), ('요', 'JX')], [('대출', 'NNG'), ('신상품', 'NNG'), ('좋', 'VA'), ('네요', 'EC'), ('앱', 'NNG'), ('도', 'JX'), ('좋', 'VA'), ('아', 'EC'), ('지', 'VX'), ('었', 'EP'), ('고', 'EC')], [('시스템', 'NNG'), ('개편', 'NNG'), ('이후', 'NNG'), ('서비스', 'NNG'), ('가', 'JKS'), ('넘', 'NNG'), ('좋', 'VA'), ('아', 'EC'), ('지', 'VX'), ('었', 'EP'), ('습니다', 'EC'), ('굿', 'NNG'), ('이', 'VV'), ('ㅂ니다요', 'EC')], [('개편', 'NNG'), ('후', 'NNG'), ('사용자', 'NNP'), ('편의성', 'NNG'), ('이', 'JKS'), ('너무', 'MAG'), ('좋', 'VA'), ('습니다', 'EC'), ('VERY', 'SL'), ('VERY', 'SL'), ('GOOD', 'SL'), ('이', 'VCP'), ('ㅂ니다', 'EC')], [('훨씬', 'MAG'), ('좋', 'VA'), ('아', 'EC'), ('지', 'VX'), ('었', 'EP'), ('어요', 'EC'), ('앱', 'NNG'), ('계속', 'MAG'), ('쓰', 'VV'), ('고', 'EC'), ('있', 'VV'), ('는데', 'EC'), ('아주', 'MAG'), ('만족', 'NNG'), ('하', 'XSV'), ('아요', 'EC')], [('한국증권금융앱', 'NNG'), ('이', 'JKS'), ('달라지', 'VV'), ('었', 'EP'), ('네요', 'EC'), ('전', 'NNG'), ('보다', 'JKB'), ('훨씬', 'MAG'), ('직관', 'NNP'), ('적', 'XSN'), ('이', 'VCP'), ('ㄴ', 'ETM'), ('거', 'NNB'), ('같', 'VA'), ('아', 'EC'), ('좋', 'VA'), ('습니다', 'EC')], [('비밀번호', 'NNG'), ('를', 'JKO'), ('모르', 'VV'), ('아서', 'EC'), ('임시', 'NNG'), ('비밀번호', 'NNG'), ('로', 'JKB'), ('로그인', 'NNG'), ('하', 'XSV'), ('았', 'EP'), ('는데', 'EC'), ('이전', 'NNP'), ('비밀번호', 'NNG'), ('를', 'JKO'), ('넣', 'VV'), ('어야', 'EC'), ('하', 'VX'), ('ㄴ다는데', 'EC'), ('어떻', 'VA'), ('게', 'EC'), ('하', 'VV'), ('아야', 'EC'), ('하', 'VX'), ('나요', 'EC')], [('쓰', 'VV'), ('ㄹ', 'ETM'), ('때', 'NNG'), ('마다', 'JX'), ('업데이트', 'NNG'), ('하', 'XSV'), ('라고', 'EC'), ('나오', 'VV'), ('니깐', 'EC'), ('너무', 'MAG'), ('짜증', 'NNG'), ('나', 'VV'), ('ㅂ니다', 'EC'), ('너무', 'MAG'), ('자주', 'MAG'), ('업데이트', 'NNP'), ('하지', 'NNP'), ('마', 'NNG'), ('세', 'NNB'), ('요', 'JX'), ('꼭', 'MAG'), ('필요', 'NNG'), ('하', 'XSV'), ('ㄴ', 'ETM'), ('것', 'NNB'), ('만', 'JX'), ('모으', 'VV'), ('아서', 'EC'), ('한', 'MM'), ('번', 'NNB'), ('에', 'JKB'), ('하', 'VV'), ('아', 'EC'), ('주', 'VX'), ('시', 'EP'), ('었', 'EP'), ('으면', 'EC'), ('좋', 'VA'), ('겠', 'EP'), ('습니다', 'EC')], [('여러', 'MM'), ('메뉴', 'NNG'), ('들', 'XSN'), ('이', 'JKS'), ('잘', 'MAG'), ('정리', 'NNG'), ('되', 'XSV'), ('어', 'EC'), ('있', 'VV'), ('어서', 'EC'), ('편리', 'NNG'), ('하', 'XSV'), ('ㄴ듯', 'EC')], [('잘', 'MAG'), ('쓰', 'VV'), ('고', 'EC'), ('있씁뉘다', 'NA')], [('금리', 'NNG'), ('가', 'JKS'), ('좋아서', 'NNP'), ('자주', 'MAG'), ('이용', 'NNG'), ('하', 'XSV'), ('고', 'EC'), ('있', 'VV'), ('는데', 'EC'), ('최근', 'NNG'), ('화면', 'NNG'), ('이나', 'JC'), ('편의성', 'NNG'), ('이', 'JKS'), ('많이', 'MAG'), ('개선', 'NNG'), ('되', 'XSV'), ('어서', 'EC'), ('사용', 'NNG'), ('하', 'XSV'), ('기', 'ETN'), ('좋', 'VA'), ('네요', 'EC')], [('UI', 'NNG'), ('가', 'JKS'), ('보', 'VV'), ('기', 'ETN'), ('편하', 'VA'), ('고', 'EC'), ('도움', 'NNG'), ('이', 'JKS'), ('되', 'VV'), ('ㅂ니다', 'EC')], [('사용', 'NNG'), ('하', 'XSV'), ('기', 'ETN'), ('좋', 'VA'), ('은', 'ETM'), ('앱입니다', 'NA')], [('앱', 'NNG'), ('관리', 'NNG'), ('좀', 'MAG'), ('하', 'VV'), ('ㅂ시다', 'EC')], [('가끔', 'MAG'), ('들어가', 'VV'), ('는데', 'EC'), ('디자인', 'NNP'), ('이', 'JKS'), ('깔끔', 'XR'), ('하', 'XSA'), ('아', 'EC'), ('지', 'VX'), ('었', 'EP'), ('네요', 'EC')], [('앱', 'NNG'), ('이', 'JKS'), ('훨씬', 'MAG'), ('세련', 'XR'), ('되', 'XSV'), ('고', 'EC'), ('안정', 'NNG'), ('적', 'XSN'), ('으로', 'JKB'), ('개선', 'NNG'), ('되', 'XSV'), ('었', 'EP'), ('습니다', 'EC'), ('전반', 'NNG'), ('적', 'XSN'), ('으로', 'JKB'), ('인터페이스', 'NNP'), ('도', 'JX'), ('직관', 'NNP'), ('적', 'XSN'), ('이', 'VCP'), ('고', 'EC'), ('깔끔', 'XR'), ('하', 'XSA'), ('게', 'EC'), ('변하', 'VV'), ('았', 'EP'), ('습니다', 'EC'), ('앞으로', 'NNP'), ('도', 'JX'), ('자주', 'MAG'), ('사용', 'NNG'), ('하', 'XSV'), ('ㄹ', 'ETM'), ('예정', 'NNG'), ('이', 'VCP'), ('ㅂ니다', 'EC')], [('평상시', 'NNG'), ('에', 'JKB'), ('자주', 'MAG'), ('키', 'VV'), ('는데', 'EC'), ('편의성', 'NNG'), ('도', 'JX'), ('좋', 'VA'), ('고', 'EC'), ('인터페이스', 'NNP'), ('도', 'JX'), ('좋', 'VA'), ('아', 'EC'), ('지', 'VX'), ('었', 'EP'), ('어요', 'EC'), ('은행앱', 'NNG'), ('과', 'JC'), ('비교', 'NNG'), ('하', 'XSV'), ('아도', 'EC'), ('손색', 'NNG'), ('이', 'JKS'), ('없', 'VA'), ('네요', 'EC'), ('금리', 'NNG'), ('도', 'JX'), ('좋', 'VA'), ('고', 'EC'), ('사용', 'NNG'), ('도', 'JX'), ('편리', 'NNG'), ('하', 'XSV'), ('니', 'EC'), ('앞', 'NNG'), ('으로', 'JKB'), ('더', 'MAG'), ('늘리', 'VV'), ('ㄹ', 'ETM'), ('예정', 'NNG'), ('이', 'VCP'), ('ㅂ니다', 'EC')], [('리뉴얼', 'NNG'), ('하', 'VV'), ('고', 'EC'), ('나', 'VX'), ('아서', 'EC'), ('편의성', 'NNG'), ('이', 'JKS'), ('많이', 'MAG'), ('좋', 'VA'), ('아', 'EC'), ('지', 'VX'), ('ㄴ', 'ETM'), ('것', 'NNB'), ('같', 'VA'), ('습니다', 'EC')], [('사용', 'NNG'), ('하', 'XSV'), ('ㄴ', 'ETM'), ('지', 'NNB'), ('꽤', 'MAG'), ('오래되', 'VV'), ('ㄴ', 'ETM'), ('모바일뱅킹', 'NNG'), ('앱인데', 'NA'), ('최근', 'NNG'), ('업데이트', 'NNP'), ('이후', 'NNG'), ('정말', 'MAG'), ('많', 'VA'), ('은', 'ETM'), ('게', 'NNG'), ('바뀌', 'VV'), ('었', 'EP'), ('네요', 'EC'), ('이전', 'NNG'), ('에', 'JKB'), ('는', 'JX'), ('깜박거리', 'VV'), ('ㅁ', 'ETN'), ('현상', 'NNG'), ('이나', 'JC'), ('화면', 'NNG'), ('디자인', 'NNP'), ('이', 'JKS'), ('너무', 'MAG'), ('오래되', 'VV'), ('어', 'EC'), ('사용', 'NNG'), ('하', 'XSV'), ('면서', 'EC'), ('불편', 'NNG'), ('하', 'XSV'), ('ㄴ', 'ETM'), ('점', 'NNB'), ('이', 'JKS'), ('많', 'VA'), ('았었', 'EP'), ('는데요', 'EC'), ('이제', 'NNG'), ('는', 'JX'), ('그런', 'MM'), ('문제', 'NNG'), ('가', 'JKS'), ('모두', 'MAG'), ('해결', 'NNG'), ('되', 'XSV'), ('ㄴ', 'ETM'), ('것', 'NNB'), ('같', 'VA'), ('아요', 'EC'), ('화면', 'NNG'), ('도', 'JX'), ('훨씬', 'MAG'), ('깔끔', 'XR'), ('하', 'XSA'), ('고', 'EC'), ('세련', 'XR'), ('되', 'XSV'), ('ㄴ', 'ETM'), ('이미지', 'NNG'), ('를', 'JKO'), ('가지', 'VV'), ('게', 'EC'), ('되', 'VV'), ('었', 'EP'), ('고', 'EC'), ('전반', 'NNG'), ('적', 'XSN'), ('으로', 'JKB'), ('현대', 'NNG'), ('적', 'XSN'), ('이', 'VCP'), ('ㄴ', 'ETM'), ('느낌', 'NNG'), ('이', 'JKS'), ('들', 'VV'), ('네요', 'EC'), ('특히', 'MAG'), ('이전', 'NNG'), ('에', 'JKB'), ('는', 'JX'), ('인증', 'NNP'), ('등록', 'NNP'), ('중', 'NNB'), ('오류', 'NNP'), ('가', 'JKS'), ('자주', 'MAG'), ('발생', 'NNG'), ('하', 'XSV'), ('아서', 'EC'), ('스트레스', 'NNP'), ('받', 'VV'), ('았', 'EP'), ('는데', 'EC'), ('지금', 'NNG'), ('은', 'JX'), ('이', 'MM'), ('부분', 'NNG'), ('도', 'JX'), ('개선', 'NNG'), ('되', 'XSV'), ('었', 'EP'), ('어요', 'EC'), ('이번', 'NNG'), ('업데이트', 'NNP'), ('를', 'JKO'), ('통하', 'VV'), ('아', 'EC'), ('사용자', 'NNP'), ('입장', 'NNG'), ('에서', 'JKB'), ('더', 'MAG'), ('편리', 'NNG'), ('하', 'XSV'), ('고', 'EC'), ('안정', 'NNG'), ('적', 'XSN'), ('이', 'VCP'), ('ㄴ', 'ETM'), ('환경', 'NNG'), ('이', 'JKS'), ('조성', 'NNG'), ('되', 'XSV'), ('ㄴ', 'ETM'), ('것', 'NNB'), ('같', 'VA'), ('습니다', 'EC')], [('UI', 'NNG'), ('도', 'JX'), ('깔끔', 'XR'), ('하', 'XSA'), ('고', 'EC'), ('직관', 'NNP'), ('적', 'XSN'), ('이', 'VCP'), ('어서', 'EC'), ('이용', 'NNG'), ('이', 'JKS'), ('매우', 'MAG'), ('용이', 'XR'), ('하', 'XSA'), ('ㅂ니다', 'EC'), ('대출', 'NNG'), ('상품', 'NNG'), ('도', 'JX'), ('좋', 'VA'), ('구요', 'EC')], [('리뉴얼', 'NNG'), ('후', 'NNG'), ('사용성', 'NNP'), ('이', 'JKS'), ('좋', 'VA'), ('아', 'EC'), ('지', 'VX'), ('었', 'EP'), ('네요', 'EC')], [('새롭', 'VA'), ('ㄴ', 'ETM'), ('업데이트', 'NNP'), ('이후', 'NNG'), ('앱', 'NNG'), ('이', 'JKS'), ('더', 'MAG'), ('안정', 'NNG'), ('적', 'XSN'), ('이', 'VCP'), ('고', 'EC'), ('빠르', 'VA'), ('아', 'EC'), ('지', 'VX'), ('었', 'EP'), ('네요', 'EC'), ('공공기관', 'NNG'), ('스럽', 'XSA'), ('던', 'ETM'), ('디자인', 'NNP'), ('도', 'JX'), ('개선', 'NNG'), ('되', 'XSV'), ('었', 'EP'), ('어요', 'EC'), ('와이드', 'NNG'), ('예수금', 'NNG'), ('금리', 'NNG'), ('가', 'JKS'), ('괜찮', 'VA'), ('아서', 'EC'), ('이용', 'NNG'), ('중', 'NNB'), ('이', 'VCP'), ('ㄴ데', 'EC'), ('전체', 'NNG'), ('적', 'XSN'), ('으로', 'JKB'), ('만족도', 'NNG'), ('가', 'JKS'), ('높', 'VA'), ('아', 'EC'), ('지', 'VX'), ('었', 'EP'), ('습니다', 'EC')], [('사용', 'NNG'), ('하', 'XSV'), ('기', 'ETN'), ('편리', 'NNG'), ('해진', 'NNP'), ('것', 'NNB'), ('같', 'VA'), ('아요', 'EC'), ('거래', 'NNG'), ('가', 'JKS'), ('수월', 'XR'), ('하', 'XSA'), ('아서', 'EC'), ('좋', 'VA'), ('네요', 'EC')], [('원격조정앱', 'NNG'), ('이', 'JKS'), ('감지', 'NNG'), ('되', 'XSV'), ('ㄴ다며', 'EC'), ('안', 'MAG'), ('켜', 'VV'), ('어', 'EC'), ('지', 'VX'), ('는데', 'EC'), ('적어도', 'MAG'), ('그', 'NP'), ('게', 'EC'), ('멀', 'VA'), ('ㄴ', 'ETM'), ('앱인지', 'NNG'), ('는', 'JX'), ('알리', 'VV'), ('어', 'EC'), ('주', 'VX'), ('어야', 'EC'), ('처리', 'NNG'), ('하', 'XSV'), ('지', 'EC')], [('쓰레기', 'NNP')], [('앱쓰다', 'NA'), ('간만', 'NNG'), ('에', 'JKB'), ('속', 'NNG'), ('뒤집', 'VV'), ('어', 'EC'), ('지', 'VX'), ('는', 'ETM'), ('경험', 'NNG'), ('하', 'XSV'), ('ㅁ', 'ETN'), ('관리', 'NNG'), ('를', 'JKO'), ('알', 'VV'), ('ㄴ', 'ETM'), ('하나', 'NNP'), ('봄', 'NNP'), ('무한', 'NNP'), ('로그인', 'NNG'), ('하', 'VV'), ('다가', 'EC'), ('환장', 'NNG'), ('하', 'XSV'), ('는', 'ETM'), ('쥬', 'NNG'), ('ㄹ', 'JKO')], [('굿', 'NNG')], [('개설', 'NNG'), ('에서', 'JKB'), ('신분증', 'NNP'), ('에서', 'JKB'), ('넘어가', 'VV'), ('지', 'EC'), ('도', 'JX'), ('않', 'VX'), ('고', 'EC'), ('신청', 'NNP'), ('이어', 'MAG'), ('하', 'XSV'), ('ㄹ', 'ETM'), ('걸', 'VV'), ('냐고', 'EC'), ('본인인증', 'NNG'), ('하', 'XSV'), ('라고', 'EC'), ('하', 'VV'), ('아서', 'EC'), ('하', 'VV'), ('았', 'EP'), ('는데', 'EC'), ('도', 'JX'), ('무한', 'NNP'), ('반복', 'NNG'), ('이', 'VCP'), ('고', 'EC'), ('기본', 'NNG'), ('적', 'XSN'), ('이', 'VCP'), ('ㄴ', 'ETM'), ('버', 'NNP'), ('그', 'MM'), ('조차', 'NNP'), ('해결', 'NNG'), ('못하', 'VX'), ('아서', 'EC'), ('정상', 'NNG'), ('적', 'XSN'), ('이', 'VCP'), ('ㄴ', 'ETM'), ('사용', 'NNG'), ('이', 'JKS'), ('안', 'MAG'), ('되', 'VV'), ('ㄹ', 'ETM'), ('정도', 'NNG'), ('이', 'VCP'), ('니', 'EC'), ('앱', 'NNG'), ('을', 'JKO'), ('이렇', 'VA'), ('게', 'EC'), ('밖', 'NNG'), ('에', 'JKB'), ('못', 'MAG'), ('만들', 'VV'), ('나요', 'EC')], [('최악', 'NNG'), ('이', 'VCP'), ('네', 'EC'), ('로그인', 'NNG'), ('에', 'JKB'), ('인증서', 'NNG'), ('등록', 'NNG'), ('하', 'XSV'), ('라는', 'ETM'), ('거', 'NNB'), ('하', 'VV'), ('아도', 'EC'), ('계속', 'MAG'), ('없', 'VA'), ('다고', 'EC'), ('나오', 'VV'), ('고', 'EC'), ('어휴', 'IC'), ('만들', 'VV'), ('ㄴ', 'ETM'), ('사람', 'NNG'), ('대머리', 'NNG'), ('되', 'VV'), ('라', 'EC')], [('거지', 'NNG'), ('같', 'VA'), ('은', 'ETM'), ('앱', 'NNG'), ('인증', 'NNP'), ('이', 'JKS'), ('이렇', 'VA'), ('게', 'EC'), ('복잡', 'XR'), ('하', 'XSA'), ('아서', 'EC'), ('야', 'JX'), ('더럽', 'VA'), ('네요', 'EC'), ('진짜', 'MAG'), ('리뷰', 'NNP'), ('쓰', 'VV'), ('는', 'ETM'), ('건', 'NNB'), ('처음', 'NNG'), ('이', 'VCP'), ('네', 'EC')], [('I', 'SL'), ('1', 'SN'), ('1', 'SN')], [('이거', 'NNG'), ('되', 'XSV'), ('기', 'ETN'), ('ㄴ', 'JX'), ('하', 'VV'), ('나요', 'EC'), ('보이스피싱앱인줄알았네', 'NA'), ('계속렉걸리고', 'NA'), ('화면', 'NNG'), ('은', 'JX'), ('넘어가', 'VV'), ('았', 'EP'), ('다', 'EC'), ('이전', 'NNG'), ('으로', 'JKB'), ('가', 'VV'), ('았', 'EP'), ('다', 'EC')], [('오늘', 'NNG'), ('가입', 'NNG'), ('하', 'XSV'), ('려고', 'EC'), ('하', 'VV'), ('았', 'EP'), ('는데', 'EC'), ('못하', 'VX'), ('ㅁ', 'ETN'), ('페이지', 'NNP'), ('마다', 'JX'), ('가입', 'NNG'), ('하', 'XSV'), ('지', 'EC'), ('말', 'VX'), ('라고', 'EC'), ('버튼', 'NNP'), ('조작', 'NNG'), ('이', 'JKS'), ('안', 'NNG'), ('되', 'XSV'), ('네', 'EC'), ('지금깢', 'NA'), ('수많', 'VA'), ('은', 'ETM'), ('앱중', 'NNG'), ('에', 'JKB'), ('가입', 'NNG'), ('을', 'JKO'), ('못하', 'VX'), ('게', 'EC'), ('하', 'VV'), ('는', 'ETM'), ('앱', 'NNG'), ('은', 'JX'), ('처음', 'NNG'), ('봄', 'NNP')], [('가입', 'NNG'), ('하', 'VV'), ('ㄹ', 'ETM'), ('때', 'NNG'), ('동의', 'NNG'), ('비', 'XPN'), ('동의', 'NNG'), ('가', 'JKS'), ('안', 'MAG'), ('누르', 'VV'), ('어', 'EC'), ('지', 'VX'), ('어요', 'EC')], [('최악', 'NNG')], [('공무원', 'NNG'), ('이', 'JKS'), ('만들', 'VV'), ('ㄴ', 'ETM'), ('것', 'NNB'), ('ㄴ가', 'EC'), ('이', 'MM'), ('따', 'NNG'), ('구지', 'NNP')], [('그놈', 'NNP'), ('의', 'JKG'), ('인증', 'NNP'), ('인증', 'NNP'), ('별점', 'NNG'), ('1', 'SN'), ('점', 'NNB'), ('도', 'JX'), ('아깝', 'VA'), ('ㅁ', 'ETN')], [('지문', 'NNP'), ('등록', 'NNP'), ('등', 'NNB'), ('다른', 'MM'), ('방법', 'NNG'), ('으로', 'JKB'), ('로그인', 'NNG'), ('하', 'NNG'), ('는', 'JX'), ('더', 'MAG'), ('등록', 'NNG'), ('하', 'XSV'), ('ㄹ', 'ETM'), ('때', 'NNG'), ('오류', 'NNP'), ('가', 'JKS'), ('너무', 'MAG'), ('많이', 'MAG'), ('많', 'VA'), ('아서', 'EC'), ('10', 'SN'), ('번', 'NNB'), ('이상', 'NNG'), ('시도', 'NNG'), ('하', 'VV'), ('고', 'EC'), ('재설치', 'NNG'), ('도', 'JX'), ('해보', 'VV'), ('았', 'EP'), ('으나', 'EC'), ('아직', 'MAG'), ('안', 'NNG'), ('되', 'XSV'), ('ㅁ', 'ETN')], [('앱', 'NNG'), ('이', 'JKS'), ('너무', 'MAG'), ('무겁', 'VA'), ('고', 'EC'), ('도대체', 'MAG'), ('금융인증서', 'NNG'), ('등록', 'NNP'), ('로딩', 'NNP'), ('창', 'NNG'), ('에서', 'JKB'), ('안', 'MAG'), ('넘어가', 'VV'), ('는', 'ETM'), ('건', 'NNB'), ('왜', 'MAG'), ('그런', 'MM'), ('건지', 'NNG')], [('사용자', 'NNP'), ('입장', 'NNG'), ('에서', 'JKB'), ('엄청', 'MAG'), ('불편', 'NNG'), ('하', 'XSV'), ('ㅂ니다', 'EC')], [('공동인증서', 'NNP'), ('가', 'JKS'), ('타기관', 'NNG'), ('가', 'XSN'), ('공유', 'NNP'), ('되', 'VV'), ('지', 'EC'), ('가', 'JKS'), ('않', 'VX'), ('음', 'ETN'), ('매번', 'MAG'), ('받', 'VV'), ('아야', 'EC'), ('하', 'VX'), ('니', 'EC'), ('불편', 'NNG'), ('하', 'XSV'), ('ㅁ', 'ETN'), ('사이트', 'NNG'), ('자체', 'NNG'), ('가', 'JKS'), ('너무', 'MAG'), ('허', 'NNG'), ('접하', 'VV'), ('ㅁ', 'ETN')], [('매매', 'NNP'), ('가능', 'XR'), ('시간', 'NNG'), ('에', 'JKB'), ('매도', 'NNP'), ('가', 'JKS'), ('안', 'NNG'), ('되', 'XSV'), ('는', 'ETM'), ('증상', 'NNG'), ('에', 'JKB'), ('빠르', 'VA'), ('게', 'EC'), ('복구', 'NNP'), ('도', 'JX'), ('안', 'NNG'), ('되', 'XSV'), ('어서', 'EC'), ('손해', 'NNP'), ('보기', 'NNP'), ('쉽', 'VA'), ('습니다', 'EC'), ('거래', 'NNG'), ('가능', 'XR'), ('시간', 'NNG'), ('에', 'JKB'), ('16350', 'SN'), ('정도', 'NNG'), ('하', 'XSV'), ('는', 'ETM'), ('주식', 'NNG'), ('이', 'JKS'), ('74000', 'SN'), ('으로', 'JKB'), ('이상', 'XR'), ('하', 'XSA'), ('게', 'EC'), ('찍히', 'VV'), ('며', 'EC'), ('매도', 'NNP'), ('대상', 'NNG'), ('주식', 'NNG'), ('으로', 'JKB'), ('선택', 'NNG'), ('되', 'VV'), ('지', 'EC'), ('도', 'JX'), ('않', 'VX'), ('으니', 'EC'), ('이틀', 'NNG'), ('전', 'NNP'), ('까지', 'JX'), ('ㄴ', 'JX'), ('되', 'VV'), ('던', 'ETM'), ('건', 'NNB'), ('데', 'NNB'), ('20', 'SN'), ('분', 'NNB'), ('째', 'XSN'), ('안', 'NNG'), ('되', 'XSV'), ('네요', 'EC')], [('편리', 'NNG'), ('하', 'XSV'), ('ㅁ', 'ETN')], [('도대체', 'MAG'), ('인터넷뱅킹', 'NNG'), ('ID', 'SL'), ('는', 'JX'), ('타', 'NNG'), ('금융', 'NNG'), ('을', 'JKO'), ('말', 'NNG'), ('하', 'XSV'), ('는', 'ETM'), ('건지', 'NNG'), ('정보', 'NNG'), ('찾', 'VV'), ('기', 'ETN'), ('도', 'JX'), ('없', 'VA'), ('고', 'EC'), ('앱구동', 'NA'), ('너무', 'MAG'), ('허', 'NNG'), ('접하', 'VV'), ('아요', 'EC')], [('이것', 'NP'), ('별', 'MM'), ('2', 'SN'), ('개', 'NNB'), ('이상', 'NNP'), ('주', 'VX'), ('ㄴ', 'ETM'), ('사람', 'NNG'), ('은', 'JX'), ('개발자', 'NNP'), ('당사자', 'NNG'), ('지', 'NNB'), ('무슨', 'MM'), ('메뉴', 'NNP'), ('만', 'JX'), ('선택', 'NNG'), ('하', 'XSV'), ('면', 'EC'), ('계속', 'MAG'), ('로그인', 'NNG'), ('하', 'XSV'), ('래', 'EC'), ('10', 'SN'), ('번', 'NNB'), ('도', 'JX'), ('넘', 'VV'), ('게', 'EC'), ('로그인', 'NNG'), ('하', 'XSV'), ('ㄴ듯', 'EC')], [('로그인', 'NNG'), ('지옥', 'NNP'), ('경험', 'NNP'), ('쓰레기', 'NNP'), ('중', 'NNB'), ('에', 'JKB'), ('쓰레기앱', 'NA'), ('이', 'MM'), ('따', 'NNG'), ('구로', 'NNP'), ('만들', 'VV'), ('고', 'EC'), ('관리', 'NNG'), ('안', 'NNG'), ('하', 'XSV'), ('는', 'ETM'), ('거', 'NNB'), ('보', 'VV'), ('면', 'EC'), ('안', 'MAG'), ('보', 'VV'), ('아도', 'EC'), ('뻔하', 'VA'), ('지', 'EC'), ('뭐', 'NP')], [('되', 'NNB'), ('돌이', 'NNP'), ('표', 'NNG'), ('로그인', 'NNG'), ('하', 'VV'), ('아서', 'EC'), ('거래', 'NNG'), ('하', 'XSV'), ('는', 'ETM'), ('것', 'NNB'), ('도', 'JX'), ('아니', 'VCN'), ('ㄴ', 'ETM'), ('조회', 'NNG'), ('를', 'JKO'), ('하', 'VV'), ('는', 'ETM'), ('것', 'NNB'), ('도', 'JX'), ('인정', 'NNG'), ('서', 'JKB'), ('필요', 'NNG'), ('하', 'XSV'), ('다', 'EC'), ('하', 'VV'), ('아', 'EC'), ('만들', 'VV'), ('어서', 'EC'), ('진행', 'NNG'), ('하', 'XSV'), ('면', 'EC'), ('마지막', 'NNG'), ('이', 'VCP'), ('ㄴ가', 'EC'), ('하', 'VV'), ('면', 'EC'), ('다시', 'MAG'), ('원위치', 'NNG'), ('계속', 'MAG'), ('뺑뺑이', 'NNP'), ('무슨', 'MM'), ('인내력', 'NNG'), ('시험', 'NNG'), ('하', 'XSV'), ('는', 'ETM'), ('앱', 'NNG'), ('으로', 'JKB'), ('평가', 'NNG'), ('하', 'XSV'), ('고', 'EC'), ('싶', 'VX'), ('네요', 'EC'), ('하', 'VV'), ('다가', 'EC'), ('성질', 'NNG'), ('나서', 'VV'), ('어', 'EC'), ('휴대폰', 'NNG'), ('던지', 'VV'), ('ㄹ', 'ETM'), ('수도', 'NNP')], [('이렇', 'VA'), ('게', 'EC'), ('만들', 'VV'), ('기', 'ETN'), ('도', 'JX'), ('참', 'MAG'), ('힘들', 'VA'), ('듯', 'EC'), ('하', 'VV'), ('ㅂ니다', 'EC')], [('로그인', 'NNG'), ('이', 'JKS'), ('계속', 'MAG'), ('풀리', 'VV'), ('ㅂ니다', 'EC'), ('이동', 'NNG'), ('하', 'XSV'), ('ㄹ', 'ETM'), ('때', 'NNG'), ('마다', 'JX'), ('로그인', 'NNG'), ('창', 'NNG'), ('이', 'JKS'), ('뜨', 'VV'), ('ㅂ니다', 'EC'), ('매', 'NNG'), ('뉴', 'NNG'), ('접근', 'NNG'), ('이', 'JKS'), ('안', 'NNG'), ('되', 'XSV'), ('ㅂ니다', 'EC'), ('빠르', 'VA'), ('ㄴ', 'ETM'), ('조치', 'NNG'), ('바라', 'VV'), ('ㅂ니다', 'EC')], [('땅', 'NNG'), ('짚', 'VV'), ('고', 'EC'), ('헤엄치', 'VV'), ('는', 'ETM'), ('회사', 'NNG'), ('는', 'JX'), ('망하', 'VV'), ('아야', 'EC'), ('되', 'VV'), ('ㅁ', 'ETN'), ('스팸앱', 'NNG'), ('도', 'JX'), ('이것', 'NP'), ('보다', 'JKB'), ('성의', 'NNG'), ('있', 'VV'), ('게', 'EC'), ('만들', 'VV'), ('ㅁ', 'ETN')], [('업데이트', 'NNP'), ('후', 'NNG'), ('자동', 'NNG'), ('로그', 'NNP'), ('아웃', 'NNP'), ('공동인증서', 'NNP'), ('사라지', 'VV'), ('ㅁ', 'ETN'), ('PC', 'SL'), ('에서', 'JKB'), ('보내기', 'NNG'), ('하', 'XSV'), ('아도', 'EC'), ('앱에서', 'NNG'), ('는', 'JX'), ('받앟다고', 'NA'), ('뜨', 'VV'), ('는데', 'EC'), ('로그인', 'NNG'), ('하', 'XSV'), ('면', 'EC'), ('오류', 'NNP'), ('뜸', 'NNG'), ('사람', 'NNG'), ('인성테스트앱인가봄', 'NA'), ('어쩌', 'VV'), ('ㄹ', 'ETM'), ('수없이', 'MAG'), ('쓰', 'VV'), ('기', 'ETN'), ('ㄴ', 'JX'), ('쓰', 'VV'), ('는데', 'EC'), ('확', 'MAG'), ('말', 'VX'), ('아', 'EC')], [('편하', 'VA'), ('고', 'EC'), ('좋', 'VA'), ('아요', 'EC')], [('8', 'SN'), ('EH', 'NNP')], [('오', 'VV'), ('아', 'EC'), ('답', 'NNG'), ('이', 'JKS'), ('없', 'VA'), ('는', 'ETM'), ('앱', 'NNG')], [('바이오인증', 'NNG'), ('계속', 'MAG'), ('오류', 'NNP'), ('뜸', 'NNG'), ('미치', 'VV'), ('고', 'EC'), ('환장', 'NNG'), ('하', 'XSV'), ('ㄹ', 'ETM'), ('앱', 'NNG')], [('지금', 'MAG'), ('앱', 'NNG'), ('접속', 'NNG'), ('이', 'JKS'), ('안', 'NNG'), ('되', 'XSV'), ('는', 'ETM'), ('것', 'NNB'), ('같', 'VA'), ('은데', 'EC'), ('맞', 'VV'), ('나요', 'EC')], [('최악', 'NNG'), ('이', 'VCP'), ('ㅂ니다', 'EC'), ('정말', 'MAG'), ('쓰레기', 'NNP'), ('앱', 'NNG'), ('홈', 'NNG'), ('페이지', 'NNP'), ('도', 'JX'), ('비슷', 'XR'), ('하', 'XSA'), ('ㄴ', 'ETM'), ('수준', 'NNG')], [('진짜', 'MAG'), ('답답', 'XR'), ('하', 'XSA'), ('다', 'EC'), ('사주', 'NNP'), ('단독', 'NNP'), ('독점', 'NNP'), ('아니', 'VCN'), ('었', 'EP'), ('음', 'ETN'), ('쓰', 'VV'), ('지', 'EC'), ('도', 'JX'), ('않', 'VX'), ('을', 'ETM'), ('앱', 'NNG')], [('최악', 'NNG'), ('의', 'JKG'), ('앱', 'NNG')], [('피드백', 'NNP'), ('도', 'JX'), ('관리도', 'NNP'), ('없', 'VA'), ('고', 'EC'), ('사용자', 'NNP'), ('편의성', 'NNG'), ('을', 'JKO'), ('보장', 'NNG'), ('하', 'XSV'), ('지', 'EC'), ('않', 'VX'), ('는', 'ETM'), ('앱', 'NNG')], [('그냥', 'MAG'), ('쓰레기', 'NNG'), ('이', 'VCP'), ('ㅂ니다', 'EC')], [('업데이트', 'NNP'), ('후', 'NNG'), ('에', 'JKB'), ('갑자기', 'MAG'), ('원격조종앱', 'NNG'), ('이', 'JKS'), ('발견', 'NNG'), ('되', 'XSV'), ('었', 'EP'), ('다고', 'EC'), ('실행', 'NNG'), ('이', 'JKS'), ('안', 'NNG'), ('되', 'XSV'), ('는데', 'EC'), ('무슨', 'MM'), ('앱인지', 'NNG'), ('는', 'JX'), ('알리', 'VV'), ('어', 'EC'), ('주', 'VX'), ('어야', 'EC'), ('지우', 'VV'), ('던지', 'EC'), ('할거', 'NNG'), ('아니', 'VCN'), ('오', 'EC'), ('뭐', 'NP'), ('이리', 'MAG'), ('불', 'XPN'), ('친절', 'NNG'), ('하', 'XSV'), ('아', 'EC'), ('내', 'VV'), ('ㄴ', 'ETM'), ('장', 'NNP')], [('개발자', 'NNP'), ('는', 'JX'), ('테스트', 'NNP'), ('도', 'JX'), ('안', 'NNG'), ('하', 'XSV'), ('고', 'EC'), ('출시', 'NNG'), ('하', 'XSV'), ('나요', 'EC'), ('로그인', 'NNG'), ('정상', 'NNG'), ('적', 'XSN'), ('으로', 'JKB'), ('하', 'VV'), ('았', 'EP'), ('고', 'EC'), ('기타', 'NNG'), ('조회', 'NNP'), ('하', 'VV'), ('ㄹ', 'ETM'), ('때', 'NNG'), ('마다', 'JX'), ('로그인', 'NNG'), ('계속', 'MAG'), ('하', 'VV'), ('라고', 'EC'), ('하지', 'NNP'), ('ㄹ', 'JKO'), ('않', 'VX'), ('나', 'EC'), ('뭐', 'NP'), ('되', 'VV'), ('는', 'ETM'), ('게', 'EC'), ('하나', 'NR'), ('도', 'JX'), ('없', 'VA'), ('네', 'EC')], [('정말', 'MAG'), ('형편없', 'VA'), ('는', 'ETM'), ('앱이다', 'NA'), ('이', 'MM'), ('따위', 'NNB'), ('것', 'NNB'), ('을', 'JKO'), ('만들', 'VV'), ('는', 'ETM'), ('비용', 'NNG'), ('이', 'JKS'), ('아깝', 'VA'), ('다', 'EC')], [('웬만', 'XR'), ('하', 'XSA'), ('면', 'EC'), ('나쁘', 'VA'), ('ㄴ', 'ETM'), ('평가', 'NNG'), ('를', 'JKO'), ('안', 'NNG'), ('하', 'XSV'), ('ㄹ려고', 'EC'), ('하', 'VV'), ('는데', 'EC'), ('이', 'MM'), ('앱', 'NNG'), ('은', 'JX'), ('좀', 'MAG'), ('심각', 'XR'), ('하', 'XSA'), ('다', 'EC'), ('다른', 'MM'), ('분', 'NNB'), ('들', 'XSN'), ('평가', 'NNG'), ('처럼', 'JKB'), ('느리', 'VA'), ('ㄴ', 'ETM'), ('건', 'NNB'), ('둘째', 'NR'), ('치', 'VV'), ('고', 'EC'), ('로그인', 'NNG'), ('하', 'XSV'), ('면', 'EC'), ('주기', 'NNG'), ('적', 'XSN'), ('으로', 'JKB'), ('고객정보', 'NNG'), ('를', 'JKO'), ('갱신', 'NNG'), ('하', 'XSV'), ('아야', 'EC'), ('하', 'VV'), ('ㄴ다는', 'ETM'), ('화면', 'NNG'), ('과', 'JC'), ('함께', 'MAG'), ('정보', 'NNG'), ('갱신', 'NNG'), ('화면', 'NNG'), ('으로', 'JKB'), ('넘어가', 'VV'), ('는데', 'EC'), ('다', 'MAG'), ('입력', 'NNG'), ('하', 'XSV'), ('고', 'EC'), ('나', 'VV'), ('면', 'EC'), ('다른', 'MM'), ('방법', 'NNG'), ('으로', 'JKB'), ('인증', 'NNG'), ('하', 'XSV'), ('아야', 'EC'), ('하', 'VV'), ('ㄴ다는', 'ETM'), ('메세지', 'NNG'), ('와', 'JC'), ('함께', 'MAG'), ('등록', 'NNG'), ('이', 'JKS'), ('안', 'NNG'), ('되', 'XSV'), ('고', 'EC'), ('인증센터', 'NNG'), ('를', 'JKO'), ('가', 'VV'), ('아서', 'EC'), ('인증서', 'NNG'), ('를', 'JKO'), ('등록', 'NNG'), ('하', 'XSV'), ('려고', 'EC'), ('하', 'VV'), ('면', 'EC'), ('고객정보', 'NNG'), ('를', 'JKO'), ('갱신', 'NNG'), ('하', 'XSV'), ('아야', 'EC'), ('하', 'VV'), ('ㄴ다고', 'EC'), ('화면', 'NNG'), ('이', 'JKS'), ('다시', 'MAG'), ('정보', 'NNG'), ('갱신', 'NNG'), ('화면', 'NNG'), ('으로', 'JKB'), ('돌아가', 'VV'), ('ㄴ다', 'EC'), ('아니', 'MAG'), ('로그인', 'NNG'), ('자체', 'NNG'), ('를', 'JKO'), ('못하', 'VX'), ('는데', 'EC'), ('어떻', 'VA'), ('게', 'EC'), ('이용', 'NNG'), ('하', 'XSV'), ('라는', 'ETM'), ('말', 'NNG'), ('이', 'VCP'), ('ㄴ지', 'EC'), ('고객', 'NNG'), ('의', 'JKG'), ('자금', 'NNG'), ('을', 'JKO'), ('운영', 'NNG'), ('하', 'XSV'), ('는', 'ETM'), ('앱', 'NNG'), ('이', 'JKS'), ('이', 'MM'), ('따위', 'NNB'), ('이', 'VCP'), ('ㄴ데', 'EC'), ('회사', 'NNG'), ('의', 'JKG'), ('운영', 'NNG'), ('을', 'JKO'), ('믿', 'VV'), ('을', 'ETM'), ('만', 'NNP'), ('한', 'NNP'), ('건지', 'NNG'), ('모르', 'VV'), ('겠', 'EP'), ('다', 'EC')], [('10', 'SN'), ('점', 'NNB'), ('이', 'JKS'), ('없', 'VA'), ('네요', 'EC'), ('정말', 'MAG'), ('최악', 'NNG'), ('이', 'VCP'), ('ㅂ니다', 'EC')], [('너무', 'MAG'), ('불편', 'NNG'), ('하', 'XSV'), ('네요', 'EC'), ('예외', 'NNG'), ('처리', 'NNG'), ('가', 'JKS'), ('왜', 'MAG'), ('이렇', 'VA'), ('게', 'EC'), ('안', 'NNG'), ('되', 'XSV'), ('어', 'EC'), ('있', 'VX'), ('는', 'ETM'), ('건지', 'NNG'), ('로그인', 'NNG'), ('실패', 'NNG'), ('하', 'XSV'), ('면', 'EC'), ('온갖', 'MM'), ('팝', 'NNG'), ('업', 'NNG'), ('이', 'JKS'), ('다', 'MAG'), ('뜨', 'VV'), ('네요', 'EC')], [('진짜', 'MAG'), ('못', 'MAG'), ('만들', 'VV'), ('ㅁ', 'ETN')], [('이렇', 'VA'), ('게', 'EC'), ('접속', 'NNG'), ('이', 'JKS'), ('안', 'NNG'), ('되', 'XSV'), ('는', 'ETM'), ('앱', 'NNG'), ('은', 'JX'), ('처음', 'NNG'), ('봄', 'NNP')], [('앱', 'NNG'), ('뿐', 'NNB'), ('만', 'JX'), ('아니', 'VCN'), ('라', 'EC'), ('한국증권금융', 'NNP'), ('홈페이지', 'NNP'), ('도', 'JX'), ('심각', 'XR'), ('하', 'XSA'), ('ㄴ', 'ETM'), ('수준', 'NNG'), ('이', 'VCP'), ('ㅂ니다', 'EC'), ('서버', 'NNP'), ('문제', 'NNG'), ('이', 'VCP'), ('ㄴ지', 'EC'), ('메뉴', 'NNP'), ('클릭', 'NNG'), ('하', 'XSV'), ('고', 'EC'), ('다음', 'NNG'), ('으로', 'JKB'), ('이동', 'NNG'), ('이', 'JKS'), ('수분', 'NNP'), ('이', 'JKS'), ('걸리', 'VV'), ('ㄹ', 'ETM'), ('정도', 'NNG'), ('로', 'JKB'), ('느리', 'VA'), ('고', 'EC'), ('사용', 'NNG'), ('이', 'JKS'), ('어렵', 'VA'), ('ㄹ', 'ETM'), ('정도', 'NNG'), ('이', 'VV'), ('ㅂ니다', 'EC')], [('끔찍', 'XR'), ('하', 'XSA'), ('ㅂ니다', 'EC'), ('금융인증서', 'NNG'), ('로그인', 'NNG'), ('에', 'JKB'), ('아무리', 'MAG'), ('클릭', 'NNP'), ('해도', 'NNP'), ('진입', 'NNG'), ('이', 'JKS'), ('안', 'NNG'), ('되', 'XSV'), ('ㅂ니다', 'EC')], [('상당히', 'MAG'), ('불편', 'NNG')], [('인간', 'NNG'), ('적', 'XSN'), ('으로', 'JKB'), ('너무', 'MAG'), ('하네', 'NNP'), ('담당자', 'NNG'), ('짜', 'VV'), ('ㄹ라', 'EC'), ('야', 'JX'), ('하', 'VV'), ('ㄹ', 'ETM'), ('듯', 'NNB'), ('담당자', 'NNG'), ('개발', 'NNG'), ('테스트', 'NNP'), ('안함', 'NNP'), ('이', 'VV'), ('게', 'EC'), ('쓰', 'VV'), ('라고', 'EC'), ('만들', 'VV'), ('ㄴ', 'ETM'), ('거', 'NNB'), ('계속', 'MAG'), ('반복', 'NNP'), ('되', 'VV'), ('잖아요', 'EC')], [('회원', 'NNG'), ('가입', 'NNG'), ('후', 'NNG'), ('ID', 'NNG'), ('로', 'JKB'), ('로그인', 'NNG'), ('후', 'NNG'), ('인증센터', 'NNG'), ('간편인증', 'NNG'), ('비밀번호', 'NNG'), ('설정', 'NNG'), ('시', 'XSN'), ('신분증', 'NNP'), ('촬영', 'NNG'), ('후', 'NNG'), ('다음', 'NNG'), ('화면', 'NNG'), ('에서', 'JKB'), ('계속', 'MAG'), ('다운', 'NNG'), ('되', 'XSV'), ('네요', 'EC'), ('몇', 'MM'), ('수십', 'NR'), ('번', 'NNB'), ('어찌', 'MAG'), ('하', 'XSV'), ('아야', 'EC'), ('되', 'VV'), ('ㄹ지', 'EC'), ('난감', 'XR'), ('하', 'XSA'), ('네요', 'EC'), ('앱', 'NNG'), ('을', 'JKO'), ('만들', 'VV'), ('고', 'EC'), ('테스트', 'NNP'), ('를', 'JKO'), ('한', 'MM'), ('건지', 'NNG'), ('정말', 'MAG'), ('짜증', 'NNG'), ('나', 'VV'), ('네요', 'EC')], [('오', 'VV'), ('아', 'EC'), ('진짜', 'MAG'), ('개', 'NNB'), ('쓰레기', 'NNG'), ('같이', 'JKB'), ('만들', 'VV'), ('었', 'EP'), ('네요', 'EC'), ('진짜', 'MAG'), ('허', 'NNP'), ('접합', 'NNP'), ('니다', 'NNP'), ('투자', 'NNG'), ('좀', 'MAG'), ('더하', 'VV'), ('시', 'EP'), ('죠', 'EC')], [('이런앱', 'NNG'), ('은', 'JX'), ('전', 'NNG'), ('에', 'JKB'), ('도', 'JX'), ('없', 'VA'), ('었', 'EP'), ('고', 'EC'), ('앞으로', 'NNP'), ('도', 'JX'), ('없', 'VA'), ('을', 'ETM'), ('최악', 'NNG'), ('의', 'JKG'), ('앱이다', 'NA')], [('로그인', 'NNG'), ('인증', 'NNP'), ('무한', 'NNP'), ('반복', 'NNP'), ('이', 'VCP'), ('네요', 'EC'), ('짜증', 'NNP'), ('지대', 'NNP'), ('로', 'JKB'), ('나', 'VV'), ('네요', 'EC')], [('뭘', 'IC'), ('할라', 'NNP'), ('하면', 'NNP'), ('로그인', 'NNG'), ('을', 'JKO'), ('하', 'VV'), ('라', 'EC'), ('하', 'VX'), ('고', 'EC'), ('로그인', 'NNG'), ('하', 'XSV'), ('ㄹ려', 'EC'), ('하', 'VX'), ('면', 'EC'), ('인증서', 'NNG'), ('센터', 'NNG'), ('를', 'JKO'), ('하', 'VV'), ('라', 'EC'), ('그러', 'VV'), ('고', 'EC'), ('인증센터', 'NNG'), ('에서', 'JKB'), ('인증', 'NNG'), ('하', 'XSV'), ('ㄹ려', 'EC'), ('하', 'VX'), ('면', 'EC'), ('로그인', 'NNG'), ('하', 'VV'), ('라', 'EC'), ('그러', 'VV'), ('고', 'EC'), ('무한루프', 'NNP'), ('반복', 'NNP'), ('이', 'VV'), ('게', 'EC'), ('맞', 'VV'), ('음', 'ETN'), ('앱만든사람', 'NA'), ('직접', 'MAG'), ('쓰', 'VV'), ('어', 'EC'), ('보', 'VX'), ('고', 'EC'), ('이', 'MM'), ('따', 'NNG'), ('구로', 'NNP'), ('만들', 'VV'), ('ㄴ', 'ETM'), ('것', 'NNB'), ('ㄴ가', 'EC'), ('싶', 'VX'), ('은', 'ETM'), ('디', 'NNP'), ('불편', 'NNG'), ('하', 'XSV'), ('ㄴ', 'ETM'), ('정도', 'NNG'), ('가', 'JKS'), ('아니', 'VCN'), ('라', 'EC'), ('그냥', 'MAG'), ('못쓰', 'VV'), ('ㄹ', 'ETM'), ('정도', 'NNP'), ('이', 'VCP'), ('ㅂ니다', 'EC')], [('간단', 'XR'), ('하', 'XSA'), ('아서', 'EC'), ('좋', 'VA'), ('았', 'EP'), ('음', 'ETN')], [('공동인증서', 'NNP'), ('등록', 'NNG'), ('하', 'XSV'), ('아서', 'EC'), ('계속', 'NNG'), ('하', 'XSV'), ('아서', 'EC'), ('로그인', 'NNG'), ('하', 'XSV'), ('고', 'EC'), ('하', 'XSA'), ('엇', 'EP'), ('엇', 'EP'), ('는데', 'EC'), ('갑자기', 'MAG'), ('공동인증서', 'NNP'), ('가', 'JKS'), ('없', 'VA'), ('어', 'EC'), ('지', 'VX'), ('엇', 'EP'), ('다고', 'EC'), ('나오', 'VV'), ('네요', 'EC'), ('뭔', 'MM'), ('일', 'NNB'), ('이', 'VCP'), ('죠', 'EC')], [('로그인', 'NNG'), ('으로', 'JKB'), ('조회', 'NNP'), ('안', 'NNG'), ('되', 'XSV'), ('ㄹ', 'ETM'), ('꺼', 'NNB'), ('이', 'VCP'), ('면', 'EC'), ('회원', 'NNG'), ('가입', 'NNG'), ('이랑', 'NNP'), ('본인인증', 'NNG'), ('은', 'JX'), ('왜', 'MAG'), ('시키', 'NNP'), ('는', 'JX'), ('이', 'VCP'), ('거냐', 'EC')], [('이', 'MM'), ('딴', 'NNB'), ('앱', 'NNG'), ('을', 'JKO'), ('쓰', 'VV'), ('라고', 'EC'), ('만들', 'VV'), ('ㄴ', 'ETM'), ('건', 'NNB'), ('가요', 'NNP'), ('0', 'SN'), ('점', 'NNB'), ('이', 'JKS'), ('없', 'VA'), ('어서', 'EC'), ('1', 'SN'), ('점', 'NNB'), ('답니다', 'EC'), ('진짜', 'MAG'), ('인간', 'NNG'), ('적', 'XSN'), ('으로', 'JKB'), ('너무', 'MAG'), ('불편', 'NNG'), ('하', 'XSV'), ('ㅂ니다', 'EC'), ('터치', 'NNP'), ('횟수', 'NNG'), ('화면', 'NNG'), ('수', 'NNB'), ('로딩', 'NNP'), ('시간', 'NNP'), ('최소한', 'NNG'), ('타', 'MM'), ('금융', 'NNG'), ('앱', 'NNG'), ('비교', 'NNG'), ('한', 'MM'), ('번', 'NNB'), ('이', 'VCP'), ('라도', 'EC'), ('보', 'VV'), ('고', 'EC'), ('개선', 'NNG'), ('좀', 'MAG'), ('하', 'VV'), ('시', 'EP'), ('어요', 'EC'), ('중복', 'NNG'), ('프로세스', 'NNP'), ('는', 'JX'), ('왜', 'MAG'), ('그리', 'MAG'), ('많', 'VA'), ('은지', 'EC'), ('인증서', 'NNG'), ('하나', 'NR'), ('발급', 'NNG'), ('하', 'XSV'), ('는', 'ETM'), ('입력', 'NNP'), ('값', 'NNG'), ('버튼', 'NNP'), ('약관', 'NNP'), ('확인', 'NNG'), ('진짜', 'MAG'), ('환장', 'NNG'), ('하', 'VV'), ('네요', 'EC')], [('정말', 'MAG'), ('최악', 'NNG'), ('의', 'JKG'), ('앱이다', 'NA'), ('정말로', 'MAG'), ('전', 'MM'), ('세계', 'NNP'), ('최악', 'NNG'), ('순위', 'NNP'), ('1', 'SN'), ('위', 'NNB'), ('등극', 'NNG'), ('수준', 'NNG'), ('의', 'JKG'), ('앱이다', 'NA'), ('부끄러움', 'NNG'), ('을', 'JKO'), ('모르', 'VV'), ('는', 'ETM'), ('앱이다', 'NA')], [('분명히', 'MAG'), ('한', 'MM'), ('달', 'NNG'), ('전', 'NNP'), ('쯤', 'NNB'), ('에', 'JKB'), ('저', 'NNG'), ('인증서', 'NNG'), ('새로', 'MAG'), ('발급', 'NNG'), ('받', 'VV'), ('고', 'EC'), ('업무', 'NNG'), ('처리', 'NNP'), ('하', 'VV'), ('았', 'EP'), ('는데', 'EC'), ('오늘', 'NNG'), ('들어가', 'VV'), ('니', 'EC'), ('인증서', 'NNG'), ('없', 'VA'), ('다고', 'EC'), ('나오', 'VV'), ('네요', 'EC'), ('정말', 'MAG'), ('문제', 'NNG'), ('가', 'JKS'), ('많', 'VA'), ('은', 'ETM'), ('앱입니다', 'NA')], [('앱', 'NNG'), ('도', 'JX'), ('뭣', 'NP'), ('같이', 'JKB'), ('만들', 'VV'), ('어', 'EC'), ('놓', 'VX'), ('았', 'EP'), ('네', 'EC'), ('돌', 'NNP'), ('대가리', 'NNP'), ('들', 'XSN'), ('이', 'JKS'), ('만들', 'VV'), ('었', 'EP'), ('나', 'EC')], [('업데이트', 'NNP'), ('가', 'JKS'), ('안', 'NNG'), ('되', 'XSV'), ('는데', 'EC'), ('어떻', 'VA'), ('게', 'EC'), ('하', 'VX'), ('란', 'ETM'), ('거', 'NNB'), ('죠', 'EC')]]\n"
          ]
        }
      ]
    },
    {
      "cell_type": "code",
      "source": [
        "# Extract common and proper nouns from the morphological analysis results\n",
        "# - NNG: general/common nouns\n",
        "# - NNP: proper nouns\n",
        "# - stop_words_set: user-defined stopword list to filter out irrelevant tokens\n",
        "NN_words = get_NNG_NNP_words(morphs_list, stop_words_list=stop_words_set)\n",
        "\n",
        "print(NN_words[:100])"
      ],
      "metadata": {
        "colab": {
          "base_uri": "https://localhost:8080/"
        },
        "id": "nLDV7NdLry7W",
        "outputId": "67392bff-3844-45e3-b48a-72297b28132b"
      },
      "execution_count": 12,
      "outputs": [
        {
          "output_type": "stream",
          "name": "stdout",
          "text": [
            "[[], [], [], [], ['개정', '편의성', '상품', '정보', '주사', '메뉴', '노출', '쓰기'], ['원활', '비대면', '가입', '감사'], ['별점', '신분증', '인증', '인증', '성공', '이동', '로그인', '필수', '계좌인증', '계좌', '인증', '번호', '증권사', '무한', '버퍼링', '종료', '버퍼링', '내용', '개선'], ['무결성', '검증', '실패'], ['과거', '시중', '금융', '비교', '부분', '디자인', '기능', '수고'], ['신분증', '등록', '인증', '이안'], [], ['파킹통장', '금리'], ['생각'], ['리뉴얼'], ['최고'], ['대출', '신상품'], ['시스템', '개편', '서비스'], ['개편', '사용자', '편의성'], ['만족'], ['한국증권금융앱', '직관'], ['비밀번호', '임시', '비밀번호', '로그인', '이전', '비밀번호'], ['짜증', '필요'], ['메뉴', '정리'], [], ['금리', '좋아서', '최근', '편의성', '개선'], ['UI', '도움'], [], ['관리'], ['디자인'], ['안정', '개선', '전반', '인터페이스', '직관', '앞으로', '예정'], ['평상시', '편의성', '인터페이스', '은행앱', '비교', '손색', '금리', '예정'], ['리뉴얼', '편의성'], ['모바일뱅킹', '최근', '이전', '현상', '디자인', '불편', '이제', '문제', '해결', '이미지', '전반', '현대', '느낌', '이전', '인증', '등록', '오류', '발생', '스트레스', '지금', '부분', '개선', '사용자', '입장', '안정', '환경', '조성'], ['UI', '직관', '대출', '상품'], ['리뉴얼', '사용성'], ['안정', '공공기관', '디자인', '개선', '와이드', '예수금', '금리', '전체', '만족도'], ['해진', '거래'], ['원격조정앱', '감지', '앱인지', '처리'], ['쓰레기'], ['경험', '관리', '무한', '로그인', '환장'], [], ['개설', '신분증', '신청', '본인인증', '무한', '반복', '기본', '해결', '정상'], ['최악', '로그인', '인증서', '등록', '대머리'], ['거지', '인증', '리뷰', '처음'], [], ['이거', '이전'], ['가입', '페이지', '가입', '버튼', '조작', '앱중', '가입', '처음'], ['가입', '동의', '동의'], ['최악'], ['공무원', '구지'], ['그놈', '인증', '인증', '별점'], ['지문', '등록', '방법', '로그인', '등록', '오류', '이상', '시도', '재설치'], ['금융인증서', '등록', '로딩'], ['사용자', '입장', '불편'], ['공동인증서', '타기관', '공유', '불편', '사이트', '자체'], ['매매', '매도', '증상', '복구', '손해', '보기', '거래', '주식', '매도', '대상', '주식', '선택', '이틀'], [], ['인터넷뱅킹', '금융', '정보'], ['이상', '개발자', '당사자', '메뉴', '선택', '로그인', '로그인'], ['로그인', '지옥', '경험', '쓰레기', '구로', '관리'], ['돌이', '로그인', '거래', '조회', '인정', '필요', '마지막', '원위치', '뺑뺑이', '인내력', '시험', '평가', '성질', '휴대폰', '수도'], [], ['로그인', '이동', '로그인', '접근', '조치'], ['회사', '스팸앱', '성의'], ['자동', '로그', '아웃', '공동인증서', '보내기', '앱에서', '로그인', '오류'], [], ['EH'], [], ['바이오인증', '오류', '환장'], [], ['최악', '쓰레기', '페이지', '수준'], ['사주', '단독', '독점'], ['최악'], ['피드백', '관리도', '사용자', '편의성', '보장'], ['쓰레기'], ['원격조종앱', '발견', '앱인지', '할거', '친절'], ['개발자', '테스트', '출시', '로그인', '정상', '기타', '조회', '로그인'], ['비용'], ['평가', '평가', '로그인', '주기', '고객정보', '갱신', '정보', '갱신', '입력', '방법', '인증', '메세지', '등록', '인증센터', '인증서', '등록', '고객정보', '갱신', '정보', '갱신', '로그인', '자체', '고객', '자금', '운영', '회사', '운영'], ['최악'], ['불편', '예외', '처리', '로그인', '실패'], [], ['처음'], ['한국증권금융', '홈페이지', '수준', '서버', '문제', '메뉴', '클릭', '다음', '이동', '수분'], ['금융인증서', '로그인', '클릭', '해도', '진입'], ['불편'], ['인간', '하네', '담당자', '담당자', '개발', '테스트', '안함', '반복'], ['회원', '가입', 'ID', '로그인', '인증센터', '간편인증', '비밀번호', '설정', '신분증', '촬영', '다음', '다운', '테스트', '짜증'], ['쓰레기', '접합', '니다', '투자'], ['이런앱', '앞으로', '최악'], ['로그인', '인증', '무한', '반복', '짜증', '지대'], ['할라', '하면', '로그인', '로그인', '인증서', '센터', '인증센터', '인증', '로그인', '무한루프', '반복', '구로', '불편'], [], ['공동인증서', '등록', '계속', '로그인', '공동인증서'], ['로그인', '조회', '회원', '가입', '이랑', '본인인증', '시키'], ['인간', '불편', '터치', '횟수', '로딩', '최소한', '금융', '비교', '개선', '중복', '프로세스', '인증서', '발급', '입력', '버튼', '약관', '환장'], ['최악', '세계', '최악', '순위', '등극', '수준', '부끄러움'], ['인증서', '발급', '업무', '처리', '인증서', '문제'], ['대가리'], []]\n"
          ]
        }
      ]
    },
    {
      "cell_type": "code",
      "source": [
        "# Remove completely empty tokenized documents before creating the dictionary\n",
        "NN_words = [doc for doc in NN_words if doc]\n",
        "print(NN_words[:100])"
      ],
      "metadata": {
        "colab": {
          "base_uri": "https://localhost:8080/"
        },
        "id": "5OKgGaGjaPyj",
        "outputId": "ebdba88f-217b-49b8-9cb5-c081ef480d7f"
      },
      "execution_count": 13,
      "outputs": [
        {
          "output_type": "stream",
          "name": "stdout",
          "text": [
            "[['개정', '편의성', '상품', '정보', '주사', '메뉴', '노출', '쓰기'], ['원활', '비대면', '가입', '감사'], ['별점', '신분증', '인증', '인증', '성공', '이동', '로그인', '필수', '계좌인증', '계좌', '인증', '번호', '증권사', '무한', '버퍼링', '종료', '버퍼링', '내용', '개선'], ['무결성', '검증', '실패'], ['과거', '시중', '금융', '비교', '부분', '디자인', '기능', '수고'], ['신분증', '등록', '인증', '이안'], ['파킹통장', '금리'], ['생각'], ['리뉴얼'], ['최고'], ['대출', '신상품'], ['시스템', '개편', '서비스'], ['개편', '사용자', '편의성'], ['만족'], ['한국증권금융앱', '직관'], ['비밀번호', '임시', '비밀번호', '로그인', '이전', '비밀번호'], ['짜증', '필요'], ['메뉴', '정리'], ['금리', '좋아서', '최근', '편의성', '개선'], ['UI', '도움'], ['관리'], ['디자인'], ['안정', '개선', '전반', '인터페이스', '직관', '앞으로', '예정'], ['평상시', '편의성', '인터페이스', '은행앱', '비교', '손색', '금리', '예정'], ['리뉴얼', '편의성'], ['모바일뱅킹', '최근', '이전', '현상', '디자인', '불편', '이제', '문제', '해결', '이미지', '전반', '현대', '느낌', '이전', '인증', '등록', '오류', '발생', '스트레스', '지금', '부분', '개선', '사용자', '입장', '안정', '환경', '조성'], ['UI', '직관', '대출', '상품'], ['리뉴얼', '사용성'], ['안정', '공공기관', '디자인', '개선', '와이드', '예수금', '금리', '전체', '만족도'], ['해진', '거래'], ['원격조정앱', '감지', '앱인지', '처리'], ['쓰레기'], ['경험', '관리', '무한', '로그인', '환장'], ['개설', '신분증', '신청', '본인인증', '무한', '반복', '기본', '해결', '정상'], ['최악', '로그인', '인증서', '등록', '대머리'], ['거지', '인증', '리뷰', '처음'], ['이거', '이전'], ['가입', '페이지', '가입', '버튼', '조작', '앱중', '가입', '처음'], ['가입', '동의', '동의'], ['최악'], ['공무원', '구지'], ['그놈', '인증', '인증', '별점'], ['지문', '등록', '방법', '로그인', '등록', '오류', '이상', '시도', '재설치'], ['금융인증서', '등록', '로딩'], ['사용자', '입장', '불편'], ['공동인증서', '타기관', '공유', '불편', '사이트', '자체'], ['매매', '매도', '증상', '복구', '손해', '보기', '거래', '주식', '매도', '대상', '주식', '선택', '이틀'], ['인터넷뱅킹', '금융', '정보'], ['이상', '개발자', '당사자', '메뉴', '선택', '로그인', '로그인'], ['로그인', '지옥', '경험', '쓰레기', '구로', '관리'], ['돌이', '로그인', '거래', '조회', '인정', '필요', '마지막', '원위치', '뺑뺑이', '인내력', '시험', '평가', '성질', '휴대폰', '수도'], ['로그인', '이동', '로그인', '접근', '조치'], ['회사', '스팸앱', '성의'], ['자동', '로그', '아웃', '공동인증서', '보내기', '앱에서', '로그인', '오류'], ['EH'], ['바이오인증', '오류', '환장'], ['최악', '쓰레기', '페이지', '수준'], ['사주', '단독', '독점'], ['최악'], ['피드백', '관리도', '사용자', '편의성', '보장'], ['쓰레기'], ['원격조종앱', '발견', '앱인지', '할거', '친절'], ['개발자', '테스트', '출시', '로그인', '정상', '기타', '조회', '로그인'], ['비용'], ['평가', '평가', '로그인', '주기', '고객정보', '갱신', '정보', '갱신', '입력', '방법', '인증', '메세지', '등록', '인증센터', '인증서', '등록', '고객정보', '갱신', '정보', '갱신', '로그인', '자체', '고객', '자금', '운영', '회사', '운영'], ['최악'], ['불편', '예외', '처리', '로그인', '실패'], ['처음'], ['한국증권금융', '홈페이지', '수준', '서버', '문제', '메뉴', '클릭', '다음', '이동', '수분'], ['금융인증서', '로그인', '클릭', '해도', '진입'], ['불편'], ['인간', '하네', '담당자', '담당자', '개발', '테스트', '안함', '반복'], ['회원', '가입', 'ID', '로그인', '인증센터', '간편인증', '비밀번호', '설정', '신분증', '촬영', '다음', '다운', '테스트', '짜증'], ['쓰레기', '접합', '니다', '투자'], ['이런앱', '앞으로', '최악'], ['로그인', '인증', '무한', '반복', '짜증', '지대'], ['할라', '하면', '로그인', '로그인', '인증서', '센터', '인증센터', '인증', '로그인', '무한루프', '반복', '구로', '불편'], ['공동인증서', '등록', '계속', '로그인', '공동인증서'], ['로그인', '조회', '회원', '가입', '이랑', '본인인증', '시키'], ['인간', '불편', '터치', '횟수', '로딩', '최소한', '금융', '비교', '개선', '중복', '프로세스', '인증서', '발급', '입력', '버튼', '약관', '환장'], ['최악', '세계', '최악', '순위', '등극', '수준', '부끄러움'], ['인증서', '발급', '업무', '처리', '인증서', '문제'], ['대가리'], ['사용자', '로그인', '메뉴', '이동', '로그인', '필요', '로그인', '버퍼', '하루', '종일', '별점'], ['개막장앱', '처음', '해외', '대출', '연장', '사투', '초딩', '개발자', '오류', '인증서', '다운', '비밀번호', '관리', '퇴사', '아무도', '신경', '이유', '고객', '악플에', '관리자', '공지', '고객', '연체', '자동', '이체', '신경', '최악', '반대', '매매'], ['최악'], ['유발', '그지'], ['극한'], ['대기', '설치'], ['서비스', '아이', '로그인', '인증', '방식', '로그인', '필요', '인증', '방식', '등록', '개인정보', '변경', '필요', '개인정보', '변경', '인증', '방식', '로그인', '오류', '무한루프', '짜증'], ['타기관', '공동인증서', '등록', '모발'], ['거지', '계좌', '계속', '중단', '거지', '밥통', '증권사'], ['계좌', '개설', '관리', '선택', '전화', '설치', '별짓'], ['해외', '몇번을', '온라인', '주소', '해외여행', '기간', '대출', '기한'], ['구독', '알람', '설정'], ['성의', '담당자'], ['인증', '절차', '오류', '인증', '계좌인증', '오류로', '다음', '단계', '불가', 'UI', '구려', '예전'], ['우리사주'], ['쓰레기'], ['불량']]\n"
          ]
        }
      ]
    },
    {
      "cell_type": "markdown",
      "source": [
        "## 3. Stopword Filtering and Dictionary Construction\n",
        "After tokenization, stopwords are removed.  \n",
        "A **Gensim Dictionary** is then built to map tokens to integer IDs,  \n",
        "filtering out extremely rare or overly frequent words for stable topic modeling."
      ],
      "metadata": {
        "id": "W-R47of6jQPW"
      }
    },
    {
      "cell_type": "code",
      "source": [
        "# Create dictionary and corpus for LDA\n",
        "dictionary = Dictionary(NN_words) #from gensim.corpora import Dictionary\n",
        "print(\"# of unique tokens in the corpus: %d\"%len(dictionary))\n",
        "\n",
        "# Filter out extremely rare and overly common tokens to improve model stability\n",
        "dictionary.filter_extremes(keep_n=1000, no_below=NO_BELOW, no_above=0.5)\n",
        "print(\"# of tokens remaining after frequency filtering: %d\"%len(dictionary))"
      ],
      "metadata": {
        "id": "xH9xHnnruKEP",
        "colab": {
          "base_uri": "https://localhost:8080/"
        },
        "outputId": "235a7fa5-0323-480c-f0f7-e6d1f6eb5523"
      },
      "execution_count": 14,
      "outputs": [
        {
          "output_type": "stream",
          "name": "stdout",
          "text": [
            "# of unique tokens in the corpus: 591\n",
            "# of tokens remaining after frequency filtering: 63\n"
          ]
        }
      ]
    },
    {
      "cell_type": "code",
      "source": [
        "# Convert tokenized documents into Bag-of-Words (count vectors)\n",
        "corpus = [dictionary.doc2bow(text) for text in NN_words]\n",
        "print(\"# of final tokens in the dictionary: %d\"%len(dictionary))\n",
        "print(\"# of Bag-of-Words vectors: %d\"%len(corpus))"
      ],
      "metadata": {
        "colab": {
          "base_uri": "https://localhost:8080/"
        },
        "id": "qPe0zVS47ugp",
        "outputId": "d3a745ca-a91e-4cff-f3bf-e50a5eab8cbf"
      },
      "execution_count": 15,
      "outputs": [
        {
          "output_type": "stream",
          "name": "stdout",
          "text": [
            "# of final tokens in the dictionary: 63\n",
            "# of Bag-of-Words vectors: 318\n"
          ]
        }
      ]
    },
    {
      "cell_type": "markdown",
      "source": [
        "## 4. Topic Modeling with LDA\n",
        "We train two LDA models:\n",
        "1. **Bag-of-Words (BOW)**  \n",
        "2. **TF-IDF Weighted**  \n",
        "\n",
        "Both are evaluated and visualized using **PyLDAVis** for interactive topic exploration."
      ],
      "metadata": {
        "id": "CwkdsjoRk06J"
      }
    },
    {
      "cell_type": "code",
      "source": [
        "# LDA on Bag-of-Words representation\n",
        "lda_bow = LdaModel(corpus=corpus, id2word=dictionary, num_topics=NUM_TOPICS, passes=PASSES, random_state=RANDOM_STATE)\n",
        "\n",
        "for idx, topic in lda_bow.print_topics(num_words=NUM_WORDS):\n",
        "    print(f\"[BOW] Topic {idx}: {topic}\")"
      ],
      "metadata": {
        "colab": {
          "base_uri": "https://localhost:8080/"
        },
        "id": "XUiLFouRM1b0",
        "outputId": "7a9ed8d7-80f7-4735-8b3f-1371d4b81f58"
      },
      "execution_count": 16,
      "outputs": [
        {
          "output_type": "stream",
          "name": "stdout",
          "text": [
            "[BOW] Topic 0: 0.172*\"로그인\" + 0.123*\"등록\" + 0.104*\"공동인증서\" + 0.083*\"인증서\" + 0.039*\"타기관\" + 0.039*\"갱신\" + 0.032*\"필요\" + 0.029*\"금융인증서\" + 0.025*\"인증\" + 0.023*\"거지\"\n",
            "[BOW] Topic 1: 0.136*\"인증\" + 0.094*\"최악\" + 0.082*\"대출\" + 0.052*\"개선\" + 0.046*\"금리\" + 0.040*\"오류\" + 0.032*\"인증서\" + 0.029*\"담보\" + 0.029*\"고객\" + 0.028*\"짜증\"\n",
            "[BOW] Topic 2: 0.079*\"쓰레기\" + 0.073*\"가입\" + 0.061*\"오류\" + 0.060*\"우리사주\" + 0.058*\"불편\" + 0.058*\"설치\" + 0.049*\"관리\" + 0.042*\"처음\" + 0.041*\"비밀번호\" + 0.035*\"디자인\"\n"
          ]
        }
      ]
    },
    {
      "cell_type": "code",
      "source": [
        "# LDA Visualization on Bag-of-Words representation\n",
        "vis_bow = pyLDAvis.gensim_models.prepare(lda_bow, corpus, dictionary)\n",
        "pyLDAvis.display(vis_bow)"
      ],
      "metadata": {
        "colab": {
          "base_uri": "https://localhost:8080/",
          "height": 861
        },
        "id": "IjhbaXgQNTcA",
        "outputId": "da03722a-3c3a-4d58-f0c5-744db1471379"
      },
      "execution_count": 17,
      "outputs": [
        {
          "output_type": "execute_result",
          "data": {
            "text/plain": [
              "<IPython.core.display.HTML object>"
            ],
            "text/html": [
              "\n",
              "<link rel=\"stylesheet\" type=\"text/css\" href=\"https://cdn.jsdelivr.net/gh/bmabey/pyLDAvis@3.4.0/pyLDAvis/js/ldavis.v1.0.0.css\">\n",
              "\n",
              "\n",
              "<div id=\"ldavis_el60561333663321531683678420474\" style=\"background-color:white;\"></div>\n",
              "<script type=\"text/javascript\">\n",
              "\n",
              "var ldavis_el60561333663321531683678420474_data = {\"mdsDat\": {\"x\": [0.21086678706524667, -0.20758218096928707, -0.003284606095959568], \"y\": [-0.09863106737561637, -0.10338830747531627, 0.20201937485093258], \"topics\": [1, 2, 3], \"cluster\": [1, 1, 1], \"Freq\": [41.424243065088326, 31.738526428424557, 26.83723050648712]}, \"tinfo\": {\"Term\": [\"\\ub4f1\\ub85d\", \"\\ub85c\\uadf8\\uc778\", \"\\uc778\\uc99d\", \"\\uacf5\\ub3d9\\uc778\\uc99d\\uc11c\", \"\\ucd5c\\uc545\", \"\\ub300\\ucd9c\", \"\\uac00\\uc785\", \"\\uc4f0\\ub808\\uae30\", \"\\uc124\\uce58\", \"\\uc778\\uc99d\\uc11c\", \"\\uc6b0\\ub9ac\\uc0ac\\uc8fc\", \"\\ubd88\\ud3b8\", \"\\uae08\\ub9ac\", \"\\uad00\\ub9ac\", \"\\ucc98\\uc74c\", \"\\uac1c\\uc120\", \"\\uc624\\ub958\", \"\\ud0c0\\uae30\\uad00\", \"\\uac31\\uc2e0\", \"\\ub514\\uc790\\uc778\", \"\\ub2f4\\ubcf4\", \"\\uc0ac\\uc6a9\\uc790\", \"\\uc218\\uc900\", \"\\ucd5c\\uace0\", \"\\uc0dd\\uac01\", \"\\uacc4\\uc88c\", \"\\uae08\\uc735\\uc778\\uc99d\\uc11c\", \"\\ube44\\ubc00\\ubc88\\ud638\", \"\\uc9dc\\uc99d\", \"\\ud68c\\uc6d0\", \"\\ub4f1\\ub85d\", \"\\uacf5\\ub3d9\\uc778\\uc99d\\uc11c\", \"\\ud0c0\\uae30\\uad00\", \"\\uac31\\uc2e0\", \"\\uae08\\uc735\\uc778\\uc99d\\uc11c\", \"\\ub85c\\uadf8\\uc778\", \"\\uac70\\ub798\", \"\\uac70\\uc9c0\", \"\\ubc29\\ubc95\", \"\\ud544\\uc694\", \"\\uac10\\uc0ac\", \"\\uc778\\uc99d\\uc11c\", \"\\uc774\\uc0c1\", \"\\uc99d\\uad8c\\uc0ac\", \"\\uac1c\\ubc1c\\uc790\", \"UI\", \"\\ubc1c\\uae09\", \"\\ub9ac\\ubdf0\", \"\\uc774\\ub3d9\", \"\\uc815\\ubcf4\", \"\\uc870\\ud68c\", \"\\uace0\\uac1d\", \"\\uba54\\uc138\\uc9c0\", \"\\uc785\\ub825\", \"\\uba54\\ub274\", \"\\ud55c\\uad6d\\uc99d\\uad8c\\uae08\\uc735\", \"\\uae08\\uc735\", \"\\ubb38\\uc81c\", \"\\ube44\\ubc00\\ubc88\\ud638\", \"\\uc778\\uc99d\", \"\\ud68c\\uc0ac\", \"\\uc2e0\\ubd84\\uc99d\", \"\\uc4f0\\ub808\\uae30\", \"\\uc624\\ub958\", \"\\uac00\\uc785\", \"\\uc124\\uce58\", \"\\ucc98\\uc74c\", \"\\uad00\\ub9ac\", \"\\ub514\\uc790\\uc778\", \"\\ud68c\\uc6d0\", \"\\ub2e4\\uc6b4\\ub85c\\ub4dc\", \"\\ubc45\\ud0b9\", \"\\uc0ac\\uc6a9\\uc790\", \"\\uc694\\uc998\", \"\\uc4f0\\ub808\\uae30\", \"\\ub2e4\\uc6b4\", \"\\ubd88\\ud3b8\", \"\\uc6b0\\ub9ac\\uc0ac\\uc8fc\", \"\\ud14c\\uc2a4\\ud2b8\", \"\\ube44\\ubc00\\ubc88\\ud638\", \"\\uae08\\uc735\", \"\\uc2e0\\ubd84\\uc99d\", \"\\ud3b8\\uc758\\uc131\", \"\\uc624\\ub958\", \"\\uba54\\uc138\\uc9c0\", \"\\ubcf8\\uc778\\uc778\\uc99d\", \"\\uba54\\ub274\", \"\\uc815\\ubcf4\", \"\\ubaa8\\ubc14\\uc77c\", \"\\uc785\\ub825\", \"\\uc885\\ub8cc\", \"\\uc870\\ud68c\", \"\\ub9ac\\ubdf0\", \"\\uac1c\\ubc1c\\uc790\", \"\\uc9dc\\uc99d\", \"\\ub85c\\uadf8\\uc778\", \"\\ucd5c\\uc545\", \"\\uae08\\ub9ac\", \"\\ub300\\ucd9c\", \"\\uc218\\uc900\", \"\\ucd5c\\uace0\", \"\\uc0dd\\uac01\", \"\\uacc4\\uc88c\", \"\\ub2f4\\ubcf4\", \"\\uac1c\\uc120\", \"\\uc778\\uc99d\", \"\\ub2e4\\uc74c\", \"\\uc9dc\\uc99d\", \"\\ubb38\\uc81c\", \"\\ud68c\\uc0ac\", \"\\uc885\\ub8cc\", \"\\ud55c\\uad6d\\uc99d\\uad8c\\uae08\\uc735\", \"\\uace0\\uac1d\", \"\\ubaa8\\ubc14\\uc77c\", \"\\ubcf8\\uc778\\uc778\\uc99d\", \"\\uc774\\ub3d9\", \"\\ud3b8\\uc758\\uc131\", \"\\ubc1c\\uae09\", \"UI\", \"\\uc624\\ub958\", \"\\uc99d\\uad8c\\uc0ac\", \"\\uc785\\ub825\", \"\\uc2e0\\ubd84\\uc99d\", \"\\uc778\\uc99d\\uc11c\", \"\\uba54\\ub274\", \"\\uc6b0\\ub9ac\\uc0ac\\uc8fc\", \"\\ub85c\\uadf8\\uc778\"], \"Freq\": [37.0, 56.0, 35.0, 32.0, 18.0, 17.0, 17.0, 21.0, 13.0, 31.0, 16.0, 15.0, 9.0, 12.0, 10.0, 13.0, 24.0, 12.0, 12.0, 8.0, 6.0, 7.0, 5.0, 5.0, 5.0, 5.0, 9.0, 13.0, 7.0, 6.0, 36.96169273342235, 31.303159025409006, 11.600999409702599, 11.590566459409068, 8.716617685867806, 51.596684139435766, 5.972384180960536, 6.791747294771393, 5.789607561735898, 9.671644347104984, 4.483777974537422, 24.75290637504447, 4.370822405958652, 5.331966051866751, 4.267115494750821, 5.282062070898028, 4.614037626875691, 3.9305439151807637, 3.118080424901465, 4.228516762848563, 5.074687352493962, 5.392170588118319, 2.217025399781991, 2.738164282993367, 2.706881353031785, 2.1550018287053376, 1.3049303345889758, 1.2633577426049225, 2.9754387666060285, 7.640335629590833, 1.3933472979488168, 1.570106508074916, 2.5282045101085067, 2.4854744393812434, 16.745876814943458, 13.222570788984566, 9.742274783910112, 11.219021505474196, 8.009911026753679, 5.480410068184195, 5.476453101749629, 4.542157899057802, 6.803510500967202, 4.525024598205919, 18.06299150672188, 4.498802044871133, 13.398046948945973, 13.853767926938334, 4.798583020386058, 9.336394034521259, 3.6385755184801036, 4.85950617909845, 5.832800934801067, 14.012711714211635, 2.8724098721405857, 2.876199700079457, 3.9797238066938676, 3.6212085233423066, 4.209090468203108, 3.0470588998537718, 2.832936510385279, 3.839084787782607, 1.965440422457432, 1.5392140388112845, 1.620950434358555, 2.6225962446484288, 18.28383623830593, 8.855450220418545, 15.899477593936219, 5.025224429592527, 5.016104175695527, 4.995536555498445, 4.9513069432463706, 5.6855228496088515, 10.156965462575585, 26.495006389401848, 4.203652053234792, 5.398693397952086, 3.97360342038359, 4.17466557009517, 4.173357247958755, 3.297104968425301, 5.632662292319649, 4.77394442473285, 2.200234109038273, 2.2452499812741267, 3.7001691606806237, 2.628850393585774, 2.917407807632667, 7.794142922507256, 1.9038891924823054, 1.5077712316970264, 1.6457467394373932, 6.133021135999257, 1.4671012328260606, 2.521523643832208, 2.254183668072558], \"Total\": [37.0, 56.0, 35.0, 32.0, 18.0, 17.0, 17.0, 21.0, 13.0, 31.0, 16.0, 15.0, 9.0, 12.0, 10.0, 13.0, 24.0, 12.0, 12.0, 8.0, 6.0, 7.0, 5.0, 5.0, 5.0, 5.0, 9.0, 13.0, 7.0, 6.0, 37.76645693243081, 32.09296753076651, 12.258222529618816, 12.260318969211834, 9.417397425559244, 56.47346405215675, 6.589900249044385, 7.530001023979923, 6.591227500174649, 11.235948417490839, 5.600609594572167, 31.188771069436072, 5.599750382941794, 7.542060565666169, 6.479500902422176, 8.493455203654095, 7.54614447620993, 6.440424634683406, 5.655225563827624, 8.180066333682417, 10.05460171866004, 11.34066375266335, 5.412596720733129, 7.2929944145441645, 8.153706392551713, 6.534459635279829, 5.34395444155673, 5.653093537125782, 13.338538778636197, 35.02291446843492, 6.54826869598567, 8.07535942661076, 21.053979595411775, 24.292329076100135, 17.392096174065703, 13.929974008129324, 10.463778786053021, 12.221671694318923, 8.729958483427309, 6.122583613659856, 6.122962688667629, 5.262142704972213, 7.893384973223109, 5.264231461656967, 21.053979595411775, 5.2666546599178385, 15.805101815614044, 16.719247733444526, 6.184725256260821, 13.338538778636197, 5.34395444155673, 8.07535942661076, 9.888428249280478, 24.292329076100135, 5.412596720733129, 5.422120149733311, 8.153706392551713, 8.180066333682417, 10.040355204504769, 7.2929944145441645, 7.326322979351886, 10.05460171866004, 6.440424634683406, 6.479500902422176, 7.441956787990044, 56.47346405215675, 18.968078398630112, 9.469748510896267, 17.02152023083639, 5.669223665771568, 5.669738442901778, 5.66627360375232, 5.6681654191230635, 6.591718674801603, 13.123155127666674, 35.02291446843492, 5.595328274559874, 7.441956787990044, 5.653093537125782, 6.54826869598567, 7.326322979351886, 6.534459635279829, 11.34066375266335, 10.040355204504769, 5.422120149733311, 5.655225563827624, 9.888428249280478, 7.54614447620993, 8.493455203654095, 24.292329076100135, 7.542060565666169, 7.2929944145441645, 8.07535942661076, 31.188771069436072, 8.153706392551713, 16.719247733444526, 56.47346405215675], \"Category\": [\"Default\", \"Default\", \"Default\", \"Default\", \"Default\", \"Default\", \"Default\", \"Default\", \"Default\", \"Default\", \"Default\", \"Default\", \"Default\", \"Default\", \"Default\", \"Default\", \"Default\", \"Default\", \"Default\", \"Default\", \"Default\", \"Default\", \"Default\", \"Default\", \"Default\", \"Default\", \"Default\", \"Default\", \"Default\", \"Default\", \"Topic1\", \"Topic1\", \"Topic1\", \"Topic1\", \"Topic1\", \"Topic1\", \"Topic1\", \"Topic1\", \"Topic1\", \"Topic1\", \"Topic1\", \"Topic1\", \"Topic1\", \"Topic1\", \"Topic1\", \"Topic1\", \"Topic1\", \"Topic1\", \"Topic1\", \"Topic1\", \"Topic1\", \"Topic1\", \"Topic1\", \"Topic1\", \"Topic1\", \"Topic1\", \"Topic1\", \"Topic1\", \"Topic1\", \"Topic1\", \"Topic1\", \"Topic1\", \"Topic1\", \"Topic1\", \"Topic2\", \"Topic2\", \"Topic2\", \"Topic2\", \"Topic2\", \"Topic2\", \"Topic2\", \"Topic2\", \"Topic2\", \"Topic2\", \"Topic2\", \"Topic2\", \"Topic2\", \"Topic2\", \"Topic2\", \"Topic2\", \"Topic2\", \"Topic2\", \"Topic2\", \"Topic2\", \"Topic2\", \"Topic2\", \"Topic2\", \"Topic2\", \"Topic2\", \"Topic2\", \"Topic2\", \"Topic2\", \"Topic2\", \"Topic2\", \"Topic2\", \"Topic2\", \"Topic3\", \"Topic3\", \"Topic3\", \"Topic3\", \"Topic3\", \"Topic3\", \"Topic3\", \"Topic3\", \"Topic3\", \"Topic3\", \"Topic3\", \"Topic3\", \"Topic3\", \"Topic3\", \"Topic3\", \"Topic3\", \"Topic3\", \"Topic3\", \"Topic3\", \"Topic3\", \"Topic3\", \"Topic3\", \"Topic3\", \"Topic3\", \"Topic3\", \"Topic3\", \"Topic3\", \"Topic3\", \"Topic3\", \"Topic3\", \"Topic3\"], \"logprob\": [30.0, 29.0, 28.0, 27.0, 26.0, 25.0, 24.0, 23.0, 22.0, 21.0, 20.0, 19.0, 18.0, 17.0, 16.0, 15.0, 14.0, 13.0, 12.0, 11.0, 10.0, 9.0, 8.0, 7.0, 6.0, 5.0, 4.0, 3.0, 2.0, 1.0, -2.0936, -2.2598, -3.2524, -3.2533, -3.5383, -1.76, -3.9163, -3.7878, -3.9474, -3.4343, -4.203, -2.4945, -4.2285, -4.0298, -4.2525, -4.0392, -4.1744, -4.3347, -4.5663, -4.2616, -4.0792, -4.0185, -4.9073, -4.6962, -4.7077, -4.9357, -5.4373, -5.4697, -4.6131, -3.67, -5.3718, -5.2523, -4.776, -4.793, -2.619, -2.8552, -3.1607, -3.0195, -3.3565, -3.736, -3.7367, -3.9238, -3.5197, -3.9275, -2.5433, -3.9333, -2.842, -2.8086, -3.8688, -3.2032, -4.1456, -3.8562, -3.6737, -2.7972, -4.382, -4.3807, -4.0559, -4.1503, -3.9999, -4.323, -4.3958, -4.0919, -4.7614, -5.0059, -4.9541, -4.473, -2.3634, -3.0884, -2.5031, -3.6549, -3.6568, -3.6609, -3.6698, -3.5315, -2.9513, -1.9925, -3.8335, -3.5833, -3.8897, -3.8404, -3.8407, -4.0764, -3.5408, -3.7062, -4.4808, -4.4606, -3.961, -4.3029, -4.1987, -3.216, -4.6255, -4.8588, -4.7712, -3.4557, -4.8861, -4.3445, -4.4566], \"loglift\": [30.0, 29.0, 28.0, 27.0, 26.0, 25.0, 24.0, 23.0, 22.0, 21.0, 20.0, 19.0, 18.0, 17.0, 16.0, 15.0, 14.0, 13.0, 12.0, 11.0, 10.0, 9.0, 8.0, 7.0, 6.0, 5.0, 4.0, 3.0, 2.0, 1.0, 0.8598, 0.8564, 0.8262, 0.8251, 0.804, 0.791, 0.7829, 0.7781, 0.7516, 0.7314, 0.6589, 0.6502, 0.6335, 0.5345, 0.4636, 0.4063, 0.3894, 0.3875, 0.2859, 0.2215, 0.1975, 0.1379, -0.0113, -0.0983, -0.2214, -0.228, -0.5285, -0.6171, -0.619, -0.6413, -0.6662, -0.7564, -1.2383, -1.3984, 1.1098, 1.0955, 1.0762, 1.062, 1.0616, 1.0368, 1.0361, 1.0005, 0.9991, 0.9963, 0.9944, 0.9901, 0.9824, 0.9596, 0.8939, 0.7909, 0.7633, 0.6398, 0.6198, 0.5974, 0.5141, 0.5136, 0.4304, 0.3327, 0.2783, 0.2749, 0.1975, 0.1848, -0.0392, -0.2897, -0.3765, -1.922, 1.2786, 1.2483, 1.2472, 1.1948, 1.1929, 1.1894, 1.1802, 1.1675, 1.0592, 1.0363, 1.0294, 0.9944, 0.9629, 0.8652, 0.7526, 0.6313, 0.6156, 0.5719, 0.4135, 0.3916, 0.3324, 0.2609, 0.2468, 0.1786, -0.0612, -0.2609, -0.2752, -0.311, -0.3998, -0.5763, -1.9056]}, \"token.table\": {\"Topic\": [1, 3, 2, 1, 2, 1, 2, 3, 1, 2, 3, 1, 1, 1, 3, 1, 3, 1, 2, 3, 3, 1, 2, 1, 2, 2, 2, 3, 2, 3, 2, 3, 1, 2, 1, 2, 3, 1, 2, 3, 1, 2, 3, 1, 2, 1, 2, 3, 1, 3, 1, 3, 1, 3, 2, 2, 3, 1, 2, 3, 1, 2, 3, 1, 2, 3, 2, 3, 1, 2, 3, 1, 2, 1, 2, 3, 2, 2, 3, 1, 3, 1, 2, 1, 2, 3, 1, 3, 1, 2, 3, 1, 2, 1, 2, 3, 2, 3, 1, 3, 2, 3, 2, 3, 3, 1, 1, 2, 2, 3, 1, 2, 1, 2, 3, 1, 2, 3, 2], \"Freq\": [0.5886885702121412, 0.3532131421272847, 0.9774554964426669, 0.7142079683391254, 0.17855199208478134, 0.6173314982493041, 0.30866574912465206, 0.15433287456232603, 0.07620118715900619, 0.15240237431801237, 0.7620118715900619, 0.9787673575324143, 0.9104841914519225, 0.9296147474227308, 0.8821196331234742, 0.4408913013425473, 0.5290695616110568, 0.965943706211689, 0.9000405406989618, 0.08182186733626926, 0.9503948272379403, 0.1871273437931281, 0.7485093751725124, 0.9556780491788094, 0.7594954023551643, 0.8165981493328374, 0.17872052378886735, 0.7148820951554694, 0.15170550342549288, 0.9102330205529573, 0.05874915909029018, 0.9399865454446429, 0.9797053524559609, 0.9163846558018529, 0.9207864414333566, 0.05312229469807826, 0.03541486313205218, 0.6210770604253223, 0.31053853021266115, 0.15526926510633057, 0.36793083483364747, 0.4905744464448633, 0.12264361161121583, 0.3695084084759048, 0.5542626127138572, 0.09959806995188115, 0.3983922798075246, 0.4979903497594058, 0.17689429573960894, 0.7075771829584357, 0.6625900174271858, 0.3975540104563115, 0.9103008506140953, 0.15171680843568255, 0.9501832771041132, 0.5532891041058093, 0.3688594027372062, 0.12654141829217302, 0.8225192188991246, 0.06327070914608651, 0.22491219239134197, 0.6747365771740259, 0.074970730797114, 0.1266883603666007, 0.8868185225662049, 0.88241414899007, 0.933239357978227, 0.8819549721045468, 0.24766699466148753, 0.6191674866537188, 0.24766699466148753, 0.14249087619776074, 0.8549452571865644, 0.08233051650727423, 0.5763136155509196, 0.3293220660290969, 0.9498062606894192, 0.8373582486007998, 0.1794339104144571, 0.5304828191449734, 0.35365521276331563, 0.7143175546154658, 0.17857938865386644, 0.22842188097196067, 0.028552735121495084, 0.7423711131588722, 0.8015705378176681, 0.19237692907624035, 0.41135366757133457, 0.41135366757133457, 0.2742357783808897, 0.48899358963991696, 0.48899358963991696, 0.4972847398540558, 0.39782779188324463, 0.09945694797081116, 0.40948235676410094, 0.5459764756854679, 0.6629487997963809, 0.2651795199185523, 0.26874652150999234, 0.6718663037749809, 0.955677695836691, 0.881874896056227, 0.9489627584679307, 0.9789347493900613, 0.16168866983827554, 0.8084433491913777, 0.6067698373031715, 0.40451322486878094, 0.8900005258508613, 0.08900005258508613, 0.30606968466098006, 0.15303484233049003, 0.4591045269914701, 0.15271212077980809, 0.15271212077980809, 0.6108484831192323, 0.816648708372834], \"Term\": [\"UI\", \"UI\", \"\\uac00\\uc785\", \"\\uac10\\uc0ac\", \"\\uac10\\uc0ac\", \"\\uac1c\\ubc1c\\uc790\", \"\\uac1c\\ubc1c\\uc790\", \"\\uac1c\\ubc1c\\uc790\", \"\\uac1c\\uc120\", \"\\uac1c\\uc120\", \"\\uac1c\\uc120\", \"\\uac31\\uc2e0\", \"\\uac70\\ub798\", \"\\uac70\\uc9c0\", \"\\uacc4\\uc88c\", \"\\uace0\\uac1d\", \"\\uace0\\uac1d\", \"\\uacf5\\ub3d9\\uc778\\uc99d\\uc11c\", \"\\uad00\\ub9ac\", \"\\uad00\\ub9ac\", \"\\uae08\\ub9ac\", \"\\uae08\\uc735\", \"\\uae08\\uc735\", \"\\uae08\\uc735\\uc778\\uc99d\\uc11c\", \"\\ub2e4\\uc6b4\", \"\\ub2e4\\uc6b4\\ub85c\\ub4dc\", \"\\ub2e4\\uc74c\", \"\\ub2e4\\uc74c\", \"\\ub2f4\\ubcf4\", \"\\ub2f4\\ubcf4\", \"\\ub300\\ucd9c\", \"\\ub300\\ucd9c\", \"\\ub4f1\\ub85d\", \"\\ub514\\uc790\\uc778\", \"\\ub85c\\uadf8\\uc778\", \"\\ub85c\\uadf8\\uc778\", \"\\ub85c\\uadf8\\uc778\", \"\\ub9ac\\ubdf0\", \"\\ub9ac\\ubdf0\", \"\\ub9ac\\ubdf0\", \"\\uba54\\ub274\", \"\\uba54\\ub274\", \"\\uba54\\ub274\", \"\\uba54\\uc138\\uc9c0\", \"\\uba54\\uc138\\uc9c0\", \"\\ubaa8\\ubc14\\uc77c\", \"\\ubaa8\\ubc14\\uc77c\", \"\\ubaa8\\ubc14\\uc77c\", \"\\ubb38\\uc81c\", \"\\ubb38\\uc81c\", \"\\ubc1c\\uae09\", \"\\ubc1c\\uae09\", \"\\ubc29\\ubc95\", \"\\ubc29\\ubc95\", \"\\ubc45\\ud0b9\", \"\\ubcf8\\uc778\\uc778\\uc99d\", \"\\ubcf8\\uc778\\uc778\\uc99d\", \"\\ubd88\\ud3b8\", \"\\ubd88\\ud3b8\", \"\\ubd88\\ud3b8\", \"\\ube44\\ubc00\\ubc88\\ud638\", \"\\ube44\\ubc00\\ubc88\\ud638\", \"\\ube44\\ubc00\\ubc88\\ud638\", \"\\uc0ac\\uc6a9\\uc790\", \"\\uc0ac\\uc6a9\\uc790\", \"\\uc0dd\\uac01\", \"\\uc124\\uce58\", \"\\uc218\\uc900\", \"\\uc2e0\\ubd84\\uc99d\", \"\\uc2e0\\ubd84\\uc99d\", \"\\uc2e0\\ubd84\\uc99d\", \"\\uc4f0\\ub808\\uae30\", \"\\uc4f0\\ub808\\uae30\", \"\\uc624\\ub958\", \"\\uc624\\ub958\", \"\\uc624\\ub958\", \"\\uc694\\uc998\", \"\\uc6b0\\ub9ac\\uc0ac\\uc8fc\", \"\\uc6b0\\ub9ac\\uc0ac\\uc8fc\", \"\\uc774\\ub3d9\", \"\\uc774\\ub3d9\", \"\\uc774\\uc0c1\", \"\\uc774\\uc0c1\", \"\\uc778\\uc99d\", \"\\uc778\\uc99d\", \"\\uc778\\uc99d\", \"\\uc778\\uc99d\\uc11c\", \"\\uc778\\uc99d\\uc11c\", \"\\uc785\\ub825\", \"\\uc785\\ub825\", \"\\uc785\\ub825\", \"\\uc815\\ubcf4\", \"\\uc815\\ubcf4\", \"\\uc870\\ud68c\", \"\\uc870\\ud68c\", \"\\uc870\\ud68c\", \"\\uc885\\ub8cc\", \"\\uc885\\ub8cc\", \"\\uc99d\\uad8c\\uc0ac\", \"\\uc99d\\uad8c\\uc0ac\", \"\\uc9dc\\uc99d\", \"\\uc9dc\\uc99d\", \"\\ucc98\\uc74c\", \"\\ucd5c\\uace0\", \"\\ucd5c\\uc545\", \"\\ud0c0\\uae30\\uad00\", \"\\ud14c\\uc2a4\\ud2b8\", \"\\ud14c\\uc2a4\\ud2b8\", \"\\ud3b8\\uc758\\uc131\", \"\\ud3b8\\uc758\\uc131\", \"\\ud544\\uc694\", \"\\ud544\\uc694\", \"\\ud55c\\uad6d\\uc99d\\uad8c\\uae08\\uc735\", \"\\ud55c\\uad6d\\uc99d\\uad8c\\uae08\\uc735\", \"\\ud55c\\uad6d\\uc99d\\uad8c\\uae08\\uc735\", \"\\ud68c\\uc0ac\", \"\\ud68c\\uc0ac\", \"\\ud68c\\uc0ac\", \"\\ud68c\\uc6d0\"]}, \"R\": 30, \"lambda.step\": 0.01, \"plot.opts\": {\"xlab\": \"PC1\", \"ylab\": \"PC2\"}, \"topic.order\": [1, 3, 2]};\n",
              "\n",
              "function LDAvis_load_lib(url, callback){\n",
              "  var s = document.createElement('script');\n",
              "  s.src = url;\n",
              "  s.async = true;\n",
              "  s.onreadystatechange = s.onload = callback;\n",
              "  s.onerror = function(){console.warn(\"failed to load library \" + url);};\n",
              "  document.getElementsByTagName(\"head\")[0].appendChild(s);\n",
              "}\n",
              "\n",
              "if(typeof(LDAvis) !== \"undefined\"){\n",
              "   // already loaded: just create the visualization\n",
              "   !function(LDAvis){\n",
              "       new LDAvis(\"#\" + \"ldavis_el60561333663321531683678420474\", ldavis_el60561333663321531683678420474_data);\n",
              "   }(LDAvis);\n",
              "}else if(typeof define === \"function\" && define.amd){\n",
              "   // require.js is available: use it to load d3/LDAvis\n",
              "   require.config({paths: {d3: \"https://d3js.org/d3.v5\"}});\n",
              "   require([\"d3\"], function(d3){\n",
              "      window.d3 = d3;\n",
              "      LDAvis_load_lib(\"https://cdn.jsdelivr.net/gh/bmabey/pyLDAvis@3.4.0/pyLDAvis/js/ldavis.v3.0.0.js\", function(){\n",
              "        new LDAvis(\"#\" + \"ldavis_el60561333663321531683678420474\", ldavis_el60561333663321531683678420474_data);\n",
              "      });\n",
              "    });\n",
              "}else{\n",
              "    // require.js not available: dynamically load d3 & LDAvis\n",
              "    LDAvis_load_lib(\"https://d3js.org/d3.v5.js\", function(){\n",
              "         LDAvis_load_lib(\"https://cdn.jsdelivr.net/gh/bmabey/pyLDAvis@3.4.0/pyLDAvis/js/ldavis.v3.0.0.js\", function(){\n",
              "                 new LDAvis(\"#\" + \"ldavis_el60561333663321531683678420474\", ldavis_el60561333663321531683678420474_data);\n",
              "            })\n",
              "         });\n",
              "}\n",
              "</script>"
            ]
          },
          "metadata": {},
          "execution_count": 17
        }
      ]
    },
    {
      "cell_type": "code",
      "source": [
        "os.makedirs(RESULT_PATH, exist_ok=True)\n",
        "pyLDAvis.save_html(vis_bow, RESULT_PATH + 'bow_lda_topic_visualization.html')"
      ],
      "metadata": {
        "id": "RCh5EMKFvfg0"
      },
      "execution_count": 18,
      "outputs": []
    },
    {
      "cell_type": "code",
      "source": [
        "# Train a TF-IDF transformer on the corpus\n",
        "tfidf         = TfidfModel(corpus)  # Train the TF-IDF model\n",
        "# Transform the corpus into TF-IDF weighted vectors\n",
        "corpus_tfidf  = tfidf[corpus]       # Convert BOW corpus to TF-IDF representation\n",
        "\n",
        "# Train an LDA model on the TF-IDF representation\n",
        "lda_model_tfidf = LdaModel(corpus=corpus_tfidf, id2word=dictionary, num_topics=NUM_TOPICS, passes=PASSES, random_state=RANDOM_STATE)\n",
        "\n",
        "for idx, topic in lda_model_tfidf.print_topics(num_words=NUM_WORDS):\n",
        "    print(f\"Topic {idx}: {topic}\")"
      ],
      "metadata": {
        "colab": {
          "base_uri": "https://localhost:8080/"
        },
        "id": "ILit_oic8xhP",
        "outputId": "072e8453-fc7d-40ef-bdda-9bb6f0353615"
      },
      "execution_count": 19,
      "outputs": [
        {
          "output_type": "stream",
          "name": "stdout",
          "text": [
            "Topic 0: 0.107*\"로그인\" + 0.106*\"등록\" + 0.099*\"공동인증서\" + 0.064*\"인증서\" + 0.045*\"금융인증서\" + 0.044*\"개선\" + 0.043*\"UI\" + 0.041*\"거래\" + 0.039*\"필요\" + 0.034*\"타기관\"\n",
            "Topic 1: 0.109*\"최악\" + 0.108*\"인증\" + 0.046*\"금리\" + 0.045*\"종료\" + 0.042*\"최고\" + 0.039*\"요즘\" + 0.035*\"고객\" + 0.032*\"회사\" + 0.031*\"수준\" + 0.031*\"메뉴\"\n",
            "Topic 2: 0.089*\"쓰레기\" + 0.067*\"설치\" + 0.064*\"오류\" + 0.057*\"불편\" + 0.052*\"가입\" + 0.047*\"우리사주\" + 0.046*\"관리\" + 0.039*\"대출\" + 0.039*\"디자인\" + 0.033*\"처음\"\n"
          ]
        }
      ]
    },
    {
      "cell_type": "code",
      "source": [
        "# LDA Visualization on TF-IDF representation\n",
        "vis_tfidf = pyLDAvis.gensim_models.prepare(lda_model_tfidf, corpus_tfidf, dictionary)\n",
        "pyLDAvis.display(vis_tfidf)"
      ],
      "metadata": {
        "colab": {
          "base_uri": "https://localhost:8080/",
          "height": 861
        },
        "id": "wO3DCQppF1qp",
        "outputId": "28df6033-202b-4602-efea-51bbb1b10896"
      },
      "execution_count": 20,
      "outputs": [
        {
          "output_type": "execute_result",
          "data": {
            "text/plain": [
              "<IPython.core.display.HTML object>"
            ],
            "text/html": [
              "\n",
              "<link rel=\"stylesheet\" type=\"text/css\" href=\"https://cdn.jsdelivr.net/gh/bmabey/pyLDAvis@3.4.0/pyLDAvis/js/ldavis.v1.0.0.css\">\n",
              "\n",
              "\n",
              "<div id=\"ldavis_el60561333663323556642907234846\" style=\"background-color:white;\"></div>\n",
              "<script type=\"text/javascript\">\n",
              "\n",
              "var ldavis_el60561333663323556642907234846_data = {\"mdsDat\": {\"x\": [0.18781900278645366, -0.211722900671386, 0.023903897884932416], \"y\": [-0.10940338596194629, -0.07610707948505181, 0.18551046544699815], \"topics\": [1, 2, 3], \"cluster\": [1, 1, 1], \"Freq\": [37.90408651153775, 33.85879498441825, 28.237118504044005]}, \"tinfo\": {\"Term\": [\"\\ucd5c\\uc545\", \"\\ub4f1\\ub85d\", \"\\uacf5\\ub3d9\\uc778\\uc99d\\uc11c\", \"\\uc778\\uc99d\", \"\\uc4f0\\ub808\\uae30\", \"\\ub85c\\uadf8\\uc778\", \"\\uc124\\uce58\", \"\\uc778\\uc99d\\uc11c\", \"\\uac00\\uc785\", \"\\uae08\\ub9ac\", \"\\uc885\\ub8cc\", \"\\ucd5c\\uace0\", \"\\uae08\\uc735\\uc778\\uc99d\\uc11c\", \"\\uc6b0\\ub9ac\\uc0ac\\uc8fc\", \"\\uc624\\ub958\", \"UI\", \"\\uc694\\uc998\", \"\\uac70\\ub798\", \"\\uad00\\ub9ac\", \"\\ud544\\uc694\", \"\\uace0\\uac1d\", \"\\ubd88\\ud3b8\", \"\\ub514\\uc790\\uc778\", \"\\ud0c0\\uae30\\uad00\", \"\\ud68c\\uc0ac\", \"\\uc218\\uc900\", \"\\uac10\\uc0ac\", \"\\uac1c\\uc120\", \"\\uc0dd\\uac01\", \"\\uc99d\\uad8c\\uc0ac\", \"\\uc124\\uce58\", \"\\uac00\\uc785\", \"\\uc6b0\\ub9ac\\uc0ac\\uc8fc\", \"\\uc4f0\\ub808\\uae30\", \"\\ub514\\uc790\\uc778\", \"\\uad00\\ub9ac\", \"\\ub2e4\\uc6b4\\ub85c\\ub4dc\", \"\\ucc98\\uc74c\", \"\\uc0ac\\uc6a9\\uc790\", \"\\uc2e0\\ubd84\\uc99d\", \"\\ubc45\\ud0b9\", \"\\ud14c\\uc2a4\\ud2b8\", \"\\uc9dc\\uc99d\", \"\\ud68c\\uc6d0\", \"\\uc624\\ub958\", \"\\ubd88\\ud3b8\", \"\\ubaa8\\ubc14\\uc77c\", \"\\uae08\\uc735\", \"\\uc815\\ubcf4\", \"\\ube44\\ubc00\\ubc88\\ud638\", \"\\ub300\\ucd9c\", \"\\uba54\\uc138\\uc9c0\", \"\\ud3b8\\uc758\\uc131\", \"\\ubcf8\\uc778\\uc778\\uc99d\", \"\\uac1c\\ubc1c\\uc790\", \"\\uc785\\ub825\", \"\\ud55c\\uad6d\\uc99d\\uad8c\\uae08\\uc735\", \"\\ub2e4\\uc6b4\", \"\\uba54\\ub274\", \"\\ubb38\\uc81c\", \"\\ub85c\\uadf8\\uc778\", \"\\uacf5\\ub3d9\\uc778\\uc99d\\uc11c\", \"\\ub4f1\\ub85d\", \"\\uac70\\ub798\", \"\\uae08\\uc735\\uc778\\uc99d\\uc11c\", \"UI\", \"\\ud544\\uc694\", \"\\ud0c0\\uae30\\uad00\", \"\\uac10\\uc0ac\", \"\\uc99d\\uad8c\\uc0ac\", \"\\ubc1c\\uae09\", \"\\uc778\\uc99d\\uc11c\", \"\\ub9ac\\ubdf0\", \"\\uac70\\uc9c0\", \"\\uc870\\ud68c\", \"\\ub85c\\uadf8\\uc778\", \"\\uac31\\uc2e0\", \"\\uac1c\\uc120\", \"\\ub2e4\\uc6b4\", \"\\ubb38\\uc81c\", \"\\ud55c\\uad6d\\uc99d\\uad8c\\uae08\\uc735\", \"\\uac1c\\ubc1c\\uc790\", \"\\uba54\\uc138\\uc9c0\", \"\\uc774\\ub3d9\", \"\\ubd88\\ud3b8\", \"\\uae08\\uc735\", \"\\ubcf8\\uc778\\uc778\\uc99d\", \"\\ubc29\\ubc95\", \"\\uc815\\ubcf4\", \"\\uc774\\uc0c1\", \"\\uc785\\ub825\", \"\\uc778\\uc99d\", \"\\uc4f0\\ub808\\uae30\", \"\\ube44\\ubc00\\ubc88\\ud638\", \"\\uc624\\ub958\", \"\\ubaa8\\ubc14\\uc77c\", \"\\ucd5c\\uc545\", \"\\uae08\\ub9ac\", \"\\ucd5c\\uace0\", \"\\uc694\\uc998\", \"\\uc778\\uc99d\", \"\\uace0\\uac1d\", \"\\uc885\\ub8cc\", \"\\ud68c\\uc0ac\", \"\\uc218\\uc900\", \"\\uc0dd\\uac01\", \"\\uacc4\\uc88c\", \"\\ub2e4\\uc74c\", \"\\ubc29\\ubc95\", \"\\ub2f4\\ubcf4\", \"\\uc774\\uc0c1\", \"\\uc774\\ub3d9\", \"\\uba54\\ub274\", \"\\ubb38\\uc81c\", \"\\uc785\\ub825\", \"\\ubcf8\\uc778\\uc778\\uc99d\", \"\\ud3b8\\uc758\\uc131\", \"\\ub300\\ucd9c\", \"\\ud55c\\uad6d\\uc99d\\uad8c\\uae08\\uc735\", \"\\ube44\\ubc00\\ubc88\\ud638\", \"\\uac1c\\uc120\", \"\\uac1c\\ubc1c\\uc790\", \"\\uac31\\uc2e0\", \"\\uc815\\ubcf4\", \"\\uc778\\uc99d\\uc11c\", \"\\uc624\\ub958\", \"\\ub85c\\uadf8\\uc778\", \"\\ubaa8\\ubc14\\uc77c\"], \"Freq\": [11.0, 13.0, 12.0, 12.0, 13.0, 17.0, 9.0, 9.0, 7.0, 5.0, 5.0, 4.0, 6.0, 7.0, 11.0, 6.0, 4.0, 5.0, 7.0, 5.0, 4.0, 9.0, 6.0, 4.0, 3.0, 3.0, 4.0, 7.0, 3.0, 4.0, 9.306800437880701, 7.215371590993595, 6.528326648239964, 12.27719456909502, 5.453236003155578, 6.406927842597325, 4.398434562712599, 4.550034883794298, 4.085058828351167, 4.1432278297429095, 3.0453131859780966, 3.161938517097094, 3.5091972903907576, 2.7273748223464236, 8.887032343687473, 7.850744460114628, 3.8418123957360453, 2.2582275966513095, 2.544076139559805, 3.3347215512592348, 5.470717038417156, 2.1140290808745905, 3.7102444408375663, 1.6510051527469354, 2.1251043996202226, 1.6488983797400876, 1.2471815848700192, 1.2249553686574075, 1.2246573171870698, 0.47154956318018676, 1.7661508204546723, 12.234219460541688, 13.095061072790525, 5.12042948235358, 5.530880861435498, 5.384567035900258, 4.849381405613434, 4.266519628038819, 4.146862787963167, 3.9112361050561004, 3.0547605401261557, 7.980181705357123, 3.0418331993439325, 2.728124297910214, 4.1855007833735405, 13.27797805163615, 2.8022039986446834, 5.397216478555396, 1.8784723553059244, 1.4839720748250689, 1.0989297939734304, 1.0678225146697131, 0.7957076230264198, 0.5426451407687256, 1.6518343150169212, 0.4378455216373339, 0.39309082457300915, 0.37773695305154287, 0.3911224852951702, 0.30809586128355954, 0.34900230979215624, 1.0052496198145213, 0.8686547273243379, 0.4421646274848013, 0.5247763950627159, 0.40292651983985817, 11.25080611388536, 4.720623011155618, 4.345508647603854, 4.067321817683444, 11.186994932565424, 3.618541173442751, 4.649888737060473, 3.283652200248726, 3.221435220518187, 3.02728448872501, 2.884971102237705, 2.861806094259622, 2.6505252987326022, 2.199313121712716, 2.158399579859914, 2.0261711257164543, 3.1973585802378355, 1.237787141193263, 1.2501971593857364, 1.027323176678633, 1.9621449331461724, 2.6695406088280196, 0.9183505857595973, 1.3397812022376276, 1.5094195927968665, 0.810111477713829, 0.6355776351657032, 0.5720366134606806, 1.5282789860500463, 1.7386458393956532, 2.3493898195139553, 0.723716319265555], \"Total\": [11.0, 13.0, 12.0, 12.0, 13.0, 17.0, 9.0, 9.0, 7.0, 5.0, 5.0, 4.0, 6.0, 7.0, 11.0, 6.0, 4.0, 5.0, 7.0, 5.0, 4.0, 9.0, 6.0, 4.0, 3.0, 3.0, 4.0, 7.0, 3.0, 4.0, 9.993586420482462, 7.833500736677001, 7.21875148799079, 13.722176077288163, 6.113094842053708, 7.1967876185897115, 5.018918819880719, 5.248534349755772, 4.833040355439342, 4.927725408243917, 3.686261821425259, 3.8468452691146284, 4.27868716274645, 3.340802113181724, 11.150454578145842, 9.909279244184143, 4.968455234841458, 3.0185711057318936, 3.5072352383156558, 5.116667380981664, 8.487193032014035, 3.2830735913900253, 5.977707552316183, 3.0714191539985776, 4.003038392003765, 3.24809784891798, 3.264461964603047, 3.470072843448939, 4.749879167199694, 3.1933087791985186, 17.39351869160478, 12.926114976554041, 13.860154903357165, 5.706003839061664, 6.208502425679548, 6.092028662101897, 5.513763580529869, 4.870120655470926, 4.749734625421399, 4.560561982829006, 3.6952466129212884, 9.785659992525272, 3.7316534861956425, 3.3637278097301304, 5.383035527429573, 17.39351869160478, 3.7083300881964485, 7.3390258443090435, 3.470072843448939, 3.1933087791985186, 3.264461964603047, 4.003038392003765, 3.2830735913900253, 2.8383339433870245, 9.909279244184143, 3.0185711057318936, 3.0714191539985776, 3.2960137444041866, 3.5072352383156558, 2.799646670931342, 3.24809784891798, 12.985500853617328, 13.722176077288163, 5.116667380981664, 11.150454578145842, 4.968455234841458, 11.867359747578126, 5.289064150552187, 4.90738434760266, 4.66078804575146, 12.985500853617328, 4.207990813324275, 5.447182116795554, 3.868175940741463, 3.8174445705952413, 3.6270877561443533, 3.4961571835994123, 3.505512930871971, 3.2960137444041866, 2.801663216169695, 2.799646670931342, 2.8383339433870245, 4.749879167199694, 3.1933087791985186, 3.24809784891798, 3.0714191539985776, 5.977707552316183, 8.487193032014035, 3.264461964603047, 5.116667380981664, 7.3390258443090435, 4.003038392003765, 3.7083300881964485, 3.5072352383156558, 9.785659992525272, 11.150454578145842, 17.39351869160478, 4.968455234841458], \"Category\": [\"Default\", \"Default\", \"Default\", \"Default\", \"Default\", \"Default\", \"Default\", \"Default\", \"Default\", \"Default\", \"Default\", \"Default\", \"Default\", \"Default\", \"Default\", \"Default\", \"Default\", \"Default\", \"Default\", \"Default\", \"Default\", \"Default\", \"Default\", \"Default\", \"Default\", \"Default\", \"Default\", \"Default\", \"Default\", \"Default\", \"Topic1\", \"Topic1\", \"Topic1\", \"Topic1\", \"Topic1\", \"Topic1\", \"Topic1\", \"Topic1\", \"Topic1\", \"Topic1\", \"Topic1\", \"Topic1\", \"Topic1\", \"Topic1\", \"Topic1\", \"Topic1\", \"Topic1\", \"Topic1\", \"Topic1\", \"Topic1\", \"Topic1\", \"Topic1\", \"Topic1\", \"Topic1\", \"Topic1\", \"Topic1\", \"Topic1\", \"Topic1\", \"Topic1\", \"Topic1\", \"Topic1\", \"Topic2\", \"Topic2\", \"Topic2\", \"Topic2\", \"Topic2\", \"Topic2\", \"Topic2\", \"Topic2\", \"Topic2\", \"Topic2\", \"Topic2\", \"Topic2\", \"Topic2\", \"Topic2\", \"Topic2\", \"Topic2\", \"Topic2\", \"Topic2\", \"Topic2\", \"Topic2\", \"Topic2\", \"Topic2\", \"Topic2\", \"Topic2\", \"Topic2\", \"Topic2\", \"Topic2\", \"Topic2\", \"Topic2\", \"Topic2\", \"Topic2\", \"Topic2\", \"Topic2\", \"Topic2\", \"Topic2\", \"Topic3\", \"Topic3\", \"Topic3\", \"Topic3\", \"Topic3\", \"Topic3\", \"Topic3\", \"Topic3\", \"Topic3\", \"Topic3\", \"Topic3\", \"Topic3\", \"Topic3\", \"Topic3\", \"Topic3\", \"Topic3\", \"Topic3\", \"Topic3\", \"Topic3\", \"Topic3\", \"Topic3\", \"Topic3\", \"Topic3\", \"Topic3\", \"Topic3\", \"Topic3\", \"Topic3\", \"Topic3\", \"Topic3\", \"Topic3\", \"Topic3\", \"Topic3\"], \"logprob\": [30.0, 29.0, 28.0, 27.0, 26.0, 25.0, 24.0, 23.0, 22.0, 21.0, 20.0, 19.0, 18.0, 17.0, 16.0, 15.0, 14.0, 13.0, 12.0, 11.0, 10.0, 9.0, 8.0, 7.0, 6.0, 5.0, 4.0, 3.0, 2.0, 1.0, -2.7017, -2.9563, -3.0563, -2.4247, -3.2363, -3.0751, -3.4512, -3.4173, -3.5251, -3.511, -3.8189, -3.7813, -3.6771, -3.9291, -2.7479, -2.8719, -3.5865, -4.1179, -3.9987, -3.7281, -3.2331, -4.1839, -3.6214, -4.4311, -4.1786, -4.4324, -4.7116, -4.7296, -4.7298, -5.6842, -4.3637, -2.3154, -2.2474, -3.1864, -3.1093, -3.1361, -3.2408, -3.3688, -3.3973, -3.4558, -3.7029, -2.7426, -3.7071, -3.816, -3.388, -2.2335, -3.7892, -3.1337, -4.1891, -4.4249, -4.7253, -4.754, -5.0481, -5.4309, -4.3177, -5.6455, -5.7533, -5.7932, -5.7583, -5.997, -5.8723, -4.8144, -4.9604, -5.6357, -5.4644, -5.7286, -2.2176, -3.0861, -3.1689, -3.2351, -2.2233, -3.352, -3.1012, -3.4491, -3.4682, -3.5304, -3.5785, -3.5866, -3.6633, -3.8499, -3.8687, -3.9319, -3.4757, -4.4247, -4.4147, -4.6111, -3.964, -3.6561, -4.7232, -4.3455, -4.2263, -4.8486, -5.0913, -5.1966, -4.2139, -4.0849, -3.7839, -4.9614], \"loglift\": [30.0, 29.0, 28.0, 27.0, 26.0, 25.0, 24.0, 23.0, 22.0, 21.0, 20.0, 19.0, 18.0, 17.0, 16.0, 15.0, 14.0, 13.0, 12.0, 11.0, 10.0, 9.0, 8.0, 7.0, 6.0, 5.0, 4.0, 3.0, 2.0, 1.0, 0.8989, 0.8879, 0.8696, 0.8588, 0.8559, 0.8539, 0.8381, 0.8273, 0.802, 0.7967, 0.7791, 0.774, 0.7719, 0.7672, 0.7432, 0.7372, 0.7129, 0.6799, 0.6491, 0.542, 0.531, 0.5299, 0.4932, 0.3494, 0.3369, 0.2921, 0.0079, -0.0712, -0.3853, -0.9427, -1.3172, 1.028, 1.0262, 0.9747, 0.9674, 0.9595, 0.9546, 0.9507, 0.9472, 0.9294, 0.8926, 0.879, 0.8786, 0.8735, 0.8313, 0.813, 0.8028, 0.7756, 0.4693, 0.3166, -0.0058, -0.2385, -0.3343, -0.5715, -0.7086, -0.8477, -0.9729, -1.0833, -1.1106, -1.1239, -1.1478, -1.4756, -1.6769, -1.3656, -1.9733, -1.4291, 1.2112, 1.1508, 1.1429, 1.1283, 1.1155, 1.1136, 1.1063, 1.1007, 1.0948, 1.0838, 1.0724, 1.0616, 1.0466, 1.0225, 1.0044, 0.9275, 0.8687, 0.3168, 0.3098, 0.1693, 0.1505, 0.1079, -0.0037, -0.0755, -0.3169, -0.3331, -0.4993, -0.5488, -0.5922, -0.5938, -0.7374, -0.6619]}, \"token.table\": {\"Topic\": [2, 1, 2, 1, 2, 3, 2, 3, 2, 3, 2, 2, 3, 3, 2, 1, 3, 1, 2, 1, 2, 1, 3, 3, 1, 3, 2, 1, 1, 2, 3, 2, 1, 3, 1, 2, 1, 3, 2, 3, 2, 3, 1, 1, 3, 1, 2, 1, 3, 1, 3, 1, 3, 1, 1, 2, 3, 1, 2, 3, 3, 1, 2, 3, 3, 1, 2, 3, 2, 3, 1, 3, 1, 3, 1, 2, 3, 1, 3, 2, 1, 1, 3, 3, 2, 1, 1, 3, 2, 1, 2, 3, 3, 1], \"Freq\": [0.820744661151164, 0.8935979245173883, 0.8421523128031848, 0.4996204892751174, 0.2498102446375587, 0.2498102446375587, 0.681289329956126, 0.2725157319824504, 0.8089894719860427, 0.2696631573286809, 0.8762700027945014, 0.8918676449747246, 0.858084989448729, 0.950572417443097, 0.9283531843687086, 0.8337053026966724, 0.9453468246321027, 0.6625651442174899, 0.9664166313574846, 0.28817838849921384, 0.5763567769984277, 0.7969843991409817, 0.8557948748612294, 0.7138616763275023, 0.589122926878156, 0.35347375612689363, 0.9379404552579119, 0.8179163139435669, 0.11498535951585963, 0.7474048368530877, 0.11498535951585963, 0.8039331655786853, 0.21053167139608586, 0.6315950141882576, 0.6091852480081682, 0.3045926240040841, 0.805079206903157, 0.20126980172578926, 0.3131548087407281, 0.3131548087407281, 0.8118537987450697, 0.910190379240152, 0.8138325884947798, 0.6511647872600739, 0.32558239363003694, 0.807324105302137, 0.20183102632553426, 0.5863191363876445, 0.19543971212921485, 0.827636374999063, 0.8271098472646394, 0.9005775926001854, 0.7858660275274724, 0.811733542073618, 0.8744968678737063, 0.07287473898947552, 0.07287473898947552, 0.8071419812461644, 0.08968244236068494, 0.17936488472136988, 0.8582239657188871, 0.9696967698147376, 0.3523193605635726, 0.7046387211271452, 0.7143758606276812, 0.07700896648290877, 0.07700896648290877, 0.8470986313119965, 0.8175227839625289, 0.20438069599063222, 0.6157449969268163, 0.30787249846340814, 0.855374617369762, 0.28512487245658735, 0.18576879065806667, 0.7430751626322667, 0.18576879065806667, 0.18358115784611875, 0.9179057892305938, 0.8770848888931715, 0.9348661979373217, 0.952646904222445, 0.8150981697518899, 0.9269121551864024, 0.8213348873618844, 0.7798598046264714, 0.6691528424554861, 0.33457642122774306, 0.9068216159386914, 0.3063291932462746, 0.3063291932462746, 0.3063291932462746, 0.7755593452724261, 0.8979879377359619], \"Term\": [\"UI\", \"\\uac00\\uc785\", \"\\uac10\\uc0ac\", \"\\uac1c\\ubc1c\\uc790\", \"\\uac1c\\ubc1c\\uc790\", \"\\uac1c\\ubc1c\\uc790\", \"\\uac1c\\uc120\", \"\\uac1c\\uc120\", \"\\uac31\\uc2e0\", \"\\uac31\\uc2e0\", \"\\uac70\\ub798\", \"\\uac70\\uc9c0\", \"\\uacc4\\uc88c\", \"\\uace0\\uac1d\", \"\\uacf5\\ub3d9\\uc778\\uc99d\\uc11c\", \"\\uad00\\ub9ac\", \"\\uae08\\ub9ac\", \"\\uae08\\uc735\", \"\\uae08\\uc735\\uc778\\uc99d\\uc11c\", \"\\ub2e4\\uc6b4\", \"\\ub2e4\\uc6b4\", \"\\ub2e4\\uc6b4\\ub85c\\ub4dc\", \"\\ub2e4\\uc74c\", \"\\ub2f4\\ubcf4\", \"\\ub300\\ucd9c\", \"\\ub300\\ucd9c\", \"\\ub4f1\\ub85d\", \"\\ub514\\uc790\\uc778\", \"\\ub85c\\uadf8\\uc778\", \"\\ub85c\\uadf8\\uc778\", \"\\ub85c\\uadf8\\uc778\", \"\\ub9ac\\ubdf0\", \"\\uba54\\ub274\", \"\\uba54\\ub274\", \"\\uba54\\uc138\\uc9c0\", \"\\uba54\\uc138\\uc9c0\", \"\\ubaa8\\ubc14\\uc77c\", \"\\ubaa8\\ubc14\\uc77c\", \"\\ubb38\\uc81c\", \"\\ubb38\\uc81c\", \"\\ubc1c\\uae09\", \"\\ubc29\\ubc95\", \"\\ubc45\\ud0b9\", \"\\ubcf8\\uc778\\uc778\\uc99d\", \"\\ubcf8\\uc778\\uc778\\uc99d\", \"\\ubd88\\ud3b8\", \"\\ubd88\\ud3b8\", \"\\ube44\\ubc00\\ubc88\\ud638\", \"\\ube44\\ubc00\\ubc88\\ud638\", \"\\uc0ac\\uc6a9\\uc790\", \"\\uc0dd\\uac01\", \"\\uc124\\uce58\", \"\\uc218\\uc900\", \"\\uc2e0\\ubd84\\uc99d\", \"\\uc4f0\\ub808\\uae30\", \"\\uc4f0\\ub808\\uae30\", \"\\uc4f0\\ub808\\uae30\", \"\\uc624\\ub958\", \"\\uc624\\ub958\", \"\\uc624\\ub958\", \"\\uc694\\uc998\", \"\\uc6b0\\ub9ac\\uc0ac\\uc8fc\", \"\\uc774\\ub3d9\", \"\\uc774\\ub3d9\", \"\\uc774\\uc0c1\", \"\\uc778\\uc99d\", \"\\uc778\\uc99d\", \"\\uc778\\uc99d\", \"\\uc778\\uc99d\\uc11c\", \"\\uc778\\uc99d\\uc11c\", \"\\uc785\\ub825\", \"\\uc785\\ub825\", \"\\uc815\\ubcf4\", \"\\uc815\\ubcf4\", \"\\uc870\\ud68c\", \"\\uc870\\ud68c\", \"\\uc870\\ud68c\", \"\\uc885\\ub8cc\", \"\\uc885\\ub8cc\", \"\\uc99d\\uad8c\\uc0ac\", \"\\uc9dc\\uc99d\", \"\\ucc98\\uc74c\", \"\\ucd5c\\uace0\", \"\\ucd5c\\uc545\", \"\\ud0c0\\uae30\\uad00\", \"\\ud14c\\uc2a4\\ud2b8\", \"\\ud3b8\\uc758\\uc131\", \"\\ud3b8\\uc758\\uc131\", \"\\ud544\\uc694\", \"\\ud55c\\uad6d\\uc99d\\uad8c\\uae08\\uc735\", \"\\ud55c\\uad6d\\uc99d\\uad8c\\uae08\\uc735\", \"\\ud55c\\uad6d\\uc99d\\uad8c\\uae08\\uc735\", \"\\ud68c\\uc0ac\", \"\\ud68c\\uc6d0\"]}, \"R\": 30, \"lambda.step\": 0.01, \"plot.opts\": {\"xlab\": \"PC1\", \"ylab\": \"PC2\"}, \"topic.order\": [3, 1, 2]};\n",
              "\n",
              "function LDAvis_load_lib(url, callback){\n",
              "  var s = document.createElement('script');\n",
              "  s.src = url;\n",
              "  s.async = true;\n",
              "  s.onreadystatechange = s.onload = callback;\n",
              "  s.onerror = function(){console.warn(\"failed to load library \" + url);};\n",
              "  document.getElementsByTagName(\"head\")[0].appendChild(s);\n",
              "}\n",
              "\n",
              "if(typeof(LDAvis) !== \"undefined\"){\n",
              "   // already loaded: just create the visualization\n",
              "   !function(LDAvis){\n",
              "       new LDAvis(\"#\" + \"ldavis_el60561333663323556642907234846\", ldavis_el60561333663323556642907234846_data);\n",
              "   }(LDAvis);\n",
              "}else if(typeof define === \"function\" && define.amd){\n",
              "   // require.js is available: use it to load d3/LDAvis\n",
              "   require.config({paths: {d3: \"https://d3js.org/d3.v5\"}});\n",
              "   require([\"d3\"], function(d3){\n",
              "      window.d3 = d3;\n",
              "      LDAvis_load_lib(\"https://cdn.jsdelivr.net/gh/bmabey/pyLDAvis@3.4.0/pyLDAvis/js/ldavis.v3.0.0.js\", function(){\n",
              "        new LDAvis(\"#\" + \"ldavis_el60561333663323556642907234846\", ldavis_el60561333663323556642907234846_data);\n",
              "      });\n",
              "    });\n",
              "}else{\n",
              "    // require.js not available: dynamically load d3 & LDAvis\n",
              "    LDAvis_load_lib(\"https://d3js.org/d3.v5.js\", function(){\n",
              "         LDAvis_load_lib(\"https://cdn.jsdelivr.net/gh/bmabey/pyLDAvis@3.4.0/pyLDAvis/js/ldavis.v3.0.0.js\", function(){\n",
              "                 new LDAvis(\"#\" + \"ldavis_el60561333663323556642907234846\", ldavis_el60561333663323556642907234846_data);\n",
              "            })\n",
              "         });\n",
              "}\n",
              "</script>"
            ]
          },
          "metadata": {},
          "execution_count": 20
        }
      ]
    },
    {
      "cell_type": "code",
      "source": [
        "pyLDAvis.save_html(vis_tfidf, RESULT_PATH + 'tfidf_lda_topic_visualization.html')"
      ],
      "metadata": {
        "id": "payIhXZjvjeA"
      },
      "execution_count": 21,
      "outputs": []
    },
    {
      "cell_type": "markdown",
      "source": [
        "## 5. Model Evaluation: Coherence and Perplexity\n",
        "We compute multiple topic quality metrics to determine the optimal number of topics (K):\n",
        "\n",
        "- **c_v:** Semantic coherence (higher is better)\n",
        "- **u_mass:** Statistical coherence (lower is better)\n",
        "- **log_perplexity:** Predictive performance (higher is better)\n",
        "- **Jaccard similarity:** Topic distinctiveness (lower overlap is better)"
      ],
      "metadata": {
        "id": "oI_-9IqrPlVU"
      }
    },
    {
      "cell_type": "code",
      "source": [
        "from sklearn.model_selection import train_test_split\n",
        "\n",
        "# Tokenized documents (each review is represented as a list of tokens)\n",
        "texts = NN_words            # e.g., [['로그인','오류'], ['인증서','발급',...], ...]\n",
        "id2word = dictionary        # gensim.corpora.Dictionary\n",
        "corpus_bow = corpus         # Bag-of-Words representation for all documents\n",
        "\n",
        "# --- Train/Test Split for Perplexity Evaluation ---\n",
        "# Split the corpus into 80% training and 20% testing sets (document-level split)\n",
        "train_idx, test_idx = train_test_split(\n",
        "    np.arange(len(corpus_bow)), test_size=0.2, random_state=RANDOM_STATE, shuffle=True\n",
        ")\n",
        "corpus_train = [corpus_bow[i] for i in train_idx]\n",
        "corpus_test  = [corpus_bow[i] for i in test_idx]\n",
        "texts_train  = [texts[i] for i in train_idx]\n",
        "\n",
        "def fit_lda(k, corpus_train, id2word, passes=PASSES, random_state=RANDOM_STATE):\n",
        "    \"\"\"Train an LDA model with a given number of topics (k).\"\"\"\n",
        "    return LdaModel(\n",
        "        corpus=corpus_train,\n",
        "        id2word=id2word,\n",
        "        num_topics=k,\n",
        "        passes=passes,\n",
        "        random_state=random_state,\n",
        "        alpha='auto', eta='auto'\n",
        "    )\n",
        "\n",
        "def compute_all_coherence(model, texts, id2word, corpus=None):\n",
        "    \"\"\"\n",
        "    Compute multiple coherence metrics for topic quality evaluation.\n",
        "      - c_v: semantic coherence (recommended)\n",
        "      - c_npmi / c_uci: pairwise word similarity based on co-occurrence\n",
        "      - u_mass: statistical coherence using document-level counts\n",
        "    \"\"\"\n",
        "    cm_cv   = CoherenceModel(model=model, texts=texts, dictionary=id2word, coherence='c_v')\n",
        "    cm_npmi = CoherenceModel(model=model, texts=texts, dictionary=id2word, coherence='c_npmi')\n",
        "    cm_uci  = CoherenceModel(model=model, texts=texts, dictionary=id2word, coherence='c_uci')\n",
        "    cm_umass= CoherenceModel(model=model, corpus=corpus, dictionary=id2word, coherence='u_mass')\n",
        "    return {\n",
        "        'c_v':    cm_cv.get_coherence(),\n",
        "        'c_npmi': cm_npmi.get_coherence(),\n",
        "        'c_uci':  cm_uci.get_coherence(),\n",
        "        'u_mass': cm_umass.get_coherence()\n",
        "    }\n",
        "\n",
        "def heldout_perplexity(model, corpus_test):\n",
        "    \"\"\"\n",
        "    Compute log-perplexity on the held-out (test) corpus.\n",
        "    - gensim provides log_perplexity, where higher values indicate better generalization.\n",
        "    - Although standard perplexity = exp(-log_likelihood / word_count),\n",
        "      comparing log_perplexity values is sufficient for model selection.\n",
        "    \"\"\"\n",
        "    return model.log_perplexity(corpus_test)  # Higher is better (log scale)\n",
        "\n",
        "# Range of topics (K) to evaluate — adjust based on dataset size\n",
        "K_MIN, K_MAX = 2, 10\n",
        "\n",
        "results = []\n",
        "for k in range(K_MIN, K_MAX+1):\n",
        "    # Train LDA model for a specific K\n",
        "    model = fit_lda(k, corpus_train, id2word, passes=PASSES, random_state=RANDOM_STATE)\n",
        "    # Compute coherence metrics for the training set\n",
        "    coh   = compute_all_coherence(model, texts_train, id2word, corpus=corpus_train)\n",
        "    # Compute log-perplexity for the held-out test set\n",
        "    ppl   = heldout_perplexity(model, corpus_test)\n",
        "\n",
        "    # Store results\n",
        "    results.append({\n",
        "        'k': k,\n",
        "        'c_v': coh['c_v'],\n",
        "        'c_npmi': coh['c_npmi'],\n",
        "        'c_uci': coh['c_uci'],\n",
        "        'u_mass': coh['u_mass'],  # 더 \"작을수록\" 좋음\n",
        "        'log_perplexity': ppl     # 더 \"클수록\" 좋음\n",
        "    })\n",
        "\n",
        "# Display the results as a DataFrame\n",
        "df_scores = pd.DataFrame(results)\n",
        "print(df_scores)"
      ],
      "metadata": {
        "colab": {
          "base_uri": "https://localhost:8080/"
        },
        "id": "f8SrEmF3Q2LP",
        "outputId": "78f9a3af-c08b-4308-aecc-d813a8188f9e"
      },
      "execution_count": 22,
      "outputs": [
        {
          "output_type": "stream",
          "name": "stdout",
          "text": [
            "    k       c_v    c_npmi      c_uci     u_mass  log_perplexity\n",
            "0   2  0.491419 -0.407851 -12.843314 -15.241921       -4.805770\n",
            "1   3  0.495302 -0.393176 -12.543322 -15.160978       -5.283421\n",
            "2   4  0.464690 -0.361468 -11.894244 -14.198631       -5.526242\n",
            "3   5  0.478132 -0.366944 -12.034824 -14.445866       -5.810734\n",
            "4   6  0.460078 -0.342081 -11.511433 -13.978566       -5.958948\n",
            "5   7  0.441304 -0.332900 -11.222333 -13.267586       -6.350875\n",
            "6   8  0.460854 -0.350382 -11.691849 -13.828177       -6.407340\n",
            "7   9  0.446443 -0.343461 -11.494654 -13.502001       -6.649445\n",
            "8  10  0.470413 -0.366226 -11.977423 -14.228060       -6.974742\n"
          ]
        }
      ]
    },
    {
      "cell_type": "code",
      "source": [
        "os.makedirs(RESULT_PATH, exist_ok=True)\n",
        "\n",
        "# K with the highest c_v value (for reference)\n",
        "k_cv_max = int(df_scores.loc[df_scores['c_v'].idxmax(), 'k'])\n",
        "k_hint = 3  # Recommended K based on this dataset (adjust or remove if desired)\n",
        "\n",
        "def _vline(k, xs):\n",
        "    if xs.min() <= k <= xs.max():\n",
        "        plt.axvline(k, linestyle='--', linewidth=1)\n",
        "\n",
        "def plot_metric(df, ycol, title, ylabel, fname):\n",
        "    xs = df['k'].values\n",
        "    ys = df[ycol].values\n",
        "    plt.figure(figsize=(7,4))\n",
        "    plt.plot(xs, ys, marker='o')\n",
        "    _vline(k_cv_max, df['k'])\n",
        "    _vline(k_hint, df['k'])\n",
        "    plt.title(title)\n",
        "    plt.xlabel('K (number of topics)')\n",
        "    plt.ylabel(ylabel)\n",
        "    plt.grid(True)\n",
        "    path = os.path.join(RESULT_PATH, fname)\n",
        "    plt.savefig(path, bbox_inches='tight')\n",
        "    print(f\"Saved: {path}\")\n",
        "    plt.show()\n",
        "\n",
        "# 1) c_v coherence — higher values indicate better topic coherence\n",
        "plot_metric(df_scores, 'c_v', 'Coherence (c_v) vs K', 'c_v', 'lda_c_v_vs_k.png')\n",
        "\n",
        "# 2) u_mass coherence — lower values indicate better topic quality\n",
        "plot_metric(df_scores, 'u_mass', 'Coherence (u_mass) vs K (lower is better)', 'u_mass', 'lda_u_mass_vs_k.png')\n",
        "\n",
        "# 3) Log Perplexity — higher (less negative) values indicate better generalization\n",
        "plot_metric(df_scores, 'log_perplexity', 'Log Perplexity vs K (higher is better)', 'log_perplexity', 'lda_logppl_vs_k.png')"
      ],
      "metadata": {
        "colab": {
          "base_uri": "https://localhost:8080/",
          "height": 1000
        },
        "id": "2iE9LobMeBFW",
        "outputId": "04b078f0-0ad2-4297-9cb8-b1beb6b343c7"
      },
      "execution_count": 23,
      "outputs": [
        {
          "output_type": "stream",
          "name": "stdout",
          "text": [
            "Saved: /content/drive/MyDrive/Result_Colab/lda_c_v_vs_k.png\n"
          ]
        },
        {
          "output_type": "display_data",
          "data": {
            "text/plain": [
              "<Figure size 700x400 with 1 Axes>"
            ],
            "image/png": "[encoded data removed]"
          },
          "metadata": {}
        },
        {
          "output_type": "stream",
          "name": "stdout",
          "text": [
            "Saved: /content/drive/MyDrive/Result_Colab/lda_u_mass_vs_k.png\n"
          ]
        },
        {
          "output_type": "display_data",
          "data": {
            "text/plain": [
              "<Figure size 700x400 with 1 Axes>"
            ],
            "image/png": "[encoded data removed]"
          },
          "metadata": {}
        },
        {
          "output_type": "stream",
          "name": "stdout",
          "text": [
            "Saved: /content/drive/MyDrive/Result_Colab/lda_logppl_vs_k.png\n"
          ]
        },
        {
          "output_type": "display_data",
          "data": {
            "text/plain": [
              "<Figure size 700x400 with 1 Axes>"
            ],
            "image/png": "[encoded data removed]"
          },
          "metadata": {}
        }
      ]
    },
    {
      "cell_type": "markdown",
      "source": [
        "## Interpretation Tips\n",
        "* **c_v / c_npmi / c_uci:** Higher values indicate better topic coherence.  \n",
        "* **u_mass:** Lower values (usually negative) indicate better topic quality.  \n",
        "* **log_perplexity:** Higher (less negative) values indicate better generalization.  \n",
        "* In practice, choose the number of topics **K** where **c_v** reaches a peak  \n",
        "  and **log_perplexity** does not deteriorate significantly — the so-called *“elbow point.”*"
      ],
      "metadata": {
        "id": "DolftwprRI4r"
      }
    },
    {
      "cell_type": "code",
      "source": [
        "def topic_top_words(model, topn=15):\n",
        "    \"\"\"\n",
        "    Return the top-N words for each topic of a trained LDA model.\n",
        "    Parameters\n",
        "    ----------\n",
        "    model : gensim.models.LdaModel\n",
        "        Trained LDA model.\n",
        "    topn : int\n",
        "        Number of top terms to extract per topic.\n",
        "    Returns\n",
        "    -------\n",
        "    List[List[str]]\n",
        "        A list where each element is the list of top terms for a topic.\n",
        "    \"\"\"\n",
        "    topics = []\n",
        "    for t in range(model.num_topics):\n",
        "        terms = model.show_topic(t, topn=topn)\n",
        "        topics.append([w for w, _ in terms])\n",
        "    return topics\n",
        "\n",
        "def avg_jaccard_over_topics(topics):\n",
        "    \"\"\"\n",
        "    Compute the average Jaccard similarity across all pairs of topics.\n",
        "    Lower values indicate less overlap (better topic distinctiveness).\n",
        "    Parameters\n",
        "    ----------\n",
        "    topics : List[List[str]]\n",
        "        List of topic term lists (e.g., output of topic_top_words()).\n",
        "    Returns\n",
        "    -------\n",
        "    float\n",
        "        Mean Jaccard similarity across topic pairs. Returns 0.0 if <2 topics.\n",
        "    \"\"\"\n",
        "    from itertools import combinations\n",
        "    sims, pairs = [], 0\n",
        "    for a, b in combinations(topics, 2):\n",
        "        A, B = set(a), set(b)\n",
        "        j = len(A & B) / max(1, len(A | B))\n",
        "        sims.append(j); pairs += 1\n",
        "    return np.mean(sims) if pairs else 0.0\n",
        "\n",
        "# Evaluate model coherence and perplexity for K=2–10\n",
        "dup_rows = []\n",
        "for k in range(K_MIN, K_MAX+1):\n",
        "    # Fit an LDA model with K topics on the training corpus\n",
        "    m = fit_lda(k, corpus_train, id2word, passes=PASSES, random_state=RANDOM_STATE)\n",
        "    # Extract top terms per topic (use the same topn across K for fair comparison)\n",
        "    topics = topic_top_words(m, topn=15)\n",
        "    # Compute average Jaccard similarity (lower is better — fewer overlapping topics)\n",
        "    dup_rows.append({'k': k, 'avg_jaccard': avg_jaccard_over_topics(topics)})\n",
        "\n",
        "# Summarize redundancy scores by K\n",
        "df_dup = pd.DataFrame(dup_rows)\n",
        "print(df_dup)"
      ],
      "metadata": {
        "colab": {
          "base_uri": "https://localhost:8080/"
        },
        "id": "6MgfO8SDQ-ef",
        "outputId": "cd65d871-83ea-488c-b910-8faaef1f10dc"
      },
      "execution_count": 24,
      "outputs": [
        {
          "output_type": "stream",
          "name": "stdout",
          "text": [
            "    k  avg_jaccard\n",
            "0   2     0.034483\n",
            "1   3     0.034483\n",
            "2   4     0.065727\n",
            "3   5     0.077317\n",
            "4   6     0.097560\n",
            "5   7     0.126233\n",
            "6   8     0.115672\n",
            "7   9     0.133182\n",
            "8  10     0.126616\n"
          ]
        }
      ]
    },
    {
      "cell_type": "markdown",
      "source": [
        "When the number of topics is too high, similar or overlapping topics tend to appear.  \n",
        "Prefer a value of **K** that minimizes redundancy, as measured by the **Jaccard similarity** between top words across topics."
      ],
      "metadata": {
        "id": "86hfzLI2RWmQ"
      }
    },
    {
      "cell_type": "code",
      "source": [
        "os.makedirs(RESULT_PATH, exist_ok=True)\n",
        "\n",
        "# Models with lower Jaccard similarity indicate less redundancy (i.e., more distinct topics)\n",
        "k_min_jaccard = int(df_dup.loc[df_dup['avg_jaccard'].idxmin(), 'k'])\n",
        "k_hint = 3  # Empirical reference value for K (optional)\n",
        "\n",
        "plt.figure(figsize=(7,4))\n",
        "plt.plot(df_dup['k'], df_dup['avg_jaccard'], marker='o', color='orange')\n",
        "plt.title('Average Jaccard Similarity between Topics vs K')\n",
        "plt.xlabel('K (number of topics)')\n",
        "plt.ylabel('Avg. Jaccard (lower is better)')\n",
        "plt.grid(True)\n",
        "\n",
        "# Draw vertical reference lines\n",
        "plt.axvline(k_min_jaccard, linestyle='--', color='red', linewidth=1, label=f\"min Jaccard @ K={k_min_jaccard}\")\n",
        "plt.axvline(k_hint, linestyle='--', color='gray', linewidth=1, label=f\"Hint K={k_hint}\")\n",
        "plt.legend()\n",
        "\n",
        "# Save the plot\n",
        "path_jacc = os.path.join(RESULT_PATH, 'lda_avg_jaccard_vs_k.png')\n",
        "plt.savefig(path_jacc, bbox_inches='tight')\n",
        "print(f\"Saved: {path_jacc}\")\n",
        "\n",
        "plt.show()"
      ],
      "metadata": {
        "colab": {
          "base_uri": "https://localhost:8080/",
          "height": 427
        },
        "id": "T1JT48-veoK7",
        "outputId": "616d75b4-9033-4969-fca7-74b00d395a19"
      },
      "execution_count": 25,
      "outputs": [
        {
          "output_type": "stream",
          "name": "stdout",
          "text": [
            "Saved: /content/drive/MyDrive/Result_Colab/lda_avg_jaccard_vs_k.png\n"
          ]
        },
        {
          "output_type": "display_data",
          "data": {
            "text/plain": [
              "<Figure size 700x400 with 1 Axes>"
            ],
            "image/png": "[encoded data removed]"
          },
          "metadata": {}
        }
      ]
    },
    {
      "cell_type": "markdown",
      "source": [
        "## Interpretation Tips\n",
        "* Lower avg_jaccard → less overlap between topics (better model)\n",
        "* Red dashed line = K with minimum Jaccard similarity\n",
        "* Gray dashed line = empirically good value (e.g., K=3)\n",
        "* If the curve rises gradually or shows an inflection, choose K near that region as the optimal number of topics\n",
        "* Lower avg_jaccard → fewer overlapping top words between topics (less redundancy)\n",
        "* If coherence scores are similar, prefer the model with lower avg_jaccard → it represents more distinct and interpretable topics."
      ],
      "metadata": {
        "id": "t7UNwcJNexU4"
      }
    },
    {
      "cell_type": "markdown",
      "source": [
        "#6. Topic Label Interpretation\n",
        "* This step summarizes the dominant keywords.\n",
        "* It helps evaluate whether the automatically labeled topics are semantically distinct."
      ],
      "metadata": {
        "id": "CSsZxLErRbL-"
      }
    },
    {
      "cell_type": "code",
      "source": [
        "os.makedirs(RESULT_PATH, exist_ok=True)\n",
        "\n",
        "# 1) Train Word2Vec (for small corpora, min_count=1 is recommended)\n",
        "w2v = Word2Vec(\n",
        "    sentences=NN_words,\n",
        "    vector_size=200,\n",
        "    window=5,\n",
        "    min_count=1,\n",
        "    sg=1,              # skip-gram\n",
        "    workers=2,\n",
        "    seed=42\n",
        ")\n",
        "\n",
        "def _centroid(vecs, weights):\n",
        "    \"\"\"Compute a weighted centroid of vectors.\"\"\"\n",
        "    M = np.zeros_like(vecs[0])\n",
        "    wsum = 0.0\n",
        "    for v, w in zip(vecs, weights):\n",
        "        M += v * w\n",
        "        wsum += w\n",
        "    return M / max(wsum, 1e-9)\n",
        "\n",
        "def topic_top_terms(model, topn=15):\n",
        "    \"\"\"\n",
        "    Return top-(topn) (term, weight) pairs for every topic of a trained LDA model.\n",
        "    \"\"\"\n",
        "    topics = {}\n",
        "    for t in range(model.num_topics):\n",
        "        topics[t] = model.show_topic(t, topn=topn)  # list[(term, weight)]\n",
        "    return topics\n",
        "\n",
        "def auto_topic_label(model, w2v, term_to_tag=None, topn_terms=15):\n",
        "    \"\"\"\n",
        "    Automatically select a single representative label per topic by combining:\n",
        "      (1) top-N LDA terms for that topic (with their weights),\n",
        "      (2) Word2Vec similarity to the topic's weighted centroid,\n",
        "      (3) optional domain lexicon bonus (if term exists in term_to_tag).\n",
        "\n",
        "    Returns\n",
        "    -------\n",
        "    dict[int, str]\n",
        "        {topic_id: label_term}\n",
        "    \"\"\"\n",
        "    topics = topic_top_terms(model, topn=topn_terms)\n",
        "    labels = {}\n",
        "    vocab = set(w2v.wv.index_to_key)\n",
        "\n",
        "    for t, pairs in topics.items():\n",
        "        # Keep only terms that exist in Word2Vec vocab\n",
        "        terms   = [w for w, wt in pairs if w in vocab]\n",
        "        weights = [wt for w, wt in pairs if w in vocab]\n",
        "\n",
        "        # Compute topic centroid in embedding space\n",
        "        center = None\n",
        "        if terms:\n",
        "            vecs = [w2v.wv[w] for w in terms]\n",
        "            center = _centroid(vecs, weights)\n",
        "\n",
        "        # Candidate pool = domain terms (if provided) + top LDA terms\n",
        "        cand = []\n",
        "        if term_to_tag:\n",
        "            cand.extend([w for w in term_to_tag.keys() if w in vocab])\n",
        "        cand.extend(terms)\n",
        "\n",
        "        # Deduplicate and keep length >= 2\n",
        "        seen = set()\n",
        "        candidates = [c for c in cand if len(c) >= 2 and (c not in seen and not seen.add(c))]\n",
        "        if not candidates:\n",
        "            labels[t] = pairs[0][0] if pairs else f\"Topic{t}\"\n",
        "            continue\n",
        "\n",
        "        # Score = cosine(center, c) + LDA weight bonus + domain lexicon bonus\n",
        "        scored = []\n",
        "        for c in candidates:\n",
        "            s = 0.0\n",
        "            if center is not None and c in vocab:\n",
        "                s += float(np.dot(center, w2v.wv[c]) / (np.linalg.norm(center) * np.linalg.norm(w2v.wv[c]) + 1e-9))\n",
        "            # add LDA weight bonus if c is among top terms\n",
        "            if c in [w for w, _ in pairs]:\n",
        "                s += next(wt for w, wt in pairs if w == c)\n",
        "            # add small domain bonus\n",
        "            if term_to_tag and c in term_to_tag:\n",
        "                s += 0.05\n",
        "            scored.append((c, s))\n",
        "\n",
        "        label = sorted(scored, key=lambda x: x[1], reverse=True)[0][0]\n",
        "        labels[t] = label\n",
        "\n",
        "    return labels"
      ],
      "metadata": {
        "id": "1RyGU47FbfzI"
      },
      "execution_count": 26,
      "outputs": []
    },
    {
      "cell_type": "code",
      "source": [
        "# 2) Generate labels for K=3 (assumes lda_bow was trained with NUM_TOPICS=3)\n",
        "topic_labels = auto_topic_label(lda_bow, w2v, term_to_tag=TERM_TO_TAG, topn_terms=15)\n",
        "print(\"Topic Labels (K=3):\", topic_labels)"
      ],
      "metadata": {
        "colab": {
          "base_uri": "https://localhost:8080/"
        },
        "id": "JKXTYAzLr4Ni",
        "outputId": "251c0fa8-ff9c-4b6e-d32c-d792258ac617"
      },
      "execution_count": 27,
      "outputs": [
        {
          "output_type": "stream",
          "name": "stdout",
          "text": [
            "Topic Labels (K=3): {0: '로그인', 1: '인증', 2: '가입'}\n"
          ]
        }
      ]
    },
    {
      "cell_type": "code",
      "source": [
        "# 3) Build a document-level dominant-topic report (with labels)\n",
        "def doc_topic_report(model, corpus, texts, topn_words=10, labels=None):\n",
        "    \"\"\"\n",
        "    Create a DataFrame with each document's dominant topic, probability, topic label, and previews.\n",
        "    \"\"\"\n",
        "    rows = []\n",
        "    topic_terms = {t: [w for w, _ in model.show_topic(t, topn=topn_words)]\n",
        "                   for t in range(model.num_topics)}\n",
        "    for i, bow in enumerate(corpus):\n",
        "        dist = model.get_document_topics(bow, minimum_probability=0.0)\n",
        "        dom_topic, dom_prob = max(dist, key=lambda x: x[1])\n",
        "        rows.append({\n",
        "            \"doc_id\": i,\n",
        "            \"dominant_topic\": dom_topic,\n",
        "            \"topic_label\": labels.get(dom_topic, f\"Topic{dom_topic}\") if labels else f\"Topic{dom_topic}\",\n",
        "            \"dominant_prob\": round(dom_prob, 4),\n",
        "            \"top_terms_of_topic\": ','.join(topic_terms[dom_topic]),\n",
        "            \"tokens_preview\": ' '.join(texts[i][:20]),\n",
        "        })\n",
        "    return pd.DataFrame(rows)\n",
        "\n",
        "df_dom = doc_topic_report(lda_bow, corpus, NN_words, topn_words=NUM_WORDS, labels=topic_labels)\n",
        "\n",
        "# Save per-document dominant topic table\n",
        "path_dom = os.path.join(RESULT_PATH, \"lda_k3_dominant_topics.csv\")\n",
        "df_dom.to_csv(path_dom, index=False, encoding='utf-8-sig')\n",
        "print(\"Saved:\", path_dom)"
      ],
      "metadata": {
        "colab": {
          "base_uri": "https://localhost:8080/"
        },
        "id": "ULVMir-er6wY",
        "outputId": "705b6938-51e4-4f62-f4ed-160ffbfc815f"
      },
      "execution_count": 28,
      "outputs": [
        {
          "output_type": "stream",
          "name": "stdout",
          "text": [
            "Saved: /content/drive/MyDrive/Result_Colab/lda_k3_dominant_topics.csv\n"
          ]
        }
      ]
    },
    {
      "cell_type": "code",
      "source": [
        "# 4) Topic-level summary (document count / top terms / label)\n",
        "summary_rows = []\n",
        "for t in range(lda_bow.num_topics):\n",
        "    cnt = int((df_dom[\"dominant_topic\"] == t).sum())\n",
        "    terms = lda_bow.show_topic(t, topn=NUM_WORDS)\n",
        "    summary_rows.append({\n",
        "        \"topic_id\": t,\n",
        "        \"topic_label\": topic_labels.get(t, f\"Topic{t}\"),\n",
        "        \"doc_count\": cnt,\n",
        "        \"top_terms\": ','.join([w for w, _ in terms])\n",
        "    })\n",
        "df_summary = pd.DataFrame(summary_rows).sort_values(\"doc_count\", ascending=False)\n",
        "\n",
        "path_sum = os.path.join(RESULT_PATH, \"lda_k3_topic_summary.csv\")\n",
        "df_summary.to_csv(path_sum, index=False, encoding='utf-8-sig')\n",
        "print(\"Saved:\", path_sum)"
      ],
      "metadata": {
        "colab": {
          "base_uri": "https://localhost:8080/"
        },
        "id": "RUP4dc6Ir83s",
        "outputId": "e9cc8fc9-4cdf-4132-8b97-b01eb89e7d7f"
      },
      "execution_count": 29,
      "outputs": [
        {
          "output_type": "stream",
          "name": "stdout",
          "text": [
            "Saved: /content/drive/MyDrive/Result_Colab/lda_k3_topic_summary.csv\n"
          ]
        }
      ]
    },
    {
      "cell_type": "code",
      "source": [
        "# 5) (Optional) Save per-topic document subsets\n",
        "for t in range(lda_bow.num_topics):\n",
        "    df_t = df_dom[df_dom[\"dominant_topic\"] == t].copy()\n",
        "    out_t = os.path.join(RESULT_PATH, f\"lda_k3_topic{t}_{topic_labels.get(t, f'Topic{t}')}.csv\")\n",
        "    df_t.to_csv(out_t, index=False, encoding='utf-8-sig')\n",
        "    print(\"Saved:\", out_t)"
      ],
      "metadata": {
        "colab": {
          "base_uri": "https://localhost:8080/"
        },
        "id": "LymVrnHmr-Xg",
        "outputId": "5d2887fd-5183-4dc4-ef2e-16c875b55ba4"
      },
      "execution_count": 30,
      "outputs": [
        {
          "output_type": "stream",
          "name": "stdout",
          "text": [
            "Saved: /content/drive/MyDrive/Result_Colab/lda_k3_topic0_로그인.csv\n",
            "Saved: /content/drive/MyDrive/Result_Colab/lda_k3_topic1_인증.csv\n",
            "Saved: /content/drive/MyDrive/Result_Colab/lda_k3_topic2_가입.csv\n"
          ]
        }
      ]
    }
  ]
}